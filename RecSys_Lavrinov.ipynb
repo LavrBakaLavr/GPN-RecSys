{
 "cells": [
  {
   "cell_type": "markdown",
   "metadata": {},
   "source": [
    "# Рекомендательная система\n",
    "### Автор: Лавринов Максим"
   ]
  },
  {
   "cell_type": "markdown",
   "metadata": {},
   "source": [
    "## Знакомство с данными, предобработка данных"
   ]
  },
  {
   "cell_type": "markdown",
   "metadata": {},
   "source": [
    "Читаем предоставленные данные. Ниже представлены две ячейки: для чтения в Google Collab и для чтения на компьютере. "
   ]
  },
  {
   "cell_type": "code",
   "execution_count": 4,
   "metadata": {
    "colab": {
     "base_uri": "https://localhost:8080/"
    },
    "id": "t9QY_fXn0VES",
    "outputId": "e5895327-08e6-44ca-d371-cdbfe53b86d2"
   },
   "outputs": [
    {
     "name": "stdout",
     "output_type": "stream",
     "text": [
      "Drive already mounted at /content/drive; to attempt to forcibly remount, call drive.mount(\"/content/drive\", force_remount=True).\n"
     ]
    }
   ],
   "source": [
    "from google.colab import drive\n",
    "drive.mount('/content/drive')\n",
    "\n",
    "import pandas as pd\n",
    "\n",
    "nomenclature = pd.read_parquet('/content/drive/MyDrive/nomenclature.parquet')\n",
    "submission_example = pd.read_parquet('/content/drive/MyDrive/submission-example.parquet')\n",
    "transactions = pd.read_parquet('/content/drive/MyDrive/transactions.parquet')\n",
    "transactions_for_submission = pd.read_parquet('/content/drive/MyDrive/transactions-for_submission.parquet')"
   ]
  },
  {
   "cell_type": "code",
   "execution_count": 4,
   "metadata": {
    "id": "qD-6Djv-SzT6"
   },
   "outputs": [],
   "source": [
    "import pandas as pd\n",
    "\n",
    "nomenclature = pd.read_parquet('nomenclature.parquet')\n",
    "submission_example = pd.read_parquet('submission-example.parquet')\n",
    "transactions = pd.read_parquet('transactions.parquet')\n",
    "transactions_for_submission = pd.read_parquet('transactions-for_submission.parquet')"
   ]
  },
  {
   "cell_type": "markdown",
   "metadata": {},
   "source": [
    "#### Рассмотрим файл nomenclature.parquet . "
   ]
  },
  {
   "cell_type": "markdown",
   "metadata": {
    "id": "vAb0esWP0VEU"
   },
   "source": [
    "sku_id – уникальный идентификатор товара\n",
    "<br>full_name – полное наименование товара\n",
    "<br>brand – наименование торговой марки\n",
    "<br>sku_group – группа, к которой принадлежит товар\n",
    "<br>OTM – признак собственной торговой марки\n",
    "<br>units – единица измерения для количества \n",
    "<br>country – страна производства товара"
   ]
  },
  {
   "cell_type": "code",
   "execution_count": 6,
   "metadata": {
    "colab": {
     "base_uri": "https://localhost:8080/",
     "height": 204
    },
    "id": "tO84JjZE0VEW",
    "outputId": "ab3327c9-9468-4bf0-de50-48a6d0a56209"
   },
   "outputs": [
    {
     "data": {
      "text/html": [
       "<div>\n",
       "<style scoped>\n",
       "    .dataframe tbody tr th:only-of-type {\n",
       "        vertical-align: middle;\n",
       "    }\n",
       "\n",
       "    .dataframe tbody tr th {\n",
       "        vertical-align: top;\n",
       "    }\n",
       "\n",
       "    .dataframe thead th {\n",
       "        text-align: right;\n",
       "    }\n",
       "</style>\n",
       "<table border=\"1\" class=\"dataframe\">\n",
       "  <thead>\n",
       "    <tr style=\"text-align: right;\">\n",
       "      <th></th>\n",
       "      <th>sku_id</th>\n",
       "      <th>full_name</th>\n",
       "      <th>brand</th>\n",
       "      <th>sku_group</th>\n",
       "      <th>OTM</th>\n",
       "      <th>units</th>\n",
       "      <th>country</th>\n",
       "    </tr>\n",
       "  </thead>\n",
       "  <tbody>\n",
       "    <tr>\n",
       "      <th>0</th>\n",
       "      <td>0</td>\n",
       "      <td>Масло Lubricrol Magnatec Diesel 10W-40 B4 1л</td>\n",
       "      <td>Lubricrol</td>\n",
       "      <td>Масла моторные (для варповых двигателей)</td>\n",
       "      <td>Нет</td>\n",
       "      <td>unknown</td>\n",
       "      <td>ГЕРМАНИЯ</td>\n",
       "    </tr>\n",
       "    <tr>\n",
       "      <th>1</th>\n",
       "      <td>723</td>\n",
       "      <td>Трос УранПРОМEthereum буксировочный 4500кг</td>\n",
       "      <td>УранПРОМEthereum</td>\n",
       "      <td>Автотовары</td>\n",
       "      <td>Да</td>\n",
       "      <td>шт</td>\n",
       "      <td>РОССИЯ</td>\n",
       "    </tr>\n",
       "    <tr>\n",
       "      <th>2</th>\n",
       "      <td>3397</td>\n",
       "      <td>Накидка УранПРОМEthereum на спинку автосиденья...</td>\n",
       "      <td>УранПРОМEthereum</td>\n",
       "      <td>Автотовары</td>\n",
       "      <td>Да</td>\n",
       "      <td>шт</td>\n",
       "      <td>unknown</td>\n",
       "    </tr>\n",
       "    <tr>\n",
       "      <th>3</th>\n",
       "      <td>2130</td>\n",
       "      <td>Жилет УранПРОМEthereum световозвращающий</td>\n",
       "      <td>УранПРОМEthereum</td>\n",
       "      <td>Автотовары</td>\n",
       "      <td>Да</td>\n",
       "      <td>шт</td>\n",
       "      <td>unknown</td>\n",
       "    </tr>\n",
       "    <tr>\n",
       "      <th>4</th>\n",
       "      <td>3150</td>\n",
       "      <td>Провода УранПРОМEthereum для прикуривания 200А</td>\n",
       "      <td>УранПРОМEthereum</td>\n",
       "      <td>Автотовары</td>\n",
       "      <td>Да</td>\n",
       "      <td>шт</td>\n",
       "      <td>РОССИЯ</td>\n",
       "    </tr>\n",
       "  </tbody>\n",
       "</table>\n",
       "</div>"
      ],
      "text/plain": [
       "   sku_id                                          full_name  ...    units   country\n",
       "0       0       Масло Lubricrol Magnatec Diesel 10W-40 B4 1л  ...  unknown  ГЕРМАНИЯ\n",
       "1     723         Трос УранПРОМEthereum буксировочный 4500кг  ...       шт    РОССИЯ\n",
       "2    3397  Накидка УранПРОМEthereum на спинку автосиденья...  ...       шт   unknown\n",
       "3    2130           Жилет УранПРОМEthereum световозвращающий  ...       шт   unknown\n",
       "4    3150     Провода УранПРОМEthereum для прикуривания 200А  ...       шт    РОССИЯ\n",
       "\n",
       "[5 rows x 7 columns]"
      ]
     },
     "execution_count": 6,
     "metadata": {},
     "output_type": "execute_result"
    }
   ],
   "source": [
    "nomenclature.head()"
   ]
  },
  {
   "cell_type": "markdown",
   "metadata": {},
   "source": [
    "Получим информацию о файле. Обратим внимание на то, что некоторые поля в файле не заполнены"
   ]
  },
  {
   "cell_type": "code",
   "execution_count": 7,
   "metadata": {
    "colab": {
     "base_uri": "https://localhost:8080/"
    },
    "id": "PqVzPLnF0VEY",
    "outputId": "fe146112-6787-4c53-b927-3a80092c74e6"
   },
   "outputs": [
    {
     "name": "stdout",
     "output_type": "stream",
     "text": [
      "<class 'pandas.core.frame.DataFrame'>\n",
      "RangeIndex: 5103 entries, 0 to 5102\n",
      "Data columns (total 7 columns):\n",
      " #   Column     Non-Null Count  Dtype \n",
      "---  ------     --------------  ----- \n",
      " 0   sku_id     5103 non-null   int64 \n",
      " 1   full_name  5094 non-null   object\n",
      " 2   brand      5094 non-null   object\n",
      " 3   sku_group  5103 non-null   object\n",
      " 4   OTM        5094 non-null   object\n",
      " 5   units      5094 non-null   object\n",
      " 6   country    5094 non-null   object\n",
      "dtypes: int64(1), object(6)\n",
      "memory usage: 279.2+ KB\n"
     ]
    }
   ],
   "source": [
    "nomenclature.info()"
   ]
  },
  {
   "cell_type": "markdown",
   "metadata": {},
   "source": [
    "Для начала посмотрим, какие из товаров в файле не имеют названия."
   ]
  },
  {
   "cell_type": "code",
   "execution_count": 9,
   "metadata": {
    "colab": {
     "base_uri": "https://localhost:8080/",
     "height": 328
    },
    "id": "XTFN6HT90VEZ",
    "outputId": "ae0be5e5-d0ea-4d75-d0d4-c6545b0a5528"
   },
   "outputs": [
    {
     "data": {
      "text/html": [
       "<div>\n",
       "<style scoped>\n",
       "    .dataframe tbody tr th:only-of-type {\n",
       "        vertical-align: middle;\n",
       "    }\n",
       "\n",
       "    .dataframe tbody tr th {\n",
       "        vertical-align: top;\n",
       "    }\n",
       "\n",
       "    .dataframe thead th {\n",
       "        text-align: right;\n",
       "    }\n",
       "</style>\n",
       "<table border=\"1\" class=\"dataframe\">\n",
       "  <thead>\n",
       "    <tr style=\"text-align: right;\">\n",
       "      <th></th>\n",
       "      <th>sku_id</th>\n",
       "      <th>full_name</th>\n",
       "      <th>brand</th>\n",
       "      <th>sku_group</th>\n",
       "      <th>OTM</th>\n",
       "      <th>units</th>\n",
       "      <th>country</th>\n",
       "    </tr>\n",
       "  </thead>\n",
       "  <tbody>\n",
       "    <tr>\n",
       "      <th>3724</th>\n",
       "      <td>1158</td>\n",
       "      <td>None</td>\n",
       "      <td>None</td>\n",
       "      <td>Ethereum 92</td>\n",
       "      <td>None</td>\n",
       "      <td>None</td>\n",
       "      <td>None</td>\n",
       "    </tr>\n",
       "    <tr>\n",
       "      <th>3727</th>\n",
       "      <td>1157</td>\n",
       "      <td>None</td>\n",
       "      <td>None</td>\n",
       "      <td>Ethereum 95 бренд</td>\n",
       "      <td>None</td>\n",
       "      <td>None</td>\n",
       "      <td>None</td>\n",
       "    </tr>\n",
       "    <tr>\n",
       "      <th>3728</th>\n",
       "      <td>1163</td>\n",
       "      <td>None</td>\n",
       "      <td>None</td>\n",
       "      <td>Топливо варповое с присадками летнее</td>\n",
       "      <td>None</td>\n",
       "      <td>None</td>\n",
       "      <td>None</td>\n",
       "    </tr>\n",
       "    <tr>\n",
       "      <th>3771</th>\n",
       "      <td>1160</td>\n",
       "      <td>None</td>\n",
       "      <td>None</td>\n",
       "      <td>Топливо варповое зимнее</td>\n",
       "      <td>None</td>\n",
       "      <td>None</td>\n",
       "      <td>None</td>\n",
       "    </tr>\n",
       "    <tr>\n",
       "      <th>3787</th>\n",
       "      <td>1159</td>\n",
       "      <td>None</td>\n",
       "      <td>None</td>\n",
       "      <td>Ethereum 95</td>\n",
       "      <td>None</td>\n",
       "      <td>None</td>\n",
       "      <td>None</td>\n",
       "    </tr>\n",
       "    <tr>\n",
       "      <th>3825</th>\n",
       "      <td>1162</td>\n",
       "      <td>None</td>\n",
       "      <td>None</td>\n",
       "      <td>Топливо варповое с присадками зимнее</td>\n",
       "      <td>None</td>\n",
       "      <td>None</td>\n",
       "      <td>None</td>\n",
       "    </tr>\n",
       "    <tr>\n",
       "      <th>3858</th>\n",
       "      <td>2032</td>\n",
       "      <td>None</td>\n",
       "      <td>None</td>\n",
       "      <td>Ethereum 100 бренд</td>\n",
       "      <td>None</td>\n",
       "      <td>None</td>\n",
       "      <td>None</td>\n",
       "    </tr>\n",
       "    <tr>\n",
       "      <th>4407</th>\n",
       "      <td>1161</td>\n",
       "      <td>None</td>\n",
       "      <td>None</td>\n",
       "      <td>Топливо варповое летнее</td>\n",
       "      <td>None</td>\n",
       "      <td>None</td>\n",
       "      <td>None</td>\n",
       "    </tr>\n",
       "    <tr>\n",
       "      <th>4922</th>\n",
       "      <td>1771</td>\n",
       "      <td>None</td>\n",
       "      <td>None</td>\n",
       "      <td>Топливо варповое с присадками межсезонное</td>\n",
       "      <td>None</td>\n",
       "      <td>None</td>\n",
       "      <td>None</td>\n",
       "    </tr>\n",
       "  </tbody>\n",
       "</table>\n",
       "</div>"
      ],
      "text/plain": [
       "      sku_id full_name brand  ...   OTM units country\n",
       "3724    1158      None  None  ...  None  None    None\n",
       "3727    1157      None  None  ...  None  None    None\n",
       "3728    1163      None  None  ...  None  None    None\n",
       "3771    1160      None  None  ...  None  None    None\n",
       "3787    1159      None  None  ...  None  None    None\n",
       "3825    1162      None  None  ...  None  None    None\n",
       "3858    2032      None  None  ...  None  None    None\n",
       "4407    1161      None  None  ...  None  None    None\n",
       "4922    1771      None  None  ...  None  None    None\n",
       "\n",
       "[9 rows x 7 columns]"
      ]
     },
     "execution_count": 9,
     "metadata": {},
     "output_type": "execute_result"
    }
   ],
   "source": [
    "nomenclature[nomenclature['full_name'].isna()]"
   ]
  },
  {
   "cell_type": "markdown",
   "metadata": {},
   "source": [
    "Как видно из предыдущего шага, товары, которые не имеют названия, также не имеют бренда, признака ОТМ, единиц измерения и страны производителя. Судя по группе товара, это различные марки топлива. Только эти девять товаров имеют пропущенные значения."
   ]
  },
  {
   "cell_type": "markdown",
   "metadata": {},
   "source": [
    "#### Рассмотрим файл transactions.parquet"
   ]
  },
  {
   "cell_type": "markdown",
   "metadata": {
    "id": "hZR34vX90VEa"
   },
   "source": [
    "sku_id – уникальный идентификатор товара\n",
    "<br>price – цена, по которой был продан товар\n",
    "<br>number – количество товаров (если не топливо) \n",
    "<br>cheque_id – уникальный идентификатор чека\n",
    "<br>litrs – количество литров (если товар - топливо)\n",
    "<br>client_id – уникальный идентификатор клиента (если клиент «представился» при покупке)\n",
    "<br>shop_id – уникальный идентификатор магазина\n",
    "<br>date – дата транзакции"
   ]
  },
  {
   "cell_type": "code",
   "execution_count": 17,
   "metadata": {
    "colab": {
     "base_uri": "https://localhost:8080/",
     "height": 204
    },
    "id": "TdURzhWN0VEb",
    "outputId": "78fea38e-af6f-4c9f-b01e-bfbcc3314898"
   },
   "outputs": [
    {
     "data": {
      "text/html": [
       "<div>\n",
       "<style scoped>\n",
       "    .dataframe tbody tr th:only-of-type {\n",
       "        vertical-align: middle;\n",
       "    }\n",
       "\n",
       "    .dataframe tbody tr th {\n",
       "        vertical-align: top;\n",
       "    }\n",
       "\n",
       "    .dataframe thead th {\n",
       "        text-align: right;\n",
       "    }\n",
       "</style>\n",
       "<table border=\"1\" class=\"dataframe\">\n",
       "  <thead>\n",
       "    <tr style=\"text-align: right;\">\n",
       "      <th></th>\n",
       "      <th>sku_id</th>\n",
       "      <th>price</th>\n",
       "      <th>number</th>\n",
       "      <th>cheque_id</th>\n",
       "      <th>litrs</th>\n",
       "      <th>client_id</th>\n",
       "      <th>shop_id</th>\n",
       "      <th>date</th>\n",
       "    </tr>\n",
       "  </thead>\n",
       "  <tbody>\n",
       "    <tr>\n",
       "      <th>7620114</th>\n",
       "      <td>1159</td>\n",
       "      <td>0.002496</td>\n",
       "      <td>0.0</td>\n",
       "      <td>2262516</td>\n",
       "      <td>0.114416</td>\n",
       "      <td>83585.0</td>\n",
       "      <td>96</td>\n",
       "      <td>2171-03-01</td>\n",
       "    </tr>\n",
       "    <tr>\n",
       "      <th>7620115</th>\n",
       "      <td>1159</td>\n",
       "      <td>0.002512</td>\n",
       "      <td>0.0</td>\n",
       "      <td>2857410</td>\n",
       "      <td>0.145132</td>\n",
       "      <td>54793.0</td>\n",
       "      <td>84</td>\n",
       "      <td>2171-03-01</td>\n",
       "    </tr>\n",
       "    <tr>\n",
       "      <th>7620116</th>\n",
       "      <td>1159</td>\n",
       "      <td>0.002522</td>\n",
       "      <td>0.0</td>\n",
       "      <td>1814506</td>\n",
       "      <td>0.134552</td>\n",
       "      <td>159580.0</td>\n",
       "      <td>36</td>\n",
       "      <td>2171-03-01</td>\n",
       "    </tr>\n",
       "    <tr>\n",
       "      <th>7620117</th>\n",
       "      <td>1159</td>\n",
       "      <td>0.002496</td>\n",
       "      <td>0.0</td>\n",
       "      <td>2262671</td>\n",
       "      <td>0.114416</td>\n",
       "      <td>159383.0</td>\n",
       "      <td>96</td>\n",
       "      <td>2171-03-01</td>\n",
       "    </tr>\n",
       "    <tr>\n",
       "      <th>7620118</th>\n",
       "      <td>1158</td>\n",
       "      <td>0.002270</td>\n",
       "      <td>0.0</td>\n",
       "      <td>1764664</td>\n",
       "      <td>0.159197</td>\n",
       "      <td>192548.0</td>\n",
       "      <td>77</td>\n",
       "      <td>2171-03-01</td>\n",
       "    </tr>\n",
       "  </tbody>\n",
       "</table>\n",
       "</div>"
      ],
      "text/plain": [
       "         sku_id     price  number  ...  client_id  shop_id       date\n",
       "7620114    1159  0.002496     0.0  ...    83585.0       96 2171-03-01\n",
       "7620115    1159  0.002512     0.0  ...    54793.0       84 2171-03-01\n",
       "7620116    1159  0.002522     0.0  ...   159580.0       36 2171-03-01\n",
       "7620117    1159  0.002496     0.0  ...   159383.0       96 2171-03-01\n",
       "7620118    1158  0.002270     0.0  ...   192548.0       77 2171-03-01\n",
       "\n",
       "[5 rows x 8 columns]"
      ]
     },
     "execution_count": 17,
     "metadata": {},
     "output_type": "execute_result"
    }
   ],
   "source": [
    "transactions.tail()"
   ]
  },
  {
   "cell_type": "markdown",
   "metadata": {},
   "source": [
    "Рассмотрим данные о продаже товаров. Для начала визуализируем на графике количество покупок тех или иных товаров. Так как самыми популярными категориями товаров на заправочной станции является топливо, исключим его из визуализации."
   ]
  },
  {
   "cell_type": "code",
   "execution_count": 5,
   "metadata": {
    "colab": {
     "base_uri": "https://localhost:8080/",
     "height": 282
    },
    "id": "DZgkqGx30VEc",
    "outputId": "f4ccb0bd-ca22-461a-f4a2-2e55c1231add"
   },
   "outputs": [
    {
     "data": {
      "text/plain": [
       "[<matplotlib.lines.Line2D at 0x1ef5ac55f10>]"
      ]
     },
     "execution_count": 5,
     "metadata": {},
     "output_type": "execute_result"
    },
    {
     "data": {
      "image/png": "[encoded data removed]",
      "text/plain": [
       "<Figure size 432x288 with 1 Axes>"
      ]
     },
     "metadata": {
      "needs_background": "light"
     },
     "output_type": "display_data"
    }
   ],
   "source": [
    "import matplotlib.pyplot as plt\n",
    "\n",
    "sku_without_fuel = []\n",
    "\n",
    "for idx in transactions['sku_id'].value_counts().index.sort_values() :\n",
    "    if idx != 1157 and idx != 1158 and idx != 1159 and idx != 1160 and idx != 1161 and idx != 1162 and idx != 1163 and idx != 1771 and idx != 2032: sku_without_fuel.append(idx)\n",
    "\n",
    "plt.plot(sku_without_fuel, \n",
    "    transactions['sku_id'].value_counts()[sku_without_fuel])"
   ]
  },
  {
   "cell_type": "markdown",
   "metadata": {},
   "source": [
    "На графике явно видно, что три товара явно выделяются по частоте покупок. Отсортируем товары по количеству продаж."
   ]
  },
  {
   "cell_type": "code",
   "execution_count": 19,
   "metadata": {
    "colab": {
     "base_uri": "https://localhost:8080/"
    },
    "id": "UU7M5SmL0VEe",
    "outputId": "10ec43a8-e219-4aef-a66e-b2222c6e512d"
   },
   "outputs": [
    {
     "data": {
      "text/plain": [
       "2650         1\n",
       "2832         1\n",
       "2307         1\n",
       "4671         1\n",
       "2839         1\n",
       "         ...  \n",
       "834      64544\n",
       "269      78120\n",
       "3324     96884\n",
       "926     105297\n",
       "3329    129716\n",
       "Name: sku_id, Length: 4864, dtype: int64"
      ]
     },
     "execution_count": 19,
     "metadata": {},
     "output_type": "execute_result"
    }
   ],
   "source": [
    "transactions['sku_id'].value_counts()[sku_without_fuel].sort_values()"
   ]
  },
  {
   "cell_type": "code",
   "execution_count": 7,
   "metadata": {
    "colab": {
     "base_uri": "https://localhost:8080/",
     "height": 111
    },
    "id": "qF-02o1E0VEf",
    "outputId": "af8a1196-eade-4763-f467-61f13dae3a69"
   },
   "outputs": [
    {
     "data": {
      "text/html": [
       "<div>\n",
       "<style scoped>\n",
       "    .dataframe tbody tr th:only-of-type {\n",
       "        vertical-align: middle;\n",
       "    }\n",
       "\n",
       "    .dataframe tbody tr th {\n",
       "        vertical-align: top;\n",
       "    }\n",
       "\n",
       "    .dataframe thead th {\n",
       "        text-align: right;\n",
       "    }\n",
       "</style>\n",
       "<table border=\"1\" class=\"dataframe\">\n",
       "  <thead>\n",
       "    <tr style=\"text-align: right;\">\n",
       "      <th></th>\n",
       "      <th>sku_id</th>\n",
       "      <th>full_name</th>\n",
       "      <th>brand</th>\n",
       "      <th>sku_group</th>\n",
       "      <th>OTM</th>\n",
       "      <th>units</th>\n",
       "      <th>country</th>\n",
       "    </tr>\n",
       "  </thead>\n",
       "  <tbody>\n",
       "    <tr>\n",
       "      <th>3578</th>\n",
       "      <td>3329</td>\n",
       "      <td>Напиток Fly Cafe молокосодержащий кофейный Мок...</td>\n",
       "      <td>Fly Cafe</td>\n",
       "      <td>Кофейные напитки с молоком</td>\n",
       "      <td>Нет</td>\n",
       "      <td>л</td>\n",
       "      <td>РОССИЯ</td>\n",
       "    </tr>\n",
       "  </tbody>\n",
       "</table>\n",
       "</div>"
      ],
      "text/plain": [
       "      sku_id                                          full_name     brand  \\\n",
       "3578    3329  Напиток Fly Cafe молокосодержащий кофейный Мок...  Fly Cafe   \n",
       "\n",
       "                       sku_group  OTM units country  \n",
       "3578  Кофейные напитки с молоком  Нет     л  РОССИЯ  "
      ]
     },
     "execution_count": 7,
     "metadata": {},
     "output_type": "execute_result"
    }
   ],
   "source": [
    "nomenclature[nomenclature['sku_id'] == 3329]"
   ]
  },
  {
   "cell_type": "code",
   "execution_count": 8,
   "metadata": {},
   "outputs": [
    {
     "data": {
      "text/html": [
       "<div>\n",
       "<style scoped>\n",
       "    .dataframe tbody tr th:only-of-type {\n",
       "        vertical-align: middle;\n",
       "    }\n",
       "\n",
       "    .dataframe tbody tr th {\n",
       "        vertical-align: top;\n",
       "    }\n",
       "\n",
       "    .dataframe thead th {\n",
       "        text-align: right;\n",
       "    }\n",
       "</style>\n",
       "<table border=\"1\" class=\"dataframe\">\n",
       "  <thead>\n",
       "    <tr style=\"text-align: right;\">\n",
       "      <th></th>\n",
       "      <th>sku_id</th>\n",
       "      <th>full_name</th>\n",
       "      <th>brand</th>\n",
       "      <th>sku_group</th>\n",
       "      <th>OTM</th>\n",
       "      <th>units</th>\n",
       "      <th>country</th>\n",
       "    </tr>\n",
       "  </thead>\n",
       "  <tbody>\n",
       "    <tr>\n",
       "      <th>2833</th>\n",
       "      <td>926</td>\n",
       "      <td>Напиток Fly Cafe Горячий шоколад кокосовое мол...</td>\n",
       "      <td>Fly Cafe</td>\n",
       "      <td>Прочие напитки кафе</td>\n",
       "      <td>Да</td>\n",
       "      <td>л</td>\n",
       "      <td>unknown</td>\n",
       "    </tr>\n",
       "  </tbody>\n",
       "</table>\n",
       "</div>"
      ],
      "text/plain": [
       "      sku_id                                          full_name     brand  \\\n",
       "2833     926  Напиток Fly Cafe Горячий шоколад кокосовое мол...  Fly Cafe   \n",
       "\n",
       "                sku_group OTM units  country  \n",
       "2833  Прочие напитки кафе  Да     л  unknown  "
      ]
     },
     "execution_count": 8,
     "metadata": {},
     "output_type": "execute_result"
    }
   ],
   "source": [
    "nomenclature[nomenclature['sku_id'] == 926]"
   ]
  },
  {
   "cell_type": "code",
   "execution_count": 9,
   "metadata": {},
   "outputs": [
    {
     "data": {
      "text/html": [
       "<div>\n",
       "<style scoped>\n",
       "    .dataframe tbody tr th:only-of-type {\n",
       "        vertical-align: middle;\n",
       "    }\n",
       "\n",
       "    .dataframe tbody tr th {\n",
       "        vertical-align: top;\n",
       "    }\n",
       "\n",
       "    .dataframe thead th {\n",
       "        text-align: right;\n",
       "    }\n",
       "</style>\n",
       "<table border=\"1\" class=\"dataframe\">\n",
       "  <thead>\n",
       "    <tr style=\"text-align: right;\">\n",
       "      <th></th>\n",
       "      <th>sku_id</th>\n",
       "      <th>full_name</th>\n",
       "      <th>brand</th>\n",
       "      <th>sku_group</th>\n",
       "      <th>OTM</th>\n",
       "      <th>units</th>\n",
       "      <th>country</th>\n",
       "    </tr>\n",
       "  </thead>\n",
       "  <tbody>\n",
       "    <tr>\n",
       "      <th>2694</th>\n",
       "      <td>3324</td>\n",
       "      <td>Напиток Fly Cafe молокосодержащий кофейный Флэ...</td>\n",
       "      <td>Fly Cafe</td>\n",
       "      <td>Кофейные напитки с молоком</td>\n",
       "      <td>Да</td>\n",
       "      <td>л</td>\n",
       "      <td>unknown</td>\n",
       "    </tr>\n",
       "  </tbody>\n",
       "</table>\n",
       "</div>"
      ],
      "text/plain": [
       "      sku_id                                          full_name     brand  \\\n",
       "2694    3324  Напиток Fly Cafe молокосодержащий кофейный Флэ...  Fly Cafe   \n",
       "\n",
       "                       sku_group OTM units  country  \n",
       "2694  Кофейные напитки с молоком  Да     л  unknown  "
      ]
     },
     "execution_count": 9,
     "metadata": {},
     "output_type": "execute_result"
    }
   ],
   "source": [
    "nomenclature[nomenclature['sku_id'] == 3324]"
   ]
  },
  {
   "cell_type": "markdown",
   "metadata": {},
   "source": [
    "Итак, самые популярные товары (после топлива) - это кофейные напитки с молоком. Можно сделать предположение, что товары этой категории будут часто попадаться в наших будущих рекомендациях."
   ]
  },
  {
   "cell_type": "markdown",
   "metadata": {},
   "source": [
    "Проверим данные на корректность"
   ]
  },
  {
   "cell_type": "code",
   "execution_count": 10,
   "metadata": {},
   "outputs": [
    {
     "name": "stdout",
     "output_type": "stream",
     "text": [
      "<class 'pandas.core.frame.DataFrame'>\n",
      "RangeIndex: 7620119 entries, 0 to 7620118\n",
      "Data columns (total 8 columns):\n",
      " #   Column     Dtype         \n",
      "---  ------     -----         \n",
      " 0   sku_id     int64         \n",
      " 1   price      float64       \n",
      " 2   number     float64       \n",
      " 3   cheque_id  int64         \n",
      " 4   litrs      float64       \n",
      " 5   client_id  float64       \n",
      " 6   shop_id    int64         \n",
      " 7   date       datetime64[ns]\n",
      "dtypes: datetime64[ns](1), float64(4), int64(3)\n",
      "memory usage: 465.1 MB\n"
     ]
    }
   ],
   "source": [
    "transactions.info()"
   ]
  },
  {
   "cell_type": "code",
   "execution_count": 11,
   "metadata": {},
   "outputs": [
    {
     "data": {
      "text/html": [
       "<div>\n",
       "<style scoped>\n",
       "    .dataframe tbody tr th:only-of-type {\n",
       "        vertical-align: middle;\n",
       "    }\n",
       "\n",
       "    .dataframe tbody tr th {\n",
       "        vertical-align: top;\n",
       "    }\n",
       "\n",
       "    .dataframe thead th {\n",
       "        text-align: right;\n",
       "    }\n",
       "</style>\n",
       "<table border=\"1\" class=\"dataframe\">\n",
       "  <thead>\n",
       "    <tr style=\"text-align: right;\">\n",
       "      <th></th>\n",
       "      <th>sku_id</th>\n",
       "      <th>price</th>\n",
       "      <th>number</th>\n",
       "      <th>cheque_id</th>\n",
       "      <th>litrs</th>\n",
       "      <th>client_id</th>\n",
       "      <th>shop_id</th>\n",
       "    </tr>\n",
       "  </thead>\n",
       "  <tbody>\n",
       "    <tr>\n",
       "      <th>count</th>\n",
       "      <td>7.620119e+06</td>\n",
       "      <td>7.620119e+06</td>\n",
       "      <td>7.620119e+06</td>\n",
       "      <td>7.620119e+06</td>\n",
       "      <td>7.620119e+06</td>\n",
       "      <td>3.847764e+06</td>\n",
       "      <td>7.620119e+06</td>\n",
       "    </tr>\n",
       "    <tr>\n",
       "      <th>mean</th>\n",
       "      <td>1.527023e+03</td>\n",
       "      <td>6.422721e-03</td>\n",
       "      <td>3.887713e-04</td>\n",
       "      <td>1.620232e+06</td>\n",
       "      <td>1.125244e-01</td>\n",
       "      <td>2.015499e+05</td>\n",
       "      <td>4.982808e+01</td>\n",
       "    </tr>\n",
       "    <tr>\n",
       "      <th>std</th>\n",
       "      <td>1.150473e+03</td>\n",
       "      <td>7.003628e-03</td>\n",
       "      <td>2.233106e-03</td>\n",
       "      <td>1.014184e+06</td>\n",
       "      <td>1.750252e-02</td>\n",
       "      <td>1.182742e+05</td>\n",
       "      <td>3.188204e+01</td>\n",
       "    </tr>\n",
       "    <tr>\n",
       "      <th>min</th>\n",
       "      <td>0.000000e+00</td>\n",
       "      <td>0.000000e+00</td>\n",
       "      <td>0.000000e+00</td>\n",
       "      <td>0.000000e+00</td>\n",
       "      <td>0.000000e+00</td>\n",
       "      <td>0.000000e+00</td>\n",
       "      <td>1.000000e+00</td>\n",
       "    </tr>\n",
       "    <tr>\n",
       "      <th>25%</th>\n",
       "      <td>8.080000e+02</td>\n",
       "      <td>2.770652e-03</td>\n",
       "      <td>4.522493e-04</td>\n",
       "      <td>6.760650e+05</td>\n",
       "      <td>1.041835e-01</td>\n",
       "      <td>1.001890e+05</td>\n",
       "      <td>2.000000e+01</td>\n",
       "    </tr>\n",
       "    <tr>\n",
       "      <th>50%</th>\n",
       "      <td>1.159000e+03</td>\n",
       "      <td>6.105695e-03</td>\n",
       "      <td>4.522493e-04</td>\n",
       "      <td>1.605438e+06</td>\n",
       "      <td>1.041835e-01</td>\n",
       "      <td>1.967850e+05</td>\n",
       "      <td>4.400000e+01</td>\n",
       "    </tr>\n",
       "    <tr>\n",
       "      <th>75%</th>\n",
       "      <td>2.195000e+03</td>\n",
       "      <td>8.671113e-03</td>\n",
       "      <td>4.522493e-04</td>\n",
       "      <td>2.510364e+06</td>\n",
       "      <td>1.041835e-01</td>\n",
       "      <td>3.075310e+05</td>\n",
       "      <td>7.700000e+01</td>\n",
       "    </tr>\n",
       "    <tr>\n",
       "      <th>max</th>\n",
       "      <td>5.058000e+03</td>\n",
       "      <td>1.000000e+00</td>\n",
       "      <td>1.000000e+00</td>\n",
       "      <td>3.407195e+06</td>\n",
       "      <td>1.000000e+00</td>\n",
       "      <td>4.052290e+05</td>\n",
       "      <td>1.100000e+02</td>\n",
       "    </tr>\n",
       "  </tbody>\n",
       "</table>\n",
       "</div>"
      ],
      "text/plain": [
       "             sku_id         price        number     cheque_id         litrs  \\\n",
       "count  7.620119e+06  7.620119e+06  7.620119e+06  7.620119e+06  7.620119e+06   \n",
       "mean   1.527023e+03  6.422721e-03  3.887713e-04  1.620232e+06  1.125244e-01   \n",
       "std    1.150473e+03  7.003628e-03  2.233106e-03  1.014184e+06  1.750252e-02   \n",
       "min    0.000000e+00  0.000000e+00  0.000000e+00  0.000000e+00  0.000000e+00   \n",
       "25%    8.080000e+02  2.770652e-03  4.522493e-04  6.760650e+05  1.041835e-01   \n",
       "50%    1.159000e+03  6.105695e-03  4.522493e-04  1.605438e+06  1.041835e-01   \n",
       "75%    2.195000e+03  8.671113e-03  4.522493e-04  2.510364e+06  1.041835e-01   \n",
       "max    5.058000e+03  1.000000e+00  1.000000e+00  3.407195e+06  1.000000e+00   \n",
       "\n",
       "          client_id       shop_id  \n",
       "count  3.847764e+06  7.620119e+06  \n",
       "mean   2.015499e+05  4.982808e+01  \n",
       "std    1.182742e+05  3.188204e+01  \n",
       "min    0.000000e+00  1.000000e+00  \n",
       "25%    1.001890e+05  2.000000e+01  \n",
       "50%    1.967850e+05  4.400000e+01  \n",
       "75%    3.075310e+05  7.700000e+01  \n",
       "max    4.052290e+05  1.100000e+02  "
      ]
     },
     "execution_count": 11,
     "metadata": {},
     "output_type": "execute_result"
    }
   ],
   "source": [
    "transactions.describe()"
   ]
  },
  {
   "cell_type": "markdown",
   "metadata": {},
   "source": [
    "Минимальное значение для price равно нулю. Это выглядит подозрительно. Посмотрим, что это за товары и сколько их."
   ]
  },
  {
   "cell_type": "code",
   "execution_count": 21,
   "metadata": {
    "colab": {
     "base_uri": "https://localhost:8080/"
    },
    "id": "UJ5AhbeK0VEf",
    "outputId": "c187e037-72bf-4c29-a6b8-d91df4060a99"
   },
   "outputs": [
    {
     "data": {
      "text/plain": [
       "548     18\n",
       "11      10\n",
       "604      5\n",
       "1962     4\n",
       "Name: sku_id, dtype: int64"
      ]
     },
     "execution_count": 21,
     "metadata": {},
     "output_type": "execute_result"
    }
   ],
   "source": [
    "transactions[transactions['price'] == 0]['sku_id'].value_counts()"
   ]
  },
  {
   "cell_type": "markdown",
   "metadata": {},
   "source": [
    "Как видно, таких товаров немного. Так как продажа товара за 0 выглядит некорректной, исключим данные транзакции."
   ]
  },
  {
   "cell_type": "code",
   "execution_count": 22,
   "metadata": {
    "colab": {
     "base_uri": "https://localhost:8080/"
    },
    "id": "h9IyFMso0VEg",
    "outputId": "861a9961-097f-4acc-e4dc-fdb6bdde66de"
   },
   "outputs": [
    {
     "data": {
      "text/plain": [
       "Series([], Name: sku_id, dtype: int64)"
      ]
     },
     "execution_count": 22,
     "metadata": {},
     "output_type": "execute_result"
    }
   ],
   "source": [
    "transactions = transactions.loc[transactions['price'] > 0]\n",
    "\n",
    "transactions[transactions['price'] == 0]['sku_id'].value_counts()"
   ]
  },
  {
   "cell_type": "markdown",
   "metadata": {},
   "source": [
    "Рассмотрим подробнее чеки. Определим, сколько товаров в чеках."
   ]
  },
  {
   "cell_type": "code",
   "execution_count": 23,
   "metadata": {
    "colab": {
     "base_uri": "https://localhost:8080/"
    },
    "id": "n9H1eMKD0VEh",
    "outputId": "e1e55243-71cb-4f33-a052-0ba58f025595",
    "scrolled": false
   },
   "outputs": [
    {
     "data": {
      "text/plain": [
       "2991211    72\n",
       "2650985    60\n",
       "2595734    54\n",
       "2875620    50\n",
       "3116548    50\n",
       "           ..\n",
       "1534340     1\n",
       "1999853     1\n",
       "1676504     1\n",
       "1532916     1\n",
       "919014      1\n",
       "Name: cheque_id, Length: 2848238, dtype: int64"
      ]
     },
     "execution_count": 23,
     "metadata": {},
     "output_type": "execute_result"
    }
   ],
   "source": [
    "transactions['cheque_id'].value_counts()"
   ]
  },
  {
   "cell_type": "markdown",
   "metadata": {},
   "source": [
    "Чек на 72 товара выглядит подозрительно, рассмотрим эту закупку подробнее."
   ]
  },
  {
   "cell_type": "code",
   "execution_count": 24,
   "metadata": {
    "colab": {
     "base_uri": "https://localhost:8080/",
     "height": 419
    },
    "id": "sy_7E_fJ0VEh",
    "outputId": "2df52df6-c1e8-4207-e6d7-58199b01c32c"
   },
   "outputs": [
    {
     "data": {
      "text/html": [
       "<div>\n",
       "<style scoped>\n",
       "    .dataframe tbody tr th:only-of-type {\n",
       "        vertical-align: middle;\n",
       "    }\n",
       "\n",
       "    .dataframe tbody tr th {\n",
       "        vertical-align: top;\n",
       "    }\n",
       "\n",
       "    .dataframe thead th {\n",
       "        text-align: right;\n",
       "    }\n",
       "</style>\n",
       "<table border=\"1\" class=\"dataframe\">\n",
       "  <thead>\n",
       "    <tr style=\"text-align: right;\">\n",
       "      <th></th>\n",
       "      <th>sku_id</th>\n",
       "      <th>price</th>\n",
       "      <th>number</th>\n",
       "      <th>cheque_id</th>\n",
       "      <th>litrs</th>\n",
       "      <th>client_id</th>\n",
       "      <th>shop_id</th>\n",
       "      <th>date</th>\n",
       "    </tr>\n",
       "  </thead>\n",
       "  <tbody>\n",
       "    <tr>\n",
       "      <th>3999732</th>\n",
       "      <td>847</td>\n",
       "      <td>0.008107</td>\n",
       "      <td>0.000452</td>\n",
       "      <td>2991211</td>\n",
       "      <td>0.104183</td>\n",
       "      <td>NaN</td>\n",
       "      <td>73</td>\n",
       "      <td>2171-05-12</td>\n",
       "    </tr>\n",
       "    <tr>\n",
       "      <th>3999733</th>\n",
       "      <td>847</td>\n",
       "      <td>0.008107</td>\n",
       "      <td>0.000452</td>\n",
       "      <td>2991211</td>\n",
       "      <td>0.104183</td>\n",
       "      <td>NaN</td>\n",
       "      <td>73</td>\n",
       "      <td>2171-05-12</td>\n",
       "    </tr>\n",
       "    <tr>\n",
       "      <th>3999734</th>\n",
       "      <td>847</td>\n",
       "      <td>0.008107</td>\n",
       "      <td>0.000452</td>\n",
       "      <td>2991211</td>\n",
       "      <td>0.104183</td>\n",
       "      <td>NaN</td>\n",
       "      <td>73</td>\n",
       "      <td>2171-05-12</td>\n",
       "    </tr>\n",
       "    <tr>\n",
       "      <th>3999736</th>\n",
       "      <td>847</td>\n",
       "      <td>0.008107</td>\n",
       "      <td>0.000452</td>\n",
       "      <td>2991211</td>\n",
       "      <td>0.104183</td>\n",
       "      <td>NaN</td>\n",
       "      <td>73</td>\n",
       "      <td>2171-05-12</td>\n",
       "    </tr>\n",
       "    <tr>\n",
       "      <th>3999737</th>\n",
       "      <td>847</td>\n",
       "      <td>0.008107</td>\n",
       "      <td>0.000452</td>\n",
       "      <td>2991211</td>\n",
       "      <td>0.104183</td>\n",
       "      <td>NaN</td>\n",
       "      <td>73</td>\n",
       "      <td>2171-05-12</td>\n",
       "    </tr>\n",
       "    <tr>\n",
       "      <th>...</th>\n",
       "      <td>...</td>\n",
       "      <td>...</td>\n",
       "      <td>...</td>\n",
       "      <td>...</td>\n",
       "      <td>...</td>\n",
       "      <td>...</td>\n",
       "      <td>...</td>\n",
       "      <td>...</td>\n",
       "    </tr>\n",
       "    <tr>\n",
       "      <th>4002758</th>\n",
       "      <td>847</td>\n",
       "      <td>0.008107</td>\n",
       "      <td>0.000452</td>\n",
       "      <td>2991211</td>\n",
       "      <td>0.104183</td>\n",
       "      <td>NaN</td>\n",
       "      <td>73</td>\n",
       "      <td>2171-05-12</td>\n",
       "    </tr>\n",
       "    <tr>\n",
       "      <th>4002759</th>\n",
       "      <td>847</td>\n",
       "      <td>0.008107</td>\n",
       "      <td>0.000452</td>\n",
       "      <td>2991211</td>\n",
       "      <td>0.104183</td>\n",
       "      <td>NaN</td>\n",
       "      <td>73</td>\n",
       "      <td>2171-05-12</td>\n",
       "    </tr>\n",
       "    <tr>\n",
       "      <th>4002760</th>\n",
       "      <td>847</td>\n",
       "      <td>0.008107</td>\n",
       "      <td>0.000452</td>\n",
       "      <td>2991211</td>\n",
       "      <td>0.104183</td>\n",
       "      <td>NaN</td>\n",
       "      <td>73</td>\n",
       "      <td>2171-05-12</td>\n",
       "    </tr>\n",
       "    <tr>\n",
       "      <th>4002777</th>\n",
       "      <td>847</td>\n",
       "      <td>0.008107</td>\n",
       "      <td>0.000452</td>\n",
       "      <td>2991211</td>\n",
       "      <td>0.104183</td>\n",
       "      <td>NaN</td>\n",
       "      <td>73</td>\n",
       "      <td>2171-05-12</td>\n",
       "    </tr>\n",
       "    <tr>\n",
       "      <th>4002778</th>\n",
       "      <td>847</td>\n",
       "      <td>0.008107</td>\n",
       "      <td>0.000452</td>\n",
       "      <td>2991211</td>\n",
       "      <td>0.104183</td>\n",
       "      <td>NaN</td>\n",
       "      <td>73</td>\n",
       "      <td>2171-05-12</td>\n",
       "    </tr>\n",
       "  </tbody>\n",
       "</table>\n",
       "<p>72 rows × 8 columns</p>\n",
       "</div>"
      ],
      "text/plain": [
       "         sku_id     price    number  ...  client_id  shop_id       date\n",
       "3999732     847  0.008107  0.000452  ...        NaN       73 2171-05-12\n",
       "3999733     847  0.008107  0.000452  ...        NaN       73 2171-05-12\n",
       "3999734     847  0.008107  0.000452  ...        NaN       73 2171-05-12\n",
       "3999736     847  0.008107  0.000452  ...        NaN       73 2171-05-12\n",
       "3999737     847  0.008107  0.000452  ...        NaN       73 2171-05-12\n",
       "...         ...       ...       ...  ...        ...      ...        ...\n",
       "4002758     847  0.008107  0.000452  ...        NaN       73 2171-05-12\n",
       "4002759     847  0.008107  0.000452  ...        NaN       73 2171-05-12\n",
       "4002760     847  0.008107  0.000452  ...        NaN       73 2171-05-12\n",
       "4002777     847  0.008107  0.000452  ...        NaN       73 2171-05-12\n",
       "4002778     847  0.008107  0.000452  ...        NaN       73 2171-05-12\n",
       "\n",
       "[72 rows x 8 columns]"
      ]
     },
     "execution_count": 24,
     "metadata": {},
     "output_type": "execute_result"
    }
   ],
   "source": [
    "transactions[transactions['cheque_id'] == 2991211]"
   ]
  },
  {
   "cell_type": "code",
   "execution_count": 25,
   "metadata": {
    "colab": {
     "base_uri": "https://localhost:8080/",
     "height": 111
    },
    "id": "gMUAnN6a0VEi",
    "outputId": "e5c73008-3dbf-4c29-ca6d-2606e9a240bd"
   },
   "outputs": [
    {
     "data": {
      "text/html": [
       "<div>\n",
       "<style scoped>\n",
       "    .dataframe tbody tr th:only-of-type {\n",
       "        vertical-align: middle;\n",
       "    }\n",
       "\n",
       "    .dataframe tbody tr th {\n",
       "        vertical-align: top;\n",
       "    }\n",
       "\n",
       "    .dataframe thead th {\n",
       "        text-align: right;\n",
       "    }\n",
       "</style>\n",
       "<table border=\"1\" class=\"dataframe\">\n",
       "  <thead>\n",
       "    <tr style=\"text-align: right;\">\n",
       "      <th></th>\n",
       "      <th>sku_id</th>\n",
       "      <th>full_name</th>\n",
       "      <th>brand</th>\n",
       "      <th>sku_group</th>\n",
       "      <th>OTM</th>\n",
       "      <th>units</th>\n",
       "      <th>country</th>\n",
       "      <th>cluster</th>\n",
       "    </tr>\n",
       "    <tr>\n",
       "      <th>sku_id</th>\n",
       "      <th></th>\n",
       "      <th></th>\n",
       "      <th></th>\n",
       "      <th></th>\n",
       "      <th></th>\n",
       "      <th></th>\n",
       "      <th></th>\n",
       "      <th></th>\n",
       "    </tr>\n",
       "  </thead>\n",
       "  <tbody>\n",
       "    <tr>\n",
       "      <th>847</th>\n",
       "      <td>847</td>\n",
       "      <td>Стики Winston fresh</td>\n",
       "      <td>Winston</td>\n",
       "      <td>Табачные изделия</td>\n",
       "      <td>Нет</td>\n",
       "      <td>шт</td>\n",
       "      <td>РОССИЯ</td>\n",
       "      <td>320</td>\n",
       "    </tr>\n",
       "  </tbody>\n",
       "</table>\n",
       "</div>"
      ],
      "text/plain": [
       "        sku_id            full_name    brand  ... units country cluster\n",
       "sku_id                                        ...                      \n",
       "847        847  Стики Winston fresh  Winston  ...    шт  РОССИЯ     320\n",
       "\n",
       "[1 rows x 8 columns]"
      ]
     },
     "execution_count": 25,
     "metadata": {},
     "output_type": "execute_result"
    }
   ],
   "source": [
    "nomenclature[nomenclature['sku_id'] == 847]"
   ]
  },
  {
   "cell_type": "markdown",
   "metadata": {},
   "source": [
    "Как видно, покупатель купил 72 пачки сигарет. Если учесть, что в сигареты могут продаваться блоками по 20 шт. (на Земле так), то это получается чуть меньше 4 полных блоков. Такая покупка уже выглядит не такой подозрительной."
   ]
  },
  {
   "cell_type": "markdown",
   "metadata": {},
   "source": [
    "Рассмотрим период времени, за который были предоставлены данные. Как видно из ячейки ниже, данные предоставлены за пять месяцев: с марта по июль 2171 года включительно."
   ]
  },
  {
   "cell_type": "code",
   "execution_count": 26,
   "metadata": {
    "colab": {
     "base_uri": "https://localhost:8080/"
    },
    "id": "_60bUysN0VEj",
    "outputId": "ef527b23-279a-4c8d-8885-3191c712b35c"
   },
   "outputs": [
    {
     "data": {
      "text/plain": [
       "count                          7620082\n",
       "mean     2171-05-15 05:19:35.533639680\n",
       "min                2171-03-01 00:00:00\n",
       "25%                2171-04-06 00:00:00\n",
       "50%                2171-05-16 00:00:00\n",
       "75%                2171-06-23 00:00:00\n",
       "max                2171-07-31 00:00:00\n",
       "Name: date, dtype: object"
      ]
     },
     "execution_count": 26,
     "metadata": {},
     "output_type": "execute_result"
    }
   ],
   "source": [
    "transactions['date'].describe(datetime_is_numeric=True)"
   ]
  },
  {
   "cell_type": "markdown",
   "metadata": {},
   "source": [
    "В ячейках выше можно заметить, что не все покупатели имеют id. Присвоим таким покупателям id, явно превышающий id остальных покупателей. Это будет id для незнакомцев. Сделаем это для того, чтобы все данные в столбце имели один тип."
   ]
  },
  {
   "cell_type": "code",
   "execution_count": 28,
   "metadata": {
    "id": "M_1lrb4N0VEj"
   },
   "outputs": [],
   "source": [
    "transactions['client_id'] = transactions['client_id'].fillna(999999)"
   ]
  },
  {
   "cell_type": "code",
   "execution_count": 29,
   "metadata": {
    "colab": {
     "base_uri": "https://localhost:8080/",
     "height": 419
    },
    "id": "I0lsxIwM0VEk",
    "outputId": "2140b508-b179-4bda-f8d3-f330ce9db5b4"
   },
   "outputs": [
    {
     "data": {
      "text/html": [
       "<div>\n",
       "<style scoped>\n",
       "    .dataframe tbody tr th:only-of-type {\n",
       "        vertical-align: middle;\n",
       "    }\n",
       "\n",
       "    .dataframe tbody tr th {\n",
       "        vertical-align: top;\n",
       "    }\n",
       "\n",
       "    .dataframe thead th {\n",
       "        text-align: right;\n",
       "    }\n",
       "</style>\n",
       "<table border=\"1\" class=\"dataframe\">\n",
       "  <thead>\n",
       "    <tr style=\"text-align: right;\">\n",
       "      <th></th>\n",
       "      <th>sku_id</th>\n",
       "      <th>price</th>\n",
       "      <th>number</th>\n",
       "      <th>cheque_id</th>\n",
       "      <th>litrs</th>\n",
       "      <th>client_id</th>\n",
       "      <th>shop_id</th>\n",
       "      <th>date</th>\n",
       "    </tr>\n",
       "  </thead>\n",
       "  <tbody>\n",
       "    <tr>\n",
       "      <th>3999732</th>\n",
       "      <td>847</td>\n",
       "      <td>0.008107</td>\n",
       "      <td>0.000452</td>\n",
       "      <td>2991211</td>\n",
       "      <td>0.104183</td>\n",
       "      <td>999999.0</td>\n",
       "      <td>73</td>\n",
       "      <td>2171-05-12</td>\n",
       "    </tr>\n",
       "    <tr>\n",
       "      <th>3999733</th>\n",
       "      <td>847</td>\n",
       "      <td>0.008107</td>\n",
       "      <td>0.000452</td>\n",
       "      <td>2991211</td>\n",
       "      <td>0.104183</td>\n",
       "      <td>999999.0</td>\n",
       "      <td>73</td>\n",
       "      <td>2171-05-12</td>\n",
       "    </tr>\n",
       "    <tr>\n",
       "      <th>3999734</th>\n",
       "      <td>847</td>\n",
       "      <td>0.008107</td>\n",
       "      <td>0.000452</td>\n",
       "      <td>2991211</td>\n",
       "      <td>0.104183</td>\n",
       "      <td>999999.0</td>\n",
       "      <td>73</td>\n",
       "      <td>2171-05-12</td>\n",
       "    </tr>\n",
       "    <tr>\n",
       "      <th>3999736</th>\n",
       "      <td>847</td>\n",
       "      <td>0.008107</td>\n",
       "      <td>0.000452</td>\n",
       "      <td>2991211</td>\n",
       "      <td>0.104183</td>\n",
       "      <td>999999.0</td>\n",
       "      <td>73</td>\n",
       "      <td>2171-05-12</td>\n",
       "    </tr>\n",
       "    <tr>\n",
       "      <th>3999737</th>\n",
       "      <td>847</td>\n",
       "      <td>0.008107</td>\n",
       "      <td>0.000452</td>\n",
       "      <td>2991211</td>\n",
       "      <td>0.104183</td>\n",
       "      <td>999999.0</td>\n",
       "      <td>73</td>\n",
       "      <td>2171-05-12</td>\n",
       "    </tr>\n",
       "    <tr>\n",
       "      <th>...</th>\n",
       "      <td>...</td>\n",
       "      <td>...</td>\n",
       "      <td>...</td>\n",
       "      <td>...</td>\n",
       "      <td>...</td>\n",
       "      <td>...</td>\n",
       "      <td>...</td>\n",
       "      <td>...</td>\n",
       "    </tr>\n",
       "    <tr>\n",
       "      <th>4002758</th>\n",
       "      <td>847</td>\n",
       "      <td>0.008107</td>\n",
       "      <td>0.000452</td>\n",
       "      <td>2991211</td>\n",
       "      <td>0.104183</td>\n",
       "      <td>999999.0</td>\n",
       "      <td>73</td>\n",
       "      <td>2171-05-12</td>\n",
       "    </tr>\n",
       "    <tr>\n",
       "      <th>4002759</th>\n",
       "      <td>847</td>\n",
       "      <td>0.008107</td>\n",
       "      <td>0.000452</td>\n",
       "      <td>2991211</td>\n",
       "      <td>0.104183</td>\n",
       "      <td>999999.0</td>\n",
       "      <td>73</td>\n",
       "      <td>2171-05-12</td>\n",
       "    </tr>\n",
       "    <tr>\n",
       "      <th>4002760</th>\n",
       "      <td>847</td>\n",
       "      <td>0.008107</td>\n",
       "      <td>0.000452</td>\n",
       "      <td>2991211</td>\n",
       "      <td>0.104183</td>\n",
       "      <td>999999.0</td>\n",
       "      <td>73</td>\n",
       "      <td>2171-05-12</td>\n",
       "    </tr>\n",
       "    <tr>\n",
       "      <th>4002777</th>\n",
       "      <td>847</td>\n",
       "      <td>0.008107</td>\n",
       "      <td>0.000452</td>\n",
       "      <td>2991211</td>\n",
       "      <td>0.104183</td>\n",
       "      <td>999999.0</td>\n",
       "      <td>73</td>\n",
       "      <td>2171-05-12</td>\n",
       "    </tr>\n",
       "    <tr>\n",
       "      <th>4002778</th>\n",
       "      <td>847</td>\n",
       "      <td>0.008107</td>\n",
       "      <td>0.000452</td>\n",
       "      <td>2991211</td>\n",
       "      <td>0.104183</td>\n",
       "      <td>999999.0</td>\n",
       "      <td>73</td>\n",
       "      <td>2171-05-12</td>\n",
       "    </tr>\n",
       "  </tbody>\n",
       "</table>\n",
       "<p>72 rows × 8 columns</p>\n",
       "</div>"
      ],
      "text/plain": [
       "         sku_id     price    number  ...  client_id  shop_id       date\n",
       "3999732     847  0.008107  0.000452  ...   999999.0       73 2171-05-12\n",
       "3999733     847  0.008107  0.000452  ...   999999.0       73 2171-05-12\n",
       "3999734     847  0.008107  0.000452  ...   999999.0       73 2171-05-12\n",
       "3999736     847  0.008107  0.000452  ...   999999.0       73 2171-05-12\n",
       "3999737     847  0.008107  0.000452  ...   999999.0       73 2171-05-12\n",
       "...         ...       ...       ...  ...        ...      ...        ...\n",
       "4002758     847  0.008107  0.000452  ...   999999.0       73 2171-05-12\n",
       "4002759     847  0.008107  0.000452  ...   999999.0       73 2171-05-12\n",
       "4002760     847  0.008107  0.000452  ...   999999.0       73 2171-05-12\n",
       "4002777     847  0.008107  0.000452  ...   999999.0       73 2171-05-12\n",
       "4002778     847  0.008107  0.000452  ...   999999.0       73 2171-05-12\n",
       "\n",
       "[72 rows x 8 columns]"
      ]
     },
     "execution_count": 29,
     "metadata": {},
     "output_type": "execute_result"
    }
   ],
   "source": [
    "transactions[transactions['cheque_id'] == 2991211]"
   ]
  },
  {
   "cell_type": "markdown",
   "metadata": {},
   "source": [
    "Рассмотрим данные о количестве проданного топлива."
   ]
  },
  {
   "cell_type": "code",
   "execution_count": 30,
   "metadata": {
    "colab": {
     "base_uri": "https://localhost:8080/"
    },
    "id": "OrjKcnvE0VEl",
    "outputId": "13ccfd9c-3b41-4c45-fbbf-aa28b88ce595"
   },
   "outputs": [
    {
     "data": {
      "text/plain": [
       "0.104183    5794666\n",
       "0.134044      42665\n",
       "0.124090      27803\n",
       "0.126151      23767\n",
       "0.143998      18226\n",
       "             ...   \n",
       "0.148111          1\n",
       "0.106404          1\n",
       "0.235580          1\n",
       "0.104188          1\n",
       "0.000000          1\n",
       "Name: litrs, Length: 19851, dtype: int64"
      ]
     },
     "execution_count": 30,
     "metadata": {},
     "output_type": "execute_result"
    }
   ],
   "source": [
    "transactions['litrs'].value_counts()"
   ]
  },
  {
   "cell_type": "markdown",
   "metadata": {},
   "source": [
    "Очень подозрительно выглядит то, что транзакция без топлива только одна. Исходя из того, что топливо и товар проходят разными транзакциями, значений с 0 должно быть намного больше. Также подозрительным выглядит количество 5794666 у значения 0.104183 - оно превышает следующее по количеству значение более, чем в сотню раз. Видимо, это ошибка в записях транзакций, сделаем корректировку на это значение."
   ]
  },
  {
   "cell_type": "code",
   "execution_count": 31,
   "metadata": {
    "id": "KFTcy2sT0VEm"
   },
   "outputs": [],
   "source": [
    "def get_correct_litrs (litrs, value_of_error):\n",
    "    correct_value = litrs - value_of_error\n",
    "    if correct_value < 0 : return 0\n",
    "    else : return correct_value\n",
    "    \n",
    "litrs_mode = transactions['litrs'].mode()[0]\n",
    "\n",
    "transactions['litrs'] = transactions.apply(\n",
    "    lambda x: get_correct_litrs(x['litrs'], litrs_mode)\n",
    "    , axis = 1)"
   ]
  },
  {
   "cell_type": "code",
   "execution_count": 32,
   "metadata": {
    "colab": {
     "base_uri": "https://localhost:8080/"
    },
    "id": "s-y7oAU30VEm",
    "outputId": "b05810e8-97cd-47a3-9b0a-29951c2a3545"
   },
   "outputs": [
    {
     "data": {
      "text/plain": [
       "0.000000    5795239\n",
       "0.029861      42665\n",
       "0.019907      27803\n",
       "0.021967      23767\n",
       "0.039814      18226\n",
       "             ...   \n",
       "0.029980          1\n",
       "0.295241          1\n",
       "0.000004          1\n",
       "0.123434          1\n",
       "0.024757          1\n",
       "Name: litrs, Length: 19295, dtype: int64"
      ]
     },
     "execution_count": 32,
     "metadata": {},
     "output_type": "execute_result"
    }
   ],
   "source": [
    "transactions['litrs'].value_counts()"
   ]
  },
  {
   "cell_type": "markdown",
   "metadata": {},
   "source": [
    "Сохраним обработанный файл. Если придется перезапускать программу, не будет необходимости снова обрабатывать данные."
   ]
  },
  {
   "cell_type": "code",
   "execution_count": 33,
   "metadata": {
    "id": "azLnFvGU0VEl"
   },
   "outputs": [],
   "source": [
    "transactions.to_parquet('transactions_modified.parquet')"
   ]
  },
  {
   "cell_type": "code",
   "execution_count": 34,
   "metadata": {
    "id": "4pCj3NIH0VEl"
   },
   "outputs": [],
   "source": [
    "import pandas as pd\n",
    "transactions = pd.read_parquet('transactions_modified.parquet')"
   ]
  },
  {
   "cell_type": "markdown",
   "metadata": {
    "id": "PpmqqiWbSzUD"
   },
   "source": [
    "## Разработка рекомендательной системы\n",
    "\n",
    "Перейдем к разработке самой рекомендательной системы.\n",
    "\n",
    "В данной системе используется кластеризация товаров по группам и выдача рекомендаций на основе частоты покупок товаров разных групп вместе.\n",
    "\n",
    "### Кластеризация товаров"
   ]
  },
  {
   "cell_type": "markdown",
   "metadata": {},
   "source": [
    "Для начала кластеризуем товары на основе названия. Предполагается, что товары со схожим названием, скорее всего, принадлежат группе взаимозаменяемх товаров.\n",
    "\n",
    "В предыдущем блоке мы заметили, что топливо не имеет названия. Продублируем в название топлива его группу."
   ]
  },
  {
   "cell_type": "code",
   "execution_count": 10,
   "metadata": {
    "id": "5-8rhf9ivfPW"
   },
   "outputs": [],
   "source": [
    "nomenclature['full_name'] = nomenclature['full_name'].fillna(nomenclature['sku_group'])"
   ]
  },
  {
   "cell_type": "code",
   "execution_count": 11,
   "metadata": {
    "colab": {
     "base_uri": "https://localhost:8080/",
     "height": 80
    },
    "id": "DMo0Lc3svfSb",
    "outputId": "aa149b1d-3434-4b75-f8c3-48e1b23d9003"
   },
   "outputs": [
    {
     "data": {
      "text/html": [
       "<div>\n",
       "<style scoped>\n",
       "    .dataframe tbody tr th:only-of-type {\n",
       "        vertical-align: middle;\n",
       "    }\n",
       "\n",
       "    .dataframe tbody tr th {\n",
       "        vertical-align: top;\n",
       "    }\n",
       "\n",
       "    .dataframe thead th {\n",
       "        text-align: right;\n",
       "    }\n",
       "</style>\n",
       "<table border=\"1\" class=\"dataframe\">\n",
       "  <thead>\n",
       "    <tr style=\"text-align: right;\">\n",
       "      <th></th>\n",
       "      <th>sku_id</th>\n",
       "      <th>full_name</th>\n",
       "      <th>brand</th>\n",
       "      <th>sku_group</th>\n",
       "      <th>OTM</th>\n",
       "      <th>units</th>\n",
       "      <th>country</th>\n",
       "    </tr>\n",
       "  </thead>\n",
       "  <tbody>\n",
       "    <tr>\n",
       "      <th>3724</th>\n",
       "      <td>1158</td>\n",
       "      <td>Ethereum 92</td>\n",
       "      <td>None</td>\n",
       "      <td>Ethereum 92</td>\n",
       "      <td>None</td>\n",
       "      <td>None</td>\n",
       "      <td>None</td>\n",
       "    </tr>\n",
       "  </tbody>\n",
       "</table>\n",
       "</div>"
      ],
      "text/plain": [
       "      sku_id    full_name brand    sku_group   OTM units country\n",
       "3724    1158  Ethereum 92  None  Ethereum 92  None  None    None"
      ]
     },
     "execution_count": 11,
     "metadata": {},
     "output_type": "execute_result"
    }
   ],
   "source": [
    "nomenclature[nomenclature['sku_id'] == 1158]"
   ]
  },
  {
   "cell_type": "markdown",
   "metadata": {},
   "source": [
    "Отсортируем товары по SKU. Это поможет более быстрым способом проставить номера полученных категорий товарам."
   ]
  },
  {
   "cell_type": "code",
   "execution_count": 12,
   "metadata": {
    "id": "VrdFfpFJSzUD"
   },
   "outputs": [],
   "source": [
    "nomenclature = nomenclature.sort_values(by='sku_id')\n",
    "nomenclature.index = nomenclature['sku_id']"
   ]
  },
  {
   "cell_type": "markdown",
   "metadata": {},
   "source": [
    "Количество кластеров определено эмпирически с рассчетом на то, что в каждом кластере будет около пяти товаров. Так в дальнейшем для рекомендации 20 товаров, нам понадобится около 4 кластеров. Это должно обеспечить небольшое разнообразие в рекомендациях. Так, рекомендованные товары будут схожи между собой, но не будут состоять полностью из взаимозаменяемых позиций."
   ]
  },
  {
   "cell_type": "code",
   "execution_count": 13,
   "metadata": {
    "id": "ZZzvI6lgSzUE"
   },
   "outputs": [],
   "source": [
    "n_clusters = round(len(nomenclature['sku_id'])/5)"
   ]
  },
  {
   "cell_type": "markdown",
   "metadata": {},
   "source": [
    "Кластеризуем товары. В качестве векторайзера для текста возьмем TfidfVectorizer из библиотеки sklearn с двумя n-граммами. Так названия будут векторизвоваться как словосочетания, что должно дать хороший результат. Так как названия товаров не длинные, использовать длинные n-граммы нет смысла.\n",
    "\n",
    "В качестве модели для кластеризации используем алгоритм K ближайших соседей с ограничением по количеству выходных кластеров."
   ]
  },
  {
   "cell_type": "code",
   "execution_count": 14,
   "metadata": {
    "id": "7JMESMYMxkIM"
   },
   "outputs": [],
   "source": [
    "from sklearn.feature_extraction.text import TfidfVectorizer\n",
    "from sklearn.cluster import KMeans\n",
    "\n",
    "vectorizer = TfidfVectorizer(analyzer='word', ngram_range=(1,2))\n",
    "X = vectorizer.fit_transform(nomenclature['full_name'])\n",
    "\n",
    "kmeans = KMeans(n_clusters=n_clusters)\n",
    "kmeans.fit(X)\n",
    "result = pd.concat([nomenclature['full_name'],pd.DataFrame(X.toarray(),columns=vectorizer.get_feature_names())],axis=1)\n",
    "result['cluster'] = kmeans.predict(X)"
   ]
  },
  {
   "cell_type": "code",
   "execution_count": 15,
   "metadata": {
    "id": "nd6bkp6BSzUF"
   },
   "outputs": [],
   "source": [
    "nomenclature['cluster'] = result['cluster']"
   ]
  },
  {
   "cell_type": "code",
   "execution_count": 16,
   "metadata": {
    "colab": {
     "base_uri": "https://localhost:8080/",
     "height": 235
    },
    "id": "BKODqW0JSzUG",
    "outputId": "1940d926-592d-46c0-fb0f-387e5b1cbe8a"
   },
   "outputs": [
    {
     "data": {
      "text/html": [
       "<div>\n",
       "<style scoped>\n",
       "    .dataframe tbody tr th:only-of-type {\n",
       "        vertical-align: middle;\n",
       "    }\n",
       "\n",
       "    .dataframe tbody tr th {\n",
       "        vertical-align: top;\n",
       "    }\n",
       "\n",
       "    .dataframe thead th {\n",
       "        text-align: right;\n",
       "    }\n",
       "</style>\n",
       "<table border=\"1\" class=\"dataframe\">\n",
       "  <thead>\n",
       "    <tr style=\"text-align: right;\">\n",
       "      <th></th>\n",
       "      <th>sku_id</th>\n",
       "      <th>full_name</th>\n",
       "      <th>brand</th>\n",
       "      <th>sku_group</th>\n",
       "      <th>OTM</th>\n",
       "      <th>units</th>\n",
       "      <th>country</th>\n",
       "      <th>cluster</th>\n",
       "    </tr>\n",
       "    <tr>\n",
       "      <th>sku_id</th>\n",
       "      <th></th>\n",
       "      <th></th>\n",
       "      <th></th>\n",
       "      <th></th>\n",
       "      <th></th>\n",
       "      <th></th>\n",
       "      <th></th>\n",
       "      <th></th>\n",
       "    </tr>\n",
       "  </thead>\n",
       "  <tbody>\n",
       "    <tr>\n",
       "      <th>0</th>\n",
       "      <td>0</td>\n",
       "      <td>Масло Lubricrol Magnatec Diesel 10W-40 B4 1л</td>\n",
       "      <td>Lubricrol</td>\n",
       "      <td>Масла моторные (для варповых двигателей)</td>\n",
       "      <td>Нет</td>\n",
       "      <td>unknown</td>\n",
       "      <td>ГЕРМАНИЯ</td>\n",
       "      <td>69</td>\n",
       "    </tr>\n",
       "    <tr>\n",
       "      <th>1</th>\n",
       "      <td>1</td>\n",
       "      <td>Хомуты FORTISFLEX пластиковые 15-30см 50шт</td>\n",
       "      <td>FORTISFLEX</td>\n",
       "      <td>Автотовары</td>\n",
       "      <td>Нет</td>\n",
       "      <td>шт</td>\n",
       "      <td>unknown</td>\n",
       "      <td>336</td>\n",
       "    </tr>\n",
       "    <tr>\n",
       "      <th>2</th>\n",
       "      <td>2</td>\n",
       "      <td>Держатель G-Fly (СТМ) для смартфонов на дефлек...</td>\n",
       "      <td>G-Fly (СТМ)</td>\n",
       "      <td>Автотовары</td>\n",
       "      <td>Да</td>\n",
       "      <td>шт</td>\n",
       "      <td>КИТАЙ</td>\n",
       "      <td>654</td>\n",
       "    </tr>\n",
       "    <tr>\n",
       "      <th>3</th>\n",
       "      <td>3</td>\n",
       "      <td>Держатель SAPFIRE Mobile SM-0944 для телефона ...</td>\n",
       "      <td>SAPFIRE</td>\n",
       "      <td>Автотовары</td>\n",
       "      <td>Нет</td>\n",
       "      <td>шт</td>\n",
       "      <td>КИТАЙ</td>\n",
       "      <td>480</td>\n",
       "    </tr>\n",
       "    <tr>\n",
       "      <th>4</th>\n",
       "      <td>4</td>\n",
       "      <td>Устройство зарядное G-Fly (СТМ) SGD-0913 USB порт</td>\n",
       "      <td>G-Fly (СТМ)</td>\n",
       "      <td>Автотовары</td>\n",
       "      <td>Да</td>\n",
       "      <td>шт</td>\n",
       "      <td>КИТАЙ</td>\n",
       "      <td>77</td>\n",
       "    </tr>\n",
       "  </tbody>\n",
       "</table>\n",
       "</div>"
      ],
      "text/plain": [
       "        sku_id  ... cluster\n",
       "sku_id          ...        \n",
       "0            0  ...      69\n",
       "1            1  ...     336\n",
       "2            2  ...     654\n",
       "3            3  ...     480\n",
       "4            4  ...      77\n",
       "\n",
       "[5 rows x 8 columns]"
      ]
     },
     "execution_count": 16,
     "metadata": {},
     "output_type": "execute_result"
    }
   ],
   "source": [
    "nomenclature.head()"
   ]
  },
  {
   "cell_type": "markdown",
   "metadata": {
    "id": "YBLtSr4PSzUQ"
   },
   "source": [
    "###  Получение рекомендаций"
   ]
  },
  {
   "cell_type": "markdown",
   "metadata": {},
   "source": [
    "Для получения рекомендаций нам потребуется матрица, в которой будут записаны количесво совместых покупок товаров из разных кластеров. "
   ]
  },
  {
   "cell_type": "code",
   "execution_count": 35,
   "metadata": {
    "id": "jyAQOcw_0VEp"
   },
   "outputs": [],
   "source": [
    "import numpy as np\n",
    "\n",
    "correlation_matrix = np.zeros((n_clusters, n_clusters))"
   ]
  },
  {
   "cell_type": "markdown",
   "metadata": {},
   "source": [
    "Чтобы заполнить матрицу, для начала сгруппируем покупки по чекам и посмотрим, какие товары были куплены вместе."
   ]
  },
  {
   "cell_type": "code",
   "execution_count": 37,
   "metadata": {
    "id": "lHUqhvVx2eWg"
   },
   "outputs": [],
   "source": [
    "cheques_with_sku = transactions[['cheque_id', 'sku_id']].groupby('cheque_id').agg(lambda x: list(x.unique()))"
   ]
  },
  {
   "cell_type": "code",
   "execution_count": 38,
   "metadata": {
    "colab": {
     "base_uri": "https://localhost:8080/"
    },
    "id": "B0_vBcGCwgTO",
    "outputId": "3e39dee4-241e-4e1e-a2f0-d05161197fca"
   },
   "outputs": [
    {
     "data": {
      "text/plain": [
       "cheque_id\n",
       "0               [967, 1159]\n",
       "1          [2757, 270, 569]\n",
       "2                [98, 2226]\n",
       "3               [782, 2242]\n",
       "4               [554, 1158]\n",
       "                 ...       \n",
       "3407191         [151, 1158]\n",
       "3407192         [151, 1158]\n",
       "3407193              [1159]\n",
       "3407194              [1158]\n",
       "3407195         [1158, 151]\n",
       "Name: sku_id, Length: 2848238, dtype: object"
      ]
     },
     "execution_count": 38,
     "metadata": {},
     "output_type": "execute_result"
    }
   ],
   "source": [
    "cheques_with_sku['sku_id']"
   ]
  },
  {
   "cell_type": "markdown",
   "metadata": {},
   "source": [
    "Заполним матрицу количеством покупок товаров вместе. Обратим внимание, что покупка товара X с товаром Y для покупателя равнозначна покупке товара Y с товаром X. Поэтому матрица должна получиться симметричной."
   ]
  },
  {
   "cell_type": "code",
   "execution_count": 39,
   "metadata": {
    "id": "hmzIotu2CZvp"
   },
   "outputs": [],
   "source": [
    "for line in cheques_with_sku['sku_id']:\n",
    "  if len(line) >= 2 :\n",
    "    for i in range(len(line)):\n",
    "      for j in range(len(line)):\n",
    "        if i != j :\n",
    "          ii = nomenclature.loc[line[i]]['cluster']\n",
    "          jj = nomenclature.loc[line[j]]['cluster']\n",
    "          correlation_matrix[ii][jj] = correlation_matrix[ii][jj] + 1"
   ]
  },
  {
   "cell_type": "code",
   "execution_count": 41,
   "metadata": {
    "colab": {
     "base_uri": "https://localhost:8080/"
    },
    "id": "50v5naPB7qc-",
    "outputId": "91e54d8a-ce4f-47ff-afb2-32aeafc8a6b8"
   },
   "outputs": [
    {
     "data": {
      "text/plain": [
       "array([[4.00000e+00, 2.00000e+00, 0.00000e+00, ..., 0.00000e+00,\n",
       "        0.00000e+00, 1.00000e+00],\n",
       "       [2.00000e+00, 2.23656e+05, 3.10000e+01, ..., 0.00000e+00,\n",
       "        0.00000e+00, 2.37000e+02],\n",
       "       [0.00000e+00, 3.10000e+01, 0.00000e+00, ..., 0.00000e+00,\n",
       "        0.00000e+00, 0.00000e+00],\n",
       "       ...,\n",
       "       [0.00000e+00, 0.00000e+00, 0.00000e+00, ..., 0.00000e+00,\n",
       "        0.00000e+00, 0.00000e+00],\n",
       "       [0.00000e+00, 0.00000e+00, 0.00000e+00, ..., 0.00000e+00,\n",
       "        0.00000e+00, 0.00000e+00],\n",
       "       [1.00000e+00, 2.37000e+02, 0.00000e+00, ..., 0.00000e+00,\n",
       "        0.00000e+00, 0.00000e+00]])"
      ]
     },
     "execution_count": 41,
     "metadata": {},
     "output_type": "execute_result"
    }
   ],
   "source": [
    "correlation_matrix"
   ]
  },
  {
   "cell_type": "markdown",
   "metadata": {},
   "source": [
    "Теперь выведем SKU, которые нам имеет смысл рекомендовать, в отдельный список."
   ]
  },
  {
   "cell_type": "code",
   "execution_count": 187,
   "metadata": {
    "id": "B9y3r_vdIwxw"
   },
   "outputs": [],
   "source": [
    "sku_for_rec = list(nomenclature[(nomenclature['sku_group'] == 'Вода') | \n",
    "                                    (nomenclature['sku_group'] == 'Сладкие Уранированные напитки, холодный чай') | \n",
    "                                    (nomenclature['sku_group'] == 'Кофейные напитки с молоком') | \n",
    "                                    (nomenclature['sku_group'] == 'Энергетические напитки') | \n",
    "                                    (nomenclature['sku_group'] == 'Снеки') | \n",
    "                                    (nomenclature['sku_group'] == 'Соки и сокосодержащие напитки')]['sku_id'])"
   ]
  },
  {
   "cell_type": "markdown",
   "metadata": {},
   "source": [
    "Далее идут две функции, которые отвечают за выдачу рекомендаций: get_recomendate_cluster и get_recomendate_sku\n",
    "\n",
    "get_recomendate_cluster принимает на вход список кластеров, для которых нужно дать рекомендации, матрицу корреляций между кластерами, список ранее рекомендованных кластеров и количесво кластеров в рекомендации. Количество кластеров в рекомендации помогает получить за один проход функции столько кластеров, сколько нужно для получения необходимого количества товаров.\n",
    "\n",
    "get_recomendate_sku принимает на вход список рекомендованных кластеров, и список товаров, которые мы хотим рекомендовать."
   ]
  },
  {
   "cell_type": "code",
   "execution_count": 12,
   "metadata": {
    "id": "9XiNAmJvXuWt"
   },
   "outputs": [],
   "source": [
    "def get_recomendate_cluster (cluster_list, matrix, list_of_used_clusters, count_of_recs):\n",
    "\n",
    "  corr_matr = matrix.copy()\n",
    "  best_pair = []\n",
    "\n",
    "  for count in range(count_of_recs):\n",
    "\n",
    "    cluster = list(corr_matr[cluster_list[0]]).index(corr_matr[cluster_list[0]].max())\n",
    "    while cluster in list_of_used_clusters:\n",
    "\n",
    "      max_correlation = -1\n",
    "      for i in cluster_list:\n",
    "\n",
    "        if corr_matr[i].max() > max_correlation:\n",
    "          cluster = list(corr_matr[i]).index(corr_matr[i].max())\n",
    "          corr_matr[i][cluster] = -1\n",
    "\n",
    "    best_pair.append(cluster)\n",
    "    list_of_used_clusters.append(cluster)\n",
    "\n",
    "  return best_pair"
   ]
  },
  {
   "cell_type": "code",
   "execution_count": 235,
   "metadata": {
    "id": "cxLA2PLV_gzm"
   },
   "outputs": [],
   "source": [
    "def get_recomendate_sku (clusters, list_of_recomendated_sku):\n",
    "  recomendations = []\n",
    "  for i in clusters:\n",
    "    sku = nomenclature[nomenclature['cluster'] == i]['sku_id']\n",
    "    for j in sku:\n",
    "      if j in list_of_recomendated_sku:\n",
    "        recomendations.append(j)\n",
    "\n",
    "  return recomendations"
   ]
  },
  {
   "cell_type": "markdown",
   "metadata": {
    "id": "oOcDYA4idDLC"
   },
   "source": [
    "Итак, приступим к рекомендациям. Для начала сгруппируем чеки, для которых мы хотим получить рекомендации, и посмотрим указанные в них товары."
   ]
  },
  {
   "cell_type": "code",
   "execution_count": 311,
   "metadata": {
    "id": "xHLtRnWgiPNJ"
   },
   "outputs": [],
   "source": [
    "cheques_with_sku_for_submission = transactions_for_submission[['cheque_id', 'sku_id']].groupby('cheque_id').agg(lambda x: list(x.unique()))"
   ]
  },
  {
   "cell_type": "markdown",
   "metadata": {},
   "source": [
    "Посмотрим количесво чеков"
   ]
  },
  {
   "cell_type": "code",
   "execution_count": 312,
   "metadata": {
    "colab": {
     "base_uri": "https://localhost:8080/"
    },
    "id": "njh4ndkHiPPs",
    "outputId": "904e8c74-ef92-44fc-ea6a-bfa2f5d941fd"
   },
   "outputs": [
    {
     "data": {
      "text/plain": [
       "315228"
      ]
     },
     "execution_count": 312,
     "metadata": {},
     "output_type": "execute_result"
    }
   ],
   "source": [
    "len(list(cheques_with_sku_for_submission['sku_id'].index))"
   ]
  },
  {
   "cell_type": "markdown",
   "metadata": {},
   "source": [
    "Создадим новый датафрейм для записи рекомендаций. После этого пройдемся циклом по чекам и запишем рекомендации для каждого из них."
   ]
  },
  {
   "cell_type": "code",
   "execution_count": 313,
   "metadata": {
    "id": "d34J9_O6iPSF"
   },
   "outputs": [],
   "source": [
    "submission_Lavrinov = pd.DataFrame(columns=['cheque_id', 'sku_id', 'position'])"
   ]
  },
  {
   "cell_type": "code",
   "execution_count": null,
   "metadata": {
    "id": "nvc3rfTliPUp"
   },
   "outputs": [],
   "source": [
    "for i in list(cheques_with_sku_for_submission['sku_id'].index) :\n",
    "  clusters = [nomenclature.loc[j]['cluster'] for j in cheques_with_sku_for_submission['sku_id'][i]]\n",
    "  list_of_used_clusters = []\n",
    "  submission = []\n",
    "  while len(submission) < 20:\n",
    "    submission = submission + get_recomendate_sku(get_recomendate_cluster(clusters, correlation_matrix, list_of_used_clusters, 4), sku_for_rec)\n",
    "  rec_list = submission[:20]\n",
    "  for j in range(len(rec_list)):\n",
    "    submission_Lavrinov = submission_Lavrinov.append({'cheque_id' : i, 'sku_id': rec_list[j], 'position' : j + 1}, ignore_index=True)"
   ]
  },
  {
   "cell_type": "markdown",
   "metadata": {},
   "source": [
    "Сохраним полученный файл."
   ]
  },
  {
   "cell_type": "code",
   "execution_count": null,
   "metadata": {
    "id": "hhI_wniliPXH"
   },
   "outputs": [],
   "source": [
    "submission_Lavrinov.to_parquet('submission_Lavrinov.parquet')"
   ]
  },
  {
   "cell_type": "markdown",
   "metadata": {},
   "source": [
    "Убедимся, что вид полученного файла совпадает с видом предоставленного примера."
   ]
  },
  {
   "cell_type": "code",
   "execution_count": 309,
   "metadata": {
    "colab": {
     "base_uri": "https://localhost:8080/",
     "height": 419
    },
    "id": "jdwoIhQriPah",
    "outputId": "b2356a62-d09d-4e5d-d375-3b73fd1d92e1"
   },
   "outputs": [
    {
     "data": {
      "text/html": [
       "<div>\n",
       "<style scoped>\n",
       "    .dataframe tbody tr th:only-of-type {\n",
       "        vertical-align: middle;\n",
       "    }\n",
       "\n",
       "    .dataframe tbody tr th {\n",
       "        vertical-align: top;\n",
       "    }\n",
       "\n",
       "    .dataframe thead th {\n",
       "        text-align: right;\n",
       "    }\n",
       "</style>\n",
       "<table border=\"1\" class=\"dataframe\">\n",
       "  <thead>\n",
       "    <tr style=\"text-align: right;\">\n",
       "      <th></th>\n",
       "      <th>cheque_id</th>\n",
       "      <th>sku_id</th>\n",
       "      <th>position</th>\n",
       "    </tr>\n",
       "  </thead>\n",
       "  <tbody>\n",
       "    <tr>\n",
       "      <th>0</th>\n",
       "      <td>734259</td>\n",
       "      <td>18</td>\n",
       "      <td>1</td>\n",
       "    </tr>\n",
       "    <tr>\n",
       "      <th>1</th>\n",
       "      <td>734259</td>\n",
       "      <td>22</td>\n",
       "      <td>2</td>\n",
       "    </tr>\n",
       "    <tr>\n",
       "      <th>2</th>\n",
       "      <td>734259</td>\n",
       "      <td>88</td>\n",
       "      <td>3</td>\n",
       "    </tr>\n",
       "    <tr>\n",
       "      <th>3</th>\n",
       "      <td>734259</td>\n",
       "      <td>97</td>\n",
       "      <td>4</td>\n",
       "    </tr>\n",
       "    <tr>\n",
       "      <th>4</th>\n",
       "      <td>734259</td>\n",
       "      <td>160</td>\n",
       "      <td>5</td>\n",
       "    </tr>\n",
       "    <tr>\n",
       "      <th>...</th>\n",
       "      <td>...</td>\n",
       "      <td>...</td>\n",
       "      <td>...</td>\n",
       "    </tr>\n",
       "    <tr>\n",
       "      <th>12275</th>\n",
       "      <td>735581</td>\n",
       "      <td>405</td>\n",
       "      <td>16</td>\n",
       "    </tr>\n",
       "    <tr>\n",
       "      <th>12276</th>\n",
       "      <td>735581</td>\n",
       "      <td>411</td>\n",
       "      <td>17</td>\n",
       "    </tr>\n",
       "    <tr>\n",
       "      <th>12277</th>\n",
       "      <td>735581</td>\n",
       "      <td>571</td>\n",
       "      <td>18</td>\n",
       "    </tr>\n",
       "    <tr>\n",
       "      <th>12278</th>\n",
       "      <td>735581</td>\n",
       "      <td>574</td>\n",
       "      <td>19</td>\n",
       "    </tr>\n",
       "    <tr>\n",
       "      <th>12279</th>\n",
       "      <td>735581</td>\n",
       "      <td>575</td>\n",
       "      <td>20</td>\n",
       "    </tr>\n",
       "  </tbody>\n",
       "</table>\n",
       "<p>12280 rows × 3 columns</p>\n",
       "</div>"
      ],
      "text/plain": [
       "      cheque_id sku_id position\n",
       "0        734259     18        1\n",
       "1        734259     22        2\n",
       "2        734259     88        3\n",
       "3        734259     97        4\n",
       "4        734259    160        5\n",
       "...         ...    ...      ...\n",
       "12275    735581    405       16\n",
       "12276    735581    411       17\n",
       "12277    735581    571       18\n",
       "12278    735581    574       19\n",
       "12279    735581    575       20\n",
       "\n",
       "[12280 rows x 3 columns]"
      ]
     },
     "execution_count": 309,
     "metadata": {},
     "output_type": "execute_result"
    }
   ],
   "source": [
    "submission_Lavrinov"
   ]
  },
  {
   "cell_type": "code",
   "execution_count": 14,
   "metadata": {},
   "outputs": [
    {
     "data": {
      "text/html": [
       "<div>\n",
       "<style scoped>\n",
       "    .dataframe tbody tr th:only-of-type {\n",
       "        vertical-align: middle;\n",
       "    }\n",
       "\n",
       "    .dataframe tbody tr th {\n",
       "        vertical-align: top;\n",
       "    }\n",
       "\n",
       "    .dataframe thead th {\n",
       "        text-align: right;\n",
       "    }\n",
       "</style>\n",
       "<table border=\"1\" class=\"dataframe\">\n",
       "  <thead>\n",
       "    <tr style=\"text-align: right;\">\n",
       "      <th></th>\n",
       "      <th>cheque_id</th>\n",
       "      <th>sku_id</th>\n",
       "      <th>position</th>\n",
       "    </tr>\n",
       "  </thead>\n",
       "  <tbody>\n",
       "    <tr>\n",
       "      <th>0</th>\n",
       "      <td>734259</td>\n",
       "      <td>1499</td>\n",
       "      <td>1</td>\n",
       "    </tr>\n",
       "    <tr>\n",
       "      <th>1</th>\n",
       "      <td>734259</td>\n",
       "      <td>1053</td>\n",
       "      <td>2</td>\n",
       "    </tr>\n",
       "    <tr>\n",
       "      <th>2</th>\n",
       "      <td>734259</td>\n",
       "      <td>1278</td>\n",
       "      <td>3</td>\n",
       "    </tr>\n",
       "    <tr>\n",
       "      <th>3</th>\n",
       "      <td>734259</td>\n",
       "      <td>3719</td>\n",
       "      <td>4</td>\n",
       "    </tr>\n",
       "    <tr>\n",
       "      <th>4</th>\n",
       "      <td>734259</td>\n",
       "      <td>3292</td>\n",
       "      <td>5</td>\n",
       "    </tr>\n",
       "    <tr>\n",
       "      <th>5</th>\n",
       "      <td>734259</td>\n",
       "      <td>1951</td>\n",
       "      <td>6</td>\n",
       "    </tr>\n",
       "    <tr>\n",
       "      <th>6</th>\n",
       "      <td>734259</td>\n",
       "      <td>3186</td>\n",
       "      <td>7</td>\n",
       "    </tr>\n",
       "    <tr>\n",
       "      <th>7</th>\n",
       "      <td>734259</td>\n",
       "      <td>3333</td>\n",
       "      <td>8</td>\n",
       "    </tr>\n",
       "    <tr>\n",
       "      <th>8</th>\n",
       "      <td>734259</td>\n",
       "      <td>2921</td>\n",
       "      <td>9</td>\n",
       "    </tr>\n",
       "    <tr>\n",
       "      <th>9</th>\n",
       "      <td>734259</td>\n",
       "      <td>2194</td>\n",
       "      <td>10</td>\n",
       "    </tr>\n",
       "    <tr>\n",
       "      <th>10</th>\n",
       "      <td>734259</td>\n",
       "      <td>529</td>\n",
       "      <td>11</td>\n",
       "    </tr>\n",
       "    <tr>\n",
       "      <th>11</th>\n",
       "      <td>734259</td>\n",
       "      <td>2785</td>\n",
       "      <td>12</td>\n",
       "    </tr>\n",
       "    <tr>\n",
       "      <th>12</th>\n",
       "      <td>734259</td>\n",
       "      <td>2689</td>\n",
       "      <td>13</td>\n",
       "    </tr>\n",
       "    <tr>\n",
       "      <th>13</th>\n",
       "      <td>734259</td>\n",
       "      <td>4547</td>\n",
       "      <td>14</td>\n",
       "    </tr>\n",
       "    <tr>\n",
       "      <th>14</th>\n",
       "      <td>734259</td>\n",
       "      <td>803</td>\n",
       "      <td>15</td>\n",
       "    </tr>\n",
       "    <tr>\n",
       "      <th>15</th>\n",
       "      <td>734259</td>\n",
       "      <td>862</td>\n",
       "      <td>16</td>\n",
       "    </tr>\n",
       "    <tr>\n",
       "      <th>16</th>\n",
       "      <td>734259</td>\n",
       "      <td>2262</td>\n",
       "      <td>17</td>\n",
       "    </tr>\n",
       "    <tr>\n",
       "      <th>17</th>\n",
       "      <td>734259</td>\n",
       "      <td>1908</td>\n",
       "      <td>18</td>\n",
       "    </tr>\n",
       "    <tr>\n",
       "      <th>18</th>\n",
       "      <td>734259</td>\n",
       "      <td>302</td>\n",
       "      <td>19</td>\n",
       "    </tr>\n",
       "    <tr>\n",
       "      <th>19</th>\n",
       "      <td>734259</td>\n",
       "      <td>5007</td>\n",
       "      <td>20</td>\n",
       "    </tr>\n",
       "    <tr>\n",
       "      <th>20</th>\n",
       "      <td>734260</td>\n",
       "      <td>4521</td>\n",
       "      <td>1</td>\n",
       "    </tr>\n",
       "    <tr>\n",
       "      <th>21</th>\n",
       "      <td>734260</td>\n",
       "      <td>2614</td>\n",
       "      <td>2</td>\n",
       "    </tr>\n",
       "    <tr>\n",
       "      <th>22</th>\n",
       "      <td>734260</td>\n",
       "      <td>59</td>\n",
       "      <td>3</td>\n",
       "    </tr>\n",
       "    <tr>\n",
       "      <th>23</th>\n",
       "      <td>734260</td>\n",
       "      <td>787</td>\n",
       "      <td>4</td>\n",
       "    </tr>\n",
       "    <tr>\n",
       "      <th>24</th>\n",
       "      <td>734260</td>\n",
       "      <td>524</td>\n",
       "      <td>5</td>\n",
       "    </tr>\n",
       "    <tr>\n",
       "      <th>25</th>\n",
       "      <td>734260</td>\n",
       "      <td>640</td>\n",
       "      <td>6</td>\n",
       "    </tr>\n",
       "    <tr>\n",
       "      <th>26</th>\n",
       "      <td>734260</td>\n",
       "      <td>4600</td>\n",
       "      <td>7</td>\n",
       "    </tr>\n",
       "    <tr>\n",
       "      <th>27</th>\n",
       "      <td>734260</td>\n",
       "      <td>266</td>\n",
       "      <td>8</td>\n",
       "    </tr>\n",
       "    <tr>\n",
       "      <th>28</th>\n",
       "      <td>734260</td>\n",
       "      <td>762</td>\n",
       "      <td>9</td>\n",
       "    </tr>\n",
       "    <tr>\n",
       "      <th>29</th>\n",
       "      <td>734260</td>\n",
       "      <td>2120</td>\n",
       "      <td>10</td>\n",
       "    </tr>\n",
       "    <tr>\n",
       "      <th>30</th>\n",
       "      <td>734260</td>\n",
       "      <td>2853</td>\n",
       "      <td>11</td>\n",
       "    </tr>\n",
       "    <tr>\n",
       "      <th>31</th>\n",
       "      <td>734260</td>\n",
       "      <td>4170</td>\n",
       "      <td>12</td>\n",
       "    </tr>\n",
       "    <tr>\n",
       "      <th>32</th>\n",
       "      <td>734260</td>\n",
       "      <td>4495</td>\n",
       "      <td>13</td>\n",
       "    </tr>\n",
       "    <tr>\n",
       "      <th>33</th>\n",
       "      <td>734260</td>\n",
       "      <td>4219</td>\n",
       "      <td>14</td>\n",
       "    </tr>\n",
       "    <tr>\n",
       "      <th>34</th>\n",
       "      <td>734260</td>\n",
       "      <td>1932</td>\n",
       "      <td>15</td>\n",
       "    </tr>\n",
       "    <tr>\n",
       "      <th>35</th>\n",
       "      <td>734260</td>\n",
       "      <td>1370</td>\n",
       "      <td>16</td>\n",
       "    </tr>\n",
       "    <tr>\n",
       "      <th>36</th>\n",
       "      <td>734260</td>\n",
       "      <td>4260</td>\n",
       "      <td>17</td>\n",
       "    </tr>\n",
       "    <tr>\n",
       "      <th>37</th>\n",
       "      <td>734260</td>\n",
       "      <td>226</td>\n",
       "      <td>18</td>\n",
       "    </tr>\n",
       "    <tr>\n",
       "      <th>38</th>\n",
       "      <td>734260</td>\n",
       "      <td>1392</td>\n",
       "      <td>19</td>\n",
       "    </tr>\n",
       "    <tr>\n",
       "      <th>39</th>\n",
       "      <td>734260</td>\n",
       "      <td>1722</td>\n",
       "      <td>20</td>\n",
       "    </tr>\n",
       "  </tbody>\n",
       "</table>\n",
       "</div>"
      ],
      "text/plain": [
       "    cheque_id  sku_id  position\n",
       "0      734259    1499         1\n",
       "1      734259    1053         2\n",
       "2      734259    1278         3\n",
       "3      734259    3719         4\n",
       "4      734259    3292         5\n",
       "5      734259    1951         6\n",
       "6      734259    3186         7\n",
       "7      734259    3333         8\n",
       "8      734259    2921         9\n",
       "9      734259    2194        10\n",
       "10     734259     529        11\n",
       "11     734259    2785        12\n",
       "12     734259    2689        13\n",
       "13     734259    4547        14\n",
       "14     734259     803        15\n",
       "15     734259     862        16\n",
       "16     734259    2262        17\n",
       "17     734259    1908        18\n",
       "18     734259     302        19\n",
       "19     734259    5007        20\n",
       "20     734260    4521         1\n",
       "21     734260    2614         2\n",
       "22     734260      59         3\n",
       "23     734260     787         4\n",
       "24     734260     524         5\n",
       "25     734260     640         6\n",
       "26     734260    4600         7\n",
       "27     734260     266         8\n",
       "28     734260     762         9\n",
       "29     734260    2120        10\n",
       "30     734260    2853        11\n",
       "31     734260    4170        12\n",
       "32     734260    4495        13\n",
       "33     734260    4219        14\n",
       "34     734260    1932        15\n",
       "35     734260    1370        16\n",
       "36     734260    4260        17\n",
       "37     734260     226        18\n",
       "38     734260    1392        19\n",
       "39     734260    1722        20"
      ]
     },
     "execution_count": 14,
     "metadata": {},
     "output_type": "execute_result"
    }
   ],
   "source": [
    "submission_example"
   ]
  },
  {
   "cell_type": "code",
   "execution_count": null,
   "metadata": {},
   "outputs": [],
   "source": []
  }
 ],
 "metadata": {
  "colab": {
   "collapsed_sections": [],
   "name": "From_collab_with_cluster.ipynb",
   "provenance": []
  },
  "kernelspec": {
   "display_name": "Python 3",
   "language": "python",
   "name": "python3"
  },
  "language_info": {
   "codemirror_mode": {
    "name": "ipython",
    "version": 3
   },
   "file_extension": ".py",
   "mimetype": "text/x-python",
   "name": "python",
   "nbconvert_exporter": "python",
   "pygments_lexer": "ipython3",
   "version": "3.8.5"
  }
 },
 "nbformat": 4,
 "nbformat_minor": 1
}
