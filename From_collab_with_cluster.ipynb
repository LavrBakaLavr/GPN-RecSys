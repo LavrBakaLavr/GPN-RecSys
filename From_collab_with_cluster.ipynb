{
 "cells": [
  {
   "cell_type": "code",
   "execution_count": 2,
   "metadata": {
    "id": "t9QY_fXn0VES"
   },
   "outputs": [],
   "source": [
    "from google.colab import drive\n",
    "drive.mount('/content/drive')\n",
    "\n",
    "import pandas as pd\n",
    "\n",
    "nomenclature = pd.read_parquet('/content/drive/MyDrive/nomenclature.parquet')\n",
    "submission_example = pd.read_parquet('/content/drive/MyDrive/submission-example.parquet')\n",
    "transactions = pd.read_parquet('/content/drive/MyDrive/transactions.parquet')\n",
    "transactions_for_submission = pd.read_parquet('/content/drive/MyDrive/transactions-for_submission.parquet')"
   ]
  },
  {
   "cell_type": "code",
   "execution_count": 1,
   "metadata": {},
   "outputs": [],
   "source": [
    "import pandas as pd\n",
    "\n",
    "nomenclature = pd.read_parquet('nomenclature.parquet')\n",
    "submission_example = pd.read_parquet('submission-example.parquet')\n",
    "transactions = pd.read_parquet('transactions.parquet')\n",
    "transactions_for_submission = pd.read_parquet('transactions-for_submission.parquet')"
   ]
  },
  {
   "cell_type": "markdown",
   "metadata": {
    "id": "vAb0esWP0VEU"
   },
   "source": [
    "sku_id – уникальный идентификатор товара\n",
    "<br>full_name – полное наименование товара\n",
    "<br>brand – наименование торговой марки\n",
    "<br>sku_group – группа, к которой принадлежит товар\n",
    "<br>OTM – признак собственной торговой марки\n",
    "<br>units – единица измерения для количества \n",
    "<br>country – страна производства товара"
   ]
  },
  {
   "cell_type": "code",
   "execution_count": 2,
   "metadata": {
    "colab": {
     "base_uri": "https://localhost:8080/",
     "height": 204
    },
    "id": "tO84JjZE0VEW",
    "outputId": "10a12c9e-70a7-459e-917e-43b46521ca76"
   },
   "outputs": [
    {
     "data": {
      "text/html": [
       "<div>\n",
       "<style scoped>\n",
       "    .dataframe tbody tr th:only-of-type {\n",
       "        vertical-align: middle;\n",
       "    }\n",
       "\n",
       "    .dataframe tbody tr th {\n",
       "        vertical-align: top;\n",
       "    }\n",
       "\n",
       "    .dataframe thead th {\n",
       "        text-align: right;\n",
       "    }\n",
       "</style>\n",
       "<table border=\"1\" class=\"dataframe\">\n",
       "  <thead>\n",
       "    <tr style=\"text-align: right;\">\n",
       "      <th></th>\n",
       "      <th>sku_id</th>\n",
       "      <th>full_name</th>\n",
       "      <th>brand</th>\n",
       "      <th>sku_group</th>\n",
       "      <th>OTM</th>\n",
       "      <th>units</th>\n",
       "      <th>country</th>\n",
       "    </tr>\n",
       "  </thead>\n",
       "  <tbody>\n",
       "    <tr>\n",
       "      <th>0</th>\n",
       "      <td>0</td>\n",
       "      <td>Масло Lubricrol Magnatec Diesel 10W-40 B4 1л</td>\n",
       "      <td>Lubricrol</td>\n",
       "      <td>Масла моторные (для варповых двигателей)</td>\n",
       "      <td>Нет</td>\n",
       "      <td>unknown</td>\n",
       "      <td>ГЕРМАНИЯ</td>\n",
       "    </tr>\n",
       "    <tr>\n",
       "      <th>1</th>\n",
       "      <td>723</td>\n",
       "      <td>Трос УранПРОМEthereum буксировочный 4500кг</td>\n",
       "      <td>УранПРОМEthereum</td>\n",
       "      <td>Автотовары</td>\n",
       "      <td>Да</td>\n",
       "      <td>шт</td>\n",
       "      <td>РОССИЯ</td>\n",
       "    </tr>\n",
       "    <tr>\n",
       "      <th>2</th>\n",
       "      <td>3397</td>\n",
       "      <td>Накидка УранПРОМEthereum на спинку автосиденья...</td>\n",
       "      <td>УранПРОМEthereum</td>\n",
       "      <td>Автотовары</td>\n",
       "      <td>Да</td>\n",
       "      <td>шт</td>\n",
       "      <td>unknown</td>\n",
       "    </tr>\n",
       "    <tr>\n",
       "      <th>3</th>\n",
       "      <td>2130</td>\n",
       "      <td>Жилет УранПРОМEthereum световозвращающий</td>\n",
       "      <td>УранПРОМEthereum</td>\n",
       "      <td>Автотовары</td>\n",
       "      <td>Да</td>\n",
       "      <td>шт</td>\n",
       "      <td>unknown</td>\n",
       "    </tr>\n",
       "    <tr>\n",
       "      <th>4</th>\n",
       "      <td>3150</td>\n",
       "      <td>Провода УранПРОМEthereum для прикуривания 200А</td>\n",
       "      <td>УранПРОМEthereum</td>\n",
       "      <td>Автотовары</td>\n",
       "      <td>Да</td>\n",
       "      <td>шт</td>\n",
       "      <td>РОССИЯ</td>\n",
       "    </tr>\n",
       "  </tbody>\n",
       "</table>\n",
       "</div>"
      ],
      "text/plain": [
       "   sku_id                                          full_name  \\\n",
       "0       0       Масло Lubricrol Magnatec Diesel 10W-40 B4 1л   \n",
       "1     723         Трос УранПРОМEthereum буксировочный 4500кг   \n",
       "2    3397  Накидка УранПРОМEthereum на спинку автосиденья...   \n",
       "3    2130           Жилет УранПРОМEthereum световозвращающий   \n",
       "4    3150     Провода УранПРОМEthereum для прикуривания 200А   \n",
       "\n",
       "              brand                                 sku_group  OTM    units  \\\n",
       "0         Lubricrol  Масла моторные (для варповых двигателей)  Нет  unknown   \n",
       "1  УранПРОМEthereum                                Автотовары   Да       шт   \n",
       "2  УранПРОМEthereum                                Автотовары   Да       шт   \n",
       "3  УранПРОМEthereum                                Автотовары   Да       шт   \n",
       "4  УранПРОМEthereum                                Автотовары   Да       шт   \n",
       "\n",
       "    country  \n",
       "0  ГЕРМАНИЯ  \n",
       "1    РОССИЯ  \n",
       "2   unknown  \n",
       "3   unknown  \n",
       "4    РОССИЯ  "
      ]
     },
     "execution_count": 2,
     "metadata": {},
     "output_type": "execute_result"
    }
   ],
   "source": [
    "nomenclature.head()"
   ]
  },
  {
   "cell_type": "code",
   "execution_count": 4,
   "metadata": {
    "colab": {
     "base_uri": "https://localhost:8080/"
    },
    "id": "PqVzPLnF0VEY",
    "outputId": "3e441441-1035-4678-e24b-fe6772cfa824"
   },
   "outputs": [
    {
     "name": "stdout",
     "output_type": "stream",
     "text": [
      "<class 'pandas.core.frame.DataFrame'>\n",
      "RangeIndex: 5103 entries, 0 to 5102\n",
      "Data columns (total 7 columns):\n",
      " #   Column     Non-Null Count  Dtype \n",
      "---  ------     --------------  ----- \n",
      " 0   sku_id     5103 non-null   int64 \n",
      " 1   full_name  5094 non-null   object\n",
      " 2   brand      5094 non-null   object\n",
      " 3   sku_group  5103 non-null   object\n",
      " 4   OTM        5094 non-null   object\n",
      " 5   units      5094 non-null   object\n",
      " 6   country    5094 non-null   object\n",
      "dtypes: int64(1), object(6)\n",
      "memory usage: 279.2+ KB\n"
     ]
    }
   ],
   "source": [
    "nomenclature.info()"
   ]
  },
  {
   "cell_type": "code",
   "execution_count": null,
   "metadata": {
    "colab": {
     "base_uri": "https://localhost:8080/"
    },
    "id": "l303kzEw0VEY",
    "outputId": "d5e68e60-f067-46a8-b172-ec9a5a98e0cf"
   },
   "outputs": [
    {
     "data": {
      "text/plain": [
       "Нет        3336\n",
       "unknown    1370\n",
       "Да          388\n",
       "Name: OTM, dtype: int64"
      ]
     },
     "execution_count": 9,
     "metadata": {},
     "output_type": "execute_result"
    }
   ],
   "source": [
    "nomenclature['OTM'].value_counts()"
   ]
  },
  {
   "cell_type": "code",
   "execution_count": null,
   "metadata": {
    "colab": {
     "base_uri": "https://localhost:8080/",
     "height": 331
    },
    "id": "XTFN6HT90VEZ",
    "outputId": "752db60a-aef1-4213-ee6a-240b8f2c6da5"
   },
   "outputs": [
    {
     "data": {
      "text/html": [
       "<div>\n",
       "<style scoped>\n",
       "    .dataframe tbody tr th:only-of-type {\n",
       "        vertical-align: middle;\n",
       "    }\n",
       "\n",
       "    .dataframe tbody tr th {\n",
       "        vertical-align: top;\n",
       "    }\n",
       "\n",
       "    .dataframe thead th {\n",
       "        text-align: right;\n",
       "    }\n",
       "</style>\n",
       "<table border=\"1\" class=\"dataframe\">\n",
       "  <thead>\n",
       "    <tr style=\"text-align: right;\">\n",
       "      <th></th>\n",
       "      <th>sku_id</th>\n",
       "      <th>full_name</th>\n",
       "      <th>brand</th>\n",
       "      <th>sku_group</th>\n",
       "      <th>OTM</th>\n",
       "      <th>units</th>\n",
       "      <th>country</th>\n",
       "    </tr>\n",
       "  </thead>\n",
       "  <tbody>\n",
       "    <tr>\n",
       "      <th>3724</th>\n",
       "      <td>1158</td>\n",
       "      <td>None</td>\n",
       "      <td>None</td>\n",
       "      <td>Ethereum 92</td>\n",
       "      <td>None</td>\n",
       "      <td>None</td>\n",
       "      <td>None</td>\n",
       "    </tr>\n",
       "    <tr>\n",
       "      <th>3727</th>\n",
       "      <td>1157</td>\n",
       "      <td>None</td>\n",
       "      <td>None</td>\n",
       "      <td>Ethereum 95 бренд</td>\n",
       "      <td>None</td>\n",
       "      <td>None</td>\n",
       "      <td>None</td>\n",
       "    </tr>\n",
       "    <tr>\n",
       "      <th>3728</th>\n",
       "      <td>1163</td>\n",
       "      <td>None</td>\n",
       "      <td>None</td>\n",
       "      <td>Топливо варповое с присадками летнее</td>\n",
       "      <td>None</td>\n",
       "      <td>None</td>\n",
       "      <td>None</td>\n",
       "    </tr>\n",
       "    <tr>\n",
       "      <th>3771</th>\n",
       "      <td>1160</td>\n",
       "      <td>None</td>\n",
       "      <td>None</td>\n",
       "      <td>Топливо варповое зимнее</td>\n",
       "      <td>None</td>\n",
       "      <td>None</td>\n",
       "      <td>None</td>\n",
       "    </tr>\n",
       "    <tr>\n",
       "      <th>3787</th>\n",
       "      <td>1159</td>\n",
       "      <td>None</td>\n",
       "      <td>None</td>\n",
       "      <td>Ethereum 95</td>\n",
       "      <td>None</td>\n",
       "      <td>None</td>\n",
       "      <td>None</td>\n",
       "    </tr>\n",
       "    <tr>\n",
       "      <th>3825</th>\n",
       "      <td>1162</td>\n",
       "      <td>None</td>\n",
       "      <td>None</td>\n",
       "      <td>Топливо варповое с присадками зимнее</td>\n",
       "      <td>None</td>\n",
       "      <td>None</td>\n",
       "      <td>None</td>\n",
       "    </tr>\n",
       "    <tr>\n",
       "      <th>3858</th>\n",
       "      <td>2032</td>\n",
       "      <td>None</td>\n",
       "      <td>None</td>\n",
       "      <td>Ethereum 100 бренд</td>\n",
       "      <td>None</td>\n",
       "      <td>None</td>\n",
       "      <td>None</td>\n",
       "    </tr>\n",
       "    <tr>\n",
       "      <th>4407</th>\n",
       "      <td>1161</td>\n",
       "      <td>None</td>\n",
       "      <td>None</td>\n",
       "      <td>Топливо варповое летнее</td>\n",
       "      <td>None</td>\n",
       "      <td>None</td>\n",
       "      <td>None</td>\n",
       "    </tr>\n",
       "    <tr>\n",
       "      <th>4922</th>\n",
       "      <td>1771</td>\n",
       "      <td>None</td>\n",
       "      <td>None</td>\n",
       "      <td>Топливо варповое с присадками межсезонное</td>\n",
       "      <td>None</td>\n",
       "      <td>None</td>\n",
       "      <td>None</td>\n",
       "    </tr>\n",
       "  </tbody>\n",
       "</table>\n",
       "</div>"
      ],
      "text/plain": [
       "      sku_id full_name brand  ...   OTM units country\n",
       "3724    1158      None  None  ...  None  None    None\n",
       "3727    1157      None  None  ...  None  None    None\n",
       "3728    1163      None  None  ...  None  None    None\n",
       "3771    1160      None  None  ...  None  None    None\n",
       "3787    1159      None  None  ...  None  None    None\n",
       "3825    1162      None  None  ...  None  None    None\n",
       "3858    2032      None  None  ...  None  None    None\n",
       "4407    1161      None  None  ...  None  None    None\n",
       "4922    1771      None  None  ...  None  None    None\n",
       "\n",
       "[9 rows x 7 columns]"
      ]
     },
     "execution_count": 10,
     "metadata": {},
     "output_type": "execute_result"
    }
   ],
   "source": [
    "nomenclature[nomenclature['full_name'].isna()]"
   ]
  },
  {
   "cell_type": "code",
   "execution_count": 12,
   "metadata": {
    "colab": {
     "base_uri": "https://localhost:8080/"
    },
    "id": "5-8rhf9ivfPW",
    "outputId": "287d8288-0a6e-4c33-c252-8815e0d3a740"
   },
   "outputs": [],
   "source": [
    "nomenclature['full_name'] = nomenclature['full_name'].fillna(nomenclature['sku_group'])"
   ]
  },
  {
   "cell_type": "code",
   "execution_count": 13,
   "metadata": {
    "colab": {
     "base_uri": "https://localhost:8080/",
     "height": 80
    },
    "id": "DMo0Lc3svfSb",
    "outputId": "907285b0-3dd2-4797-d840-cc0d720f9dc3"
   },
   "outputs": [
    {
     "data": {
      "text/html": [
       "<div>\n",
       "<style scoped>\n",
       "    .dataframe tbody tr th:only-of-type {\n",
       "        vertical-align: middle;\n",
       "    }\n",
       "\n",
       "    .dataframe tbody tr th {\n",
       "        vertical-align: top;\n",
       "    }\n",
       "\n",
       "    .dataframe thead th {\n",
       "        text-align: right;\n",
       "    }\n",
       "</style>\n",
       "<table border=\"1\" class=\"dataframe\">\n",
       "  <thead>\n",
       "    <tr style=\"text-align: right;\">\n",
       "      <th></th>\n",
       "      <th>sku_id</th>\n",
       "      <th>full_name</th>\n",
       "      <th>brand</th>\n",
       "      <th>sku_group</th>\n",
       "      <th>OTM</th>\n",
       "      <th>units</th>\n",
       "      <th>country</th>\n",
       "    </tr>\n",
       "    <tr>\n",
       "      <th>sku_id</th>\n",
       "      <th></th>\n",
       "      <th></th>\n",
       "      <th></th>\n",
       "      <th></th>\n",
       "      <th></th>\n",
       "      <th></th>\n",
       "      <th></th>\n",
       "    </tr>\n",
       "  </thead>\n",
       "  <tbody>\n",
       "    <tr>\n",
       "      <th>1158</th>\n",
       "      <td>1158</td>\n",
       "      <td>Ethereum 92</td>\n",
       "      <td>None</td>\n",
       "      <td>Ethereum 92</td>\n",
       "      <td>None</td>\n",
       "      <td>None</td>\n",
       "      <td>None</td>\n",
       "    </tr>\n",
       "  </tbody>\n",
       "</table>\n",
       "</div>"
      ],
      "text/plain": [
       "        sku_id    full_name brand    sku_group   OTM units country\n",
       "sku_id                                                            \n",
       "1158      1158  Ethereum 92  None  Ethereum 92  None  None    None"
      ]
     },
     "execution_count": 13,
     "metadata": {},
     "output_type": "execute_result"
    }
   ],
   "source": [
    "nomenclature[nomenclature['sku_id'] == 1158]"
   ]
  },
  {
   "cell_type": "markdown",
   "metadata": {},
   "source": [
    "## Кластеризация SKU"
   ]
  },
  {
   "cell_type": "code",
   "execution_count": 8,
   "metadata": {},
   "outputs": [],
   "source": [
    "nomenclature = nomenclature.sort_values(by='sku_id')\n",
    "nomenclature.index = nomenclature['sku_id']"
   ]
  },
  {
   "cell_type": "code",
   "execution_count": 39,
   "metadata": {},
   "outputs": [],
   "source": [
    "n_clusters = round(len(nomenclature['sku_id'])/5)"
   ]
  },
  {
   "cell_type": "code",
   "execution_count": 41,
   "metadata": {
    "id": "7JMESMYMxkIM"
   },
   "outputs": [],
   "source": [
    "from sklearn.feature_extraction.text import TfidfVectorizer\n",
    "from sklearn.cluster import KMeans\n",
    "\n",
    "vectorizer = TfidfVectorizer(analyzer='word', ngram_range=(1,2))\n",
    "X = vectorizer.fit_transform(nomenclature['full_name'])\n",
    "\n",
    "kmeans = KMeans(n_clusters=n_clusters)\n",
    "kmeans.fit(X)\n",
    "result = pd.concat([nomenclature['full_name'],pd.DataFrame(X.toarray(),columns=vectorizer.get_feature_names())],axis=1)\n",
    "result['cluster'] = kmeans.predict(X)"
   ]
  },
  {
   "cell_type": "code",
   "execution_count": 42,
   "metadata": {},
   "outputs": [],
   "source": [
    "nomenclature['cluster'] = result['cluster']"
   ]
  },
  {
   "cell_type": "code",
   "execution_count": 43,
   "metadata": {},
   "outputs": [
    {
     "data": {
      "text/html": [
       "<div>\n",
       "<style scoped>\n",
       "    .dataframe tbody tr th:only-of-type {\n",
       "        vertical-align: middle;\n",
       "    }\n",
       "\n",
       "    .dataframe tbody tr th {\n",
       "        vertical-align: top;\n",
       "    }\n",
       "\n",
       "    .dataframe thead th {\n",
       "        text-align: right;\n",
       "    }\n",
       "</style>\n",
       "<table border=\"1\" class=\"dataframe\">\n",
       "  <thead>\n",
       "    <tr style=\"text-align: right;\">\n",
       "      <th></th>\n",
       "      <th>sku_id</th>\n",
       "      <th>full_name</th>\n",
       "      <th>brand</th>\n",
       "      <th>sku_group</th>\n",
       "      <th>OTM</th>\n",
       "      <th>units</th>\n",
       "      <th>country</th>\n",
       "      <th>cluster</th>\n",
       "    </tr>\n",
       "    <tr>\n",
       "      <th>sku_id</th>\n",
       "      <th></th>\n",
       "      <th></th>\n",
       "      <th></th>\n",
       "      <th></th>\n",
       "      <th></th>\n",
       "      <th></th>\n",
       "      <th></th>\n",
       "      <th></th>\n",
       "    </tr>\n",
       "  </thead>\n",
       "  <tbody>\n",
       "    <tr>\n",
       "      <th>0</th>\n",
       "      <td>0</td>\n",
       "      <td>Масло Lubricrol Magnatec Diesel 10W-40 B4 1л</td>\n",
       "      <td>Lubricrol</td>\n",
       "      <td>Масла моторные (для варповых двигателей)</td>\n",
       "      <td>Нет</td>\n",
       "      <td>unknown</td>\n",
       "      <td>ГЕРМАНИЯ</td>\n",
       "      <td>650</td>\n",
       "    </tr>\n",
       "    <tr>\n",
       "      <th>1</th>\n",
       "      <td>1</td>\n",
       "      <td>Хомуты FORTISFLEX пластиковые 15-30см 50шт</td>\n",
       "      <td>FORTISFLEX</td>\n",
       "      <td>Автотовары</td>\n",
       "      <td>Нет</td>\n",
       "      <td>шт</td>\n",
       "      <td>unknown</td>\n",
       "      <td>341</td>\n",
       "    </tr>\n",
       "    <tr>\n",
       "      <th>2</th>\n",
       "      <td>2</td>\n",
       "      <td>Держатель G-Fly (СТМ) для смартфонов на дефлек...</td>\n",
       "      <td>G-Fly (СТМ)</td>\n",
       "      <td>Автотовары</td>\n",
       "      <td>Да</td>\n",
       "      <td>шт</td>\n",
       "      <td>КИТАЙ</td>\n",
       "      <td>439</td>\n",
       "    </tr>\n",
       "    <tr>\n",
       "      <th>3</th>\n",
       "      <td>3</td>\n",
       "      <td>Держатель SAPFIRE Mobile SM-0944 для телефона ...</td>\n",
       "      <td>SAPFIRE</td>\n",
       "      <td>Автотовары</td>\n",
       "      <td>Нет</td>\n",
       "      <td>шт</td>\n",
       "      <td>КИТАЙ</td>\n",
       "      <td>169</td>\n",
       "    </tr>\n",
       "    <tr>\n",
       "      <th>4</th>\n",
       "      <td>4</td>\n",
       "      <td>Устройство зарядное G-Fly (СТМ) SGD-0913 USB порт</td>\n",
       "      <td>G-Fly (СТМ)</td>\n",
       "      <td>Автотовары</td>\n",
       "      <td>Да</td>\n",
       "      <td>шт</td>\n",
       "      <td>КИТАЙ</td>\n",
       "      <td>23</td>\n",
       "    </tr>\n",
       "  </tbody>\n",
       "</table>\n",
       "</div>"
      ],
      "text/plain": [
       "        sku_id                                          full_name  \\\n",
       "sku_id                                                              \n",
       "0            0       Масло Lubricrol Magnatec Diesel 10W-40 B4 1л   \n",
       "1            1         Хомуты FORTISFLEX пластиковые 15-30см 50шт   \n",
       "2            2  Держатель G-Fly (СТМ) для смартфонов на дефлек...   \n",
       "3            3  Держатель SAPFIRE Mobile SM-0944 для телефона ...   \n",
       "4            4  Устройство зарядное G-Fly (СТМ) SGD-0913 USB порт   \n",
       "\n",
       "              brand                                 sku_group  OTM    units  \\\n",
       "sku_id                                                                        \n",
       "0         Lubricrol  Масла моторные (для варповых двигателей)  Нет  unknown   \n",
       "1        FORTISFLEX                                Автотовары  Нет       шт   \n",
       "2       G-Fly (СТМ)                                Автотовары   Да       шт   \n",
       "3           SAPFIRE                                Автотовары  Нет       шт   \n",
       "4       G-Fly (СТМ)                                Автотовары   Да       шт   \n",
       "\n",
       "         country  cluster  \n",
       "sku_id                     \n",
       "0       ГЕРМАНИЯ      650  \n",
       "1        unknown      341  \n",
       "2          КИТАЙ      439  \n",
       "3          КИТАЙ      169  \n",
       "4          КИТАЙ       23  "
      ]
     },
     "execution_count": 43,
     "metadata": {},
     "output_type": "execute_result"
    }
   ],
   "source": [
    "nomenclature.head()"
   ]
  },
  {
   "cell_type": "markdown",
   "metadata": {
    "id": "hZR34vX90VEa"
   },
   "source": [
    "sku_id – уникальный идентификатор товара\n",
    "<br>price – цена, по которой был продан товар\n",
    "<br>number – количество товаров (если не топливо) \n",
    "<br>cheque_id – уникальный идентификатор чека\n",
    "<br>litrs – количество литров (если товар - топливо)\n",
    "<br>client_id – уникальный идентификатор клиента (если клиент «представился» при покупке)\n",
    "<br>shop_id – уникальный идентификатор магазина\n",
    "<br>date – дата транзакции"
   ]
  },
  {
   "cell_type": "code",
   "execution_count": 22,
   "metadata": {
    "colab": {
     "base_uri": "https://localhost:8080/",
     "height": 206
    },
    "id": "TdURzhWN0VEb",
    "outputId": "51bc4778-7376-4ae9-8b8d-eb95a4a4485c"
   },
   "outputs": [
    {
     "data": {
      "text/html": [
       "<div>\n",
       "<style scoped>\n",
       "    .dataframe tbody tr th:only-of-type {\n",
       "        vertical-align: middle;\n",
       "    }\n",
       "\n",
       "    .dataframe tbody tr th {\n",
       "        vertical-align: top;\n",
       "    }\n",
       "\n",
       "    .dataframe thead th {\n",
       "        text-align: right;\n",
       "    }\n",
       "</style>\n",
       "<table border=\"1\" class=\"dataframe\">\n",
       "  <thead>\n",
       "    <tr style=\"text-align: right;\">\n",
       "      <th></th>\n",
       "      <th>sku_id</th>\n",
       "      <th>price</th>\n",
       "      <th>number</th>\n",
       "      <th>cheque_id</th>\n",
       "      <th>litrs</th>\n",
       "      <th>client_id</th>\n",
       "      <th>shop_id</th>\n",
       "      <th>date</th>\n",
       "    </tr>\n",
       "  </thead>\n",
       "  <tbody>\n",
       "    <tr>\n",
       "      <th>7620114</th>\n",
       "      <td>1159</td>\n",
       "      <td>0.002496</td>\n",
       "      <td>0.0</td>\n",
       "      <td>2262516</td>\n",
       "      <td>0.114416</td>\n",
       "      <td>83585.0</td>\n",
       "      <td>96</td>\n",
       "      <td>2171-03-01</td>\n",
       "    </tr>\n",
       "    <tr>\n",
       "      <th>7620115</th>\n",
       "      <td>1159</td>\n",
       "      <td>0.002512</td>\n",
       "      <td>0.0</td>\n",
       "      <td>2857410</td>\n",
       "      <td>0.145132</td>\n",
       "      <td>54793.0</td>\n",
       "      <td>84</td>\n",
       "      <td>2171-03-01</td>\n",
       "    </tr>\n",
       "    <tr>\n",
       "      <th>7620116</th>\n",
       "      <td>1159</td>\n",
       "      <td>0.002522</td>\n",
       "      <td>0.0</td>\n",
       "      <td>1814506</td>\n",
       "      <td>0.134552</td>\n",
       "      <td>159580.0</td>\n",
       "      <td>36</td>\n",
       "      <td>2171-03-01</td>\n",
       "    </tr>\n",
       "    <tr>\n",
       "      <th>7620117</th>\n",
       "      <td>1159</td>\n",
       "      <td>0.002496</td>\n",
       "      <td>0.0</td>\n",
       "      <td>2262671</td>\n",
       "      <td>0.114416</td>\n",
       "      <td>159383.0</td>\n",
       "      <td>96</td>\n",
       "      <td>2171-03-01</td>\n",
       "    </tr>\n",
       "    <tr>\n",
       "      <th>7620118</th>\n",
       "      <td>1158</td>\n",
       "      <td>0.002270</td>\n",
       "      <td>0.0</td>\n",
       "      <td>1764664</td>\n",
       "      <td>0.159197</td>\n",
       "      <td>192548.0</td>\n",
       "      <td>77</td>\n",
       "      <td>2171-03-01</td>\n",
       "    </tr>\n",
       "  </tbody>\n",
       "</table>\n",
       "</div>"
      ],
      "text/plain": [
       "         sku_id     price  number  cheque_id     litrs  client_id  shop_id  \\\n",
       "7620114    1159  0.002496     0.0    2262516  0.114416    83585.0       96   \n",
       "7620115    1159  0.002512     0.0    2857410  0.145132    54793.0       84   \n",
       "7620116    1159  0.002522     0.0    1814506  0.134552   159580.0       36   \n",
       "7620117    1159  0.002496     0.0    2262671  0.114416   159383.0       96   \n",
       "7620118    1158  0.002270     0.0    1764664  0.159197   192548.0       77   \n",
       "\n",
       "              date  \n",
       "7620114 2171-03-01  \n",
       "7620115 2171-03-01  \n",
       "7620116 2171-03-01  \n",
       "7620117 2171-03-01  \n",
       "7620118 2171-03-01  "
      ]
     },
     "execution_count": 22,
     "metadata": {},
     "output_type": "execute_result"
    }
   ],
   "source": [
    "transactions.tail()"
   ]
  },
  {
   "cell_type": "code",
   "execution_count": 23,
   "metadata": {
    "colab": {
     "base_uri": "https://localhost:8080/",
     "height": 282
    },
    "id": "DZgkqGx30VEc",
    "outputId": "abc36814-ef98-4a56-cac4-a13ec37b0142"
   },
   "outputs": [
    {
     "data": {
      "text/plain": [
       "[<matplotlib.lines.Line2D at 0x2ab092f2c40>]"
      ]
     },
     "execution_count": 23,
     "metadata": {},
     "output_type": "execute_result"
    },
    {
     "data": {
      "image/png": "[encoded data removed]",
      "text/plain": [
       "<Figure size 432x288 with 1 Axes>"
      ]
     },
     "metadata": {
      "needs_background": "light"
     },
     "output_type": "display_data"
    }
   ],
   "source": [
    "import matplotlib.pyplot as plt\n",
    "\n",
    "nomenclature[nomenclature['full_name'].isna()]['sku_id']\n",
    "\n",
    "sku_without_fuel = []\n",
    "\n",
    "for idx in transactions['sku_id'].value_counts().index.sort_values() :\n",
    "    if idx != 1157 and idx != 1158 and idx != 1159 and idx != 1160 and idx != 1161 and idx != 1162 and idx != 1163 and idx != 1771 and idx != 2032: sku_without_fuel.append(idx)\n",
    "\n",
    "plt.plot(sku_without_fuel, \n",
    "    transactions['sku_id'].value_counts()[sku_without_fuel])"
   ]
  },
  {
   "cell_type": "code",
   "execution_count": 24,
   "metadata": {
    "colab": {
     "base_uri": "https://localhost:8080/"
    },
    "id": "UU7M5SmL0VEe",
    "outputId": "d5065b3c-3990-48e4-fdb2-d1535d952ff1"
   },
   "outputs": [
    {
     "data": {
      "text/plain": [
       "2650         1\n",
       "2832         1\n",
       "2307         1\n",
       "4671         1\n",
       "2839         1\n",
       "         ...  \n",
       "834      64544\n",
       "269      78120\n",
       "3324     96884\n",
       "926     105297\n",
       "3329    129716\n",
       "Name: sku_id, Length: 4864, dtype: int64"
      ]
     },
     "execution_count": 24,
     "metadata": {},
     "output_type": "execute_result"
    }
   ],
   "source": [
    "transactions['sku_id'].value_counts()[sku_without_fuel].sort_values()"
   ]
  },
  {
   "cell_type": "code",
   "execution_count": 25,
   "metadata": {
    "colab": {
     "base_uri": "https://localhost:8080/",
     "height": 81
    },
    "id": "qF-02o1E0VEf",
    "outputId": "020a72ef-3ee6-40a0-9241-79f69a5812ca"
   },
   "outputs": [
    {
     "data": {
      "text/html": [
       "<div>\n",
       "<style scoped>\n",
       "    .dataframe tbody tr th:only-of-type {\n",
       "        vertical-align: middle;\n",
       "    }\n",
       "\n",
       "    .dataframe tbody tr th {\n",
       "        vertical-align: top;\n",
       "    }\n",
       "\n",
       "    .dataframe thead th {\n",
       "        text-align: right;\n",
       "    }\n",
       "</style>\n",
       "<table border=\"1\" class=\"dataframe\">\n",
       "  <thead>\n",
       "    <tr style=\"text-align: right;\">\n",
       "      <th></th>\n",
       "      <th>sku_id</th>\n",
       "      <th>full_name</th>\n",
       "      <th>brand</th>\n",
       "      <th>sku_group</th>\n",
       "      <th>OTM</th>\n",
       "      <th>units</th>\n",
       "      <th>country</th>\n",
       "      <th>cluster</th>\n",
       "    </tr>\n",
       "    <tr>\n",
       "      <th>sku_id</th>\n",
       "      <th></th>\n",
       "      <th></th>\n",
       "      <th></th>\n",
       "      <th></th>\n",
       "      <th></th>\n",
       "      <th></th>\n",
       "      <th></th>\n",
       "      <th></th>\n",
       "    </tr>\n",
       "  </thead>\n",
       "  <tbody>\n",
       "    <tr>\n",
       "      <th>3329</th>\n",
       "      <td>3329</td>\n",
       "      <td>Напиток Fly Cafe молокосодержащий кофейный Мок...</td>\n",
       "      <td>Fly Cafe</td>\n",
       "      <td>Кофейные напитки с молоком</td>\n",
       "      <td>Нет</td>\n",
       "      <td>л</td>\n",
       "      <td>РОССИЯ</td>\n",
       "      <td>798</td>\n",
       "    </tr>\n",
       "  </tbody>\n",
       "</table>\n",
       "</div>"
      ],
      "text/plain": [
       "        sku_id                                          full_name     brand  \\\n",
       "sku_id                                                                        \n",
       "3329      3329  Напиток Fly Cafe молокосодержащий кофейный Мок...  Fly Cafe   \n",
       "\n",
       "                         sku_group  OTM units country  cluster  \n",
       "sku_id                                                          \n",
       "3329    Кофейные напитки с молоком  Нет     л  РОССИЯ      798  "
      ]
     },
     "execution_count": 25,
     "metadata": {},
     "output_type": "execute_result"
    }
   ],
   "source": [
    "nomenclature[nomenclature['sku_id'] == 3329]"
   ]
  },
  {
   "cell_type": "code",
   "execution_count": 26,
   "metadata": {
    "colab": {
     "base_uri": "https://localhost:8080/"
    },
    "id": "UJ5AhbeK0VEf",
    "outputId": "30eaf6d0-94dd-4bb6-f531-cc15e6fcf2d5"
   },
   "outputs": [
    {
     "data": {
      "text/plain": [
       "548     18\n",
       "11      10\n",
       "604      5\n",
       "1962     4\n",
       "Name: sku_id, dtype: int64"
      ]
     },
     "execution_count": 26,
     "metadata": {},
     "output_type": "execute_result"
    }
   ],
   "source": [
    "transactions[transactions['price'] == 0]['sku_id'].value_counts()"
   ]
  },
  {
   "cell_type": "code",
   "execution_count": 27,
   "metadata": {
    "colab": {
     "base_uri": "https://localhost:8080/"
    },
    "id": "h9IyFMso0VEg",
    "outputId": "748a2c7c-0f4f-4fce-bd4d-351db7f28575"
   },
   "outputs": [
    {
     "data": {
      "text/plain": [
       "Series([], Name: sku_id, dtype: int64)"
      ]
     },
     "execution_count": 27,
     "metadata": {},
     "output_type": "execute_result"
    }
   ],
   "source": [
    "transactions = transactions.loc[transactions['price'] > 0]\n",
    "\n",
    "transactions[transactions['price'] == 0]['sku_id'].value_counts()"
   ]
  },
  {
   "cell_type": "code",
   "execution_count": 28,
   "metadata": {
    "colab": {
     "base_uri": "https://localhost:8080/"
    },
    "id": "n9H1eMKD0VEh",
    "outputId": "352284da-7f61-405b-cf9e-20a8823668f8",
    "scrolled": false
   },
   "outputs": [
    {
     "data": {
      "text/plain": [
       "2991211    72\n",
       "2650985    60\n",
       "2595734    54\n",
       "2875620    50\n",
       "3116548    50\n",
       "           ..\n",
       "1534340     1\n",
       "1999853     1\n",
       "1676504     1\n",
       "1532916     1\n",
       "919014      1\n",
       "Name: cheque_id, Length: 2848238, dtype: int64"
      ]
     },
     "execution_count": 28,
     "metadata": {},
     "output_type": "execute_result"
    }
   ],
   "source": [
    "transactions['cheque_id'].value_counts()"
   ]
  },
  {
   "cell_type": "code",
   "execution_count": 29,
   "metadata": {
    "colab": {
     "base_uri": "https://localhost:8080/",
     "height": 419
    },
    "id": "sy_7E_fJ0VEh",
    "outputId": "0c53ea34-cd4c-4073-9416-f68ec2b3b1ff"
   },
   "outputs": [
    {
     "data": {
      "text/html": [
       "<div>\n",
       "<style scoped>\n",
       "    .dataframe tbody tr th:only-of-type {\n",
       "        vertical-align: middle;\n",
       "    }\n",
       "\n",
       "    .dataframe tbody tr th {\n",
       "        vertical-align: top;\n",
       "    }\n",
       "\n",
       "    .dataframe thead th {\n",
       "        text-align: right;\n",
       "    }\n",
       "</style>\n",
       "<table border=\"1\" class=\"dataframe\">\n",
       "  <thead>\n",
       "    <tr style=\"text-align: right;\">\n",
       "      <th></th>\n",
       "      <th>sku_id</th>\n",
       "      <th>price</th>\n",
       "      <th>number</th>\n",
       "      <th>cheque_id</th>\n",
       "      <th>litrs</th>\n",
       "      <th>client_id</th>\n",
       "      <th>shop_id</th>\n",
       "      <th>date</th>\n",
       "    </tr>\n",
       "  </thead>\n",
       "  <tbody>\n",
       "    <tr>\n",
       "      <th>3999732</th>\n",
       "      <td>847</td>\n",
       "      <td>0.008107</td>\n",
       "      <td>0.000452</td>\n",
       "      <td>2991211</td>\n",
       "      <td>0.104183</td>\n",
       "      <td>NaN</td>\n",
       "      <td>73</td>\n",
       "      <td>2171-05-12</td>\n",
       "    </tr>\n",
       "    <tr>\n",
       "      <th>3999733</th>\n",
       "      <td>847</td>\n",
       "      <td>0.008107</td>\n",
       "      <td>0.000452</td>\n",
       "      <td>2991211</td>\n",
       "      <td>0.104183</td>\n",
       "      <td>NaN</td>\n",
       "      <td>73</td>\n",
       "      <td>2171-05-12</td>\n",
       "    </tr>\n",
       "    <tr>\n",
       "      <th>3999734</th>\n",
       "      <td>847</td>\n",
       "      <td>0.008107</td>\n",
       "      <td>0.000452</td>\n",
       "      <td>2991211</td>\n",
       "      <td>0.104183</td>\n",
       "      <td>NaN</td>\n",
       "      <td>73</td>\n",
       "      <td>2171-05-12</td>\n",
       "    </tr>\n",
       "    <tr>\n",
       "      <th>3999736</th>\n",
       "      <td>847</td>\n",
       "      <td>0.008107</td>\n",
       "      <td>0.000452</td>\n",
       "      <td>2991211</td>\n",
       "      <td>0.104183</td>\n",
       "      <td>NaN</td>\n",
       "      <td>73</td>\n",
       "      <td>2171-05-12</td>\n",
       "    </tr>\n",
       "    <tr>\n",
       "      <th>3999737</th>\n",
       "      <td>847</td>\n",
       "      <td>0.008107</td>\n",
       "      <td>0.000452</td>\n",
       "      <td>2991211</td>\n",
       "      <td>0.104183</td>\n",
       "      <td>NaN</td>\n",
       "      <td>73</td>\n",
       "      <td>2171-05-12</td>\n",
       "    </tr>\n",
       "    <tr>\n",
       "      <th>...</th>\n",
       "      <td>...</td>\n",
       "      <td>...</td>\n",
       "      <td>...</td>\n",
       "      <td>...</td>\n",
       "      <td>...</td>\n",
       "      <td>...</td>\n",
       "      <td>...</td>\n",
       "      <td>...</td>\n",
       "    </tr>\n",
       "    <tr>\n",
       "      <th>4002758</th>\n",
       "      <td>847</td>\n",
       "      <td>0.008107</td>\n",
       "      <td>0.000452</td>\n",
       "      <td>2991211</td>\n",
       "      <td>0.104183</td>\n",
       "      <td>NaN</td>\n",
       "      <td>73</td>\n",
       "      <td>2171-05-12</td>\n",
       "    </tr>\n",
       "    <tr>\n",
       "      <th>4002759</th>\n",
       "      <td>847</td>\n",
       "      <td>0.008107</td>\n",
       "      <td>0.000452</td>\n",
       "      <td>2991211</td>\n",
       "      <td>0.104183</td>\n",
       "      <td>NaN</td>\n",
       "      <td>73</td>\n",
       "      <td>2171-05-12</td>\n",
       "    </tr>\n",
       "    <tr>\n",
       "      <th>4002760</th>\n",
       "      <td>847</td>\n",
       "      <td>0.008107</td>\n",
       "      <td>0.000452</td>\n",
       "      <td>2991211</td>\n",
       "      <td>0.104183</td>\n",
       "      <td>NaN</td>\n",
       "      <td>73</td>\n",
       "      <td>2171-05-12</td>\n",
       "    </tr>\n",
       "    <tr>\n",
       "      <th>4002777</th>\n",
       "      <td>847</td>\n",
       "      <td>0.008107</td>\n",
       "      <td>0.000452</td>\n",
       "      <td>2991211</td>\n",
       "      <td>0.104183</td>\n",
       "      <td>NaN</td>\n",
       "      <td>73</td>\n",
       "      <td>2171-05-12</td>\n",
       "    </tr>\n",
       "    <tr>\n",
       "      <th>4002778</th>\n",
       "      <td>847</td>\n",
       "      <td>0.008107</td>\n",
       "      <td>0.000452</td>\n",
       "      <td>2991211</td>\n",
       "      <td>0.104183</td>\n",
       "      <td>NaN</td>\n",
       "      <td>73</td>\n",
       "      <td>2171-05-12</td>\n",
       "    </tr>\n",
       "  </tbody>\n",
       "</table>\n",
       "<p>72 rows × 8 columns</p>\n",
       "</div>"
      ],
      "text/plain": [
       "         sku_id     price    number  cheque_id     litrs  client_id  shop_id  \\\n",
       "3999732     847  0.008107  0.000452    2991211  0.104183        NaN       73   \n",
       "3999733     847  0.008107  0.000452    2991211  0.104183        NaN       73   \n",
       "3999734     847  0.008107  0.000452    2991211  0.104183        NaN       73   \n",
       "3999736     847  0.008107  0.000452    2991211  0.104183        NaN       73   \n",
       "3999737     847  0.008107  0.000452    2991211  0.104183        NaN       73   \n",
       "...         ...       ...       ...        ...       ...        ...      ...   \n",
       "4002758     847  0.008107  0.000452    2991211  0.104183        NaN       73   \n",
       "4002759     847  0.008107  0.000452    2991211  0.104183        NaN       73   \n",
       "4002760     847  0.008107  0.000452    2991211  0.104183        NaN       73   \n",
       "4002777     847  0.008107  0.000452    2991211  0.104183        NaN       73   \n",
       "4002778     847  0.008107  0.000452    2991211  0.104183        NaN       73   \n",
       "\n",
       "              date  \n",
       "3999732 2171-05-12  \n",
       "3999733 2171-05-12  \n",
       "3999734 2171-05-12  \n",
       "3999736 2171-05-12  \n",
       "3999737 2171-05-12  \n",
       "...            ...  \n",
       "4002758 2171-05-12  \n",
       "4002759 2171-05-12  \n",
       "4002760 2171-05-12  \n",
       "4002777 2171-05-12  \n",
       "4002778 2171-05-12  \n",
       "\n",
       "[72 rows x 8 columns]"
      ]
     },
     "execution_count": 29,
     "metadata": {},
     "output_type": "execute_result"
    }
   ],
   "source": [
    "transactions[transactions['cheque_id'] == 2991211]"
   ]
  },
  {
   "cell_type": "code",
   "execution_count": 30,
   "metadata": {
    "colab": {
     "base_uri": "https://localhost:8080/",
     "height": 81
    },
    "id": "gMUAnN6a0VEi",
    "outputId": "c54bf83e-d8cb-4096-c376-f05f5ba40cf6"
   },
   "outputs": [
    {
     "data": {
      "text/html": [
       "<div>\n",
       "<style scoped>\n",
       "    .dataframe tbody tr th:only-of-type {\n",
       "        vertical-align: middle;\n",
       "    }\n",
       "\n",
       "    .dataframe tbody tr th {\n",
       "        vertical-align: top;\n",
       "    }\n",
       "\n",
       "    .dataframe thead th {\n",
       "        text-align: right;\n",
       "    }\n",
       "</style>\n",
       "<table border=\"1\" class=\"dataframe\">\n",
       "  <thead>\n",
       "    <tr style=\"text-align: right;\">\n",
       "      <th></th>\n",
       "      <th>sku_id</th>\n",
       "      <th>full_name</th>\n",
       "      <th>brand</th>\n",
       "      <th>sku_group</th>\n",
       "      <th>OTM</th>\n",
       "      <th>units</th>\n",
       "      <th>country</th>\n",
       "      <th>cluster</th>\n",
       "    </tr>\n",
       "    <tr>\n",
       "      <th>sku_id</th>\n",
       "      <th></th>\n",
       "      <th></th>\n",
       "      <th></th>\n",
       "      <th></th>\n",
       "      <th></th>\n",
       "      <th></th>\n",
       "      <th></th>\n",
       "      <th></th>\n",
       "    </tr>\n",
       "  </thead>\n",
       "  <tbody>\n",
       "    <tr>\n",
       "      <th>847</th>\n",
       "      <td>847</td>\n",
       "      <td>Стики Winston fresh</td>\n",
       "      <td>Winston</td>\n",
       "      <td>Табачные изделия</td>\n",
       "      <td>Нет</td>\n",
       "      <td>шт</td>\n",
       "      <td>РОССИЯ</td>\n",
       "      <td>234</td>\n",
       "    </tr>\n",
       "  </tbody>\n",
       "</table>\n",
       "</div>"
      ],
      "text/plain": [
       "        sku_id            full_name    brand         sku_group  OTM units  \\\n",
       "sku_id                                                                      \n",
       "847        847  Стики Winston fresh  Winston  Табачные изделия  Нет    шт   \n",
       "\n",
       "       country  cluster  \n",
       "sku_id                   \n",
       "847     РОССИЯ      234  "
      ]
     },
     "execution_count": 30,
     "metadata": {},
     "output_type": "execute_result"
    }
   ],
   "source": [
    "nomenclature[nomenclature['sku_id'] == 847]"
   ]
  },
  {
   "cell_type": "code",
   "execution_count": 31,
   "metadata": {
    "colab": {
     "base_uri": "https://localhost:8080/"
    },
    "id": "_60bUysN0VEj",
    "outputId": "2ab7736b-264d-4c0a-c0df-64ae7976eb5b"
   },
   "outputs": [
    {
     "data": {
      "text/plain": [
       "count                          7620082\n",
       "mean     2171-05-15 05:19:35.533639680\n",
       "min                2171-03-01 00:00:00\n",
       "25%                2171-04-06 00:00:00\n",
       "50%                2171-05-16 00:00:00\n",
       "75%                2171-06-23 00:00:00\n",
       "max                2171-07-31 00:00:00\n",
       "Name: date, dtype: object"
      ]
     },
     "execution_count": 31,
     "metadata": {},
     "output_type": "execute_result"
    }
   ],
   "source": [
    "transactions['date'].describe(datetime_is_numeric=True)"
   ]
  },
  {
   "cell_type": "code",
   "execution_count": 32,
   "metadata": {
    "colab": {
     "base_uri": "https://localhost:8080/",
     "height": 300
    },
    "id": "Wku6UEsTpY4r",
    "outputId": "b33b7975-e545-44fc-ef54-9ee731ed5ed9"
   },
   "outputs": [
    {
     "data": {
      "text/html": [
       "<div>\n",
       "<style scoped>\n",
       "    .dataframe tbody tr th:only-of-type {\n",
       "        vertical-align: middle;\n",
       "    }\n",
       "\n",
       "    .dataframe tbody tr th {\n",
       "        vertical-align: top;\n",
       "    }\n",
       "\n",
       "    .dataframe thead th {\n",
       "        text-align: right;\n",
       "    }\n",
       "</style>\n",
       "<table border=\"1\" class=\"dataframe\">\n",
       "  <thead>\n",
       "    <tr style=\"text-align: right;\">\n",
       "      <th></th>\n",
       "      <th>sku_id</th>\n",
       "      <th>price</th>\n",
       "      <th>number</th>\n",
       "      <th>cheque_id</th>\n",
       "      <th>litrs</th>\n",
       "      <th>client_id</th>\n",
       "      <th>shop_id</th>\n",
       "    </tr>\n",
       "  </thead>\n",
       "  <tbody>\n",
       "    <tr>\n",
       "      <th>count</th>\n",
       "      <td>7.620082e+06</td>\n",
       "      <td>7.620082e+06</td>\n",
       "      <td>7.620082e+06</td>\n",
       "      <td>7.620082e+06</td>\n",
       "      <td>7.620082e+06</td>\n",
       "      <td>3.847762e+06</td>\n",
       "      <td>7.620082e+06</td>\n",
       "    </tr>\n",
       "    <tr>\n",
       "      <th>mean</th>\n",
       "      <td>1.527027e+03</td>\n",
       "      <td>6.422752e-03</td>\n",
       "      <td>3.887710e-04</td>\n",
       "      <td>1.620233e+06</td>\n",
       "      <td>1.125244e-01</td>\n",
       "      <td>2.015499e+05</td>\n",
       "      <td>4.982813e+01</td>\n",
       "    </tr>\n",
       "    <tr>\n",
       "      <th>std</th>\n",
       "      <td>1.150473e+03</td>\n",
       "      <td>7.003631e-03</td>\n",
       "      <td>2.233111e-03</td>\n",
       "      <td>1.014186e+06</td>\n",
       "      <td>1.750255e-02</td>\n",
       "      <td>1.182743e+05</td>\n",
       "      <td>3.188205e+01</td>\n",
       "    </tr>\n",
       "    <tr>\n",
       "      <th>min</th>\n",
       "      <td>0.000000e+00</td>\n",
       "      <td>5.130836e-07</td>\n",
       "      <td>0.000000e+00</td>\n",
       "      <td>0.000000e+00</td>\n",
       "      <td>0.000000e+00</td>\n",
       "      <td>0.000000e+00</td>\n",
       "      <td>1.000000e+00</td>\n",
       "    </tr>\n",
       "    <tr>\n",
       "      <th>25%</th>\n",
       "      <td>8.080000e+02</td>\n",
       "      <td>2.770652e-03</td>\n",
       "      <td>4.522493e-04</td>\n",
       "      <td>6.760610e+05</td>\n",
       "      <td>1.041835e-01</td>\n",
       "      <td>1.001890e+05</td>\n",
       "      <td>2.000000e+01</td>\n",
       "    </tr>\n",
       "    <tr>\n",
       "      <th>50%</th>\n",
       "      <td>1.159000e+03</td>\n",
       "      <td>6.105695e-03</td>\n",
       "      <td>4.522493e-04</td>\n",
       "      <td>1.605441e+06</td>\n",
       "      <td>1.041835e-01</td>\n",
       "      <td>1.967850e+05</td>\n",
       "      <td>4.400000e+01</td>\n",
       "    </tr>\n",
       "    <tr>\n",
       "      <th>75%</th>\n",
       "      <td>2.195000e+03</td>\n",
       "      <td>8.671113e-03</td>\n",
       "      <td>4.522493e-04</td>\n",
       "      <td>2.510368e+06</td>\n",
       "      <td>1.041835e-01</td>\n",
       "      <td>3.075310e+05</td>\n",
       "      <td>7.700000e+01</td>\n",
       "    </tr>\n",
       "    <tr>\n",
       "      <th>max</th>\n",
       "      <td>5.058000e+03</td>\n",
       "      <td>1.000000e+00</td>\n",
       "      <td>1.000000e+00</td>\n",
       "      <td>3.407195e+06</td>\n",
       "      <td>1.000000e+00</td>\n",
       "      <td>4.052290e+05</td>\n",
       "      <td>1.100000e+02</td>\n",
       "    </tr>\n",
       "  </tbody>\n",
       "</table>\n",
       "</div>"
      ],
      "text/plain": [
       "             sku_id         price        number     cheque_id         litrs  \\\n",
       "count  7.620082e+06  7.620082e+06  7.620082e+06  7.620082e+06  7.620082e+06   \n",
       "mean   1.527027e+03  6.422752e-03  3.887710e-04  1.620233e+06  1.125244e-01   \n",
       "std    1.150473e+03  7.003631e-03  2.233111e-03  1.014186e+06  1.750255e-02   \n",
       "min    0.000000e+00  5.130836e-07  0.000000e+00  0.000000e+00  0.000000e+00   \n",
       "25%    8.080000e+02  2.770652e-03  4.522493e-04  6.760610e+05  1.041835e-01   \n",
       "50%    1.159000e+03  6.105695e-03  4.522493e-04  1.605441e+06  1.041835e-01   \n",
       "75%    2.195000e+03  8.671113e-03  4.522493e-04  2.510368e+06  1.041835e-01   \n",
       "max    5.058000e+03  1.000000e+00  1.000000e+00  3.407195e+06  1.000000e+00   \n",
       "\n",
       "          client_id       shop_id  \n",
       "count  3.847762e+06  7.620082e+06  \n",
       "mean   2.015499e+05  4.982813e+01  \n",
       "std    1.182743e+05  3.188205e+01  \n",
       "min    0.000000e+00  1.000000e+00  \n",
       "25%    1.001890e+05  2.000000e+01  \n",
       "50%    1.967850e+05  4.400000e+01  \n",
       "75%    3.075310e+05  7.700000e+01  \n",
       "max    4.052290e+05  1.100000e+02  "
      ]
     },
     "execution_count": 32,
     "metadata": {},
     "output_type": "execute_result"
    }
   ],
   "source": [
    "transactions.describe()"
   ]
  },
  {
   "cell_type": "code",
   "execution_count": 33,
   "metadata": {
    "id": "M_1lrb4N0VEj"
   },
   "outputs": [],
   "source": [
    "transactions['client_id'] = transactions['client_id'].fillna(999999)"
   ]
  },
  {
   "cell_type": "code",
   "execution_count": 34,
   "metadata": {
    "colab": {
     "base_uri": "https://localhost:8080/",
     "height": 424
    },
    "id": "I0lsxIwM0VEk",
    "outputId": "e42494b1-e24c-4d90-835b-0371c7655b36"
   },
   "outputs": [
    {
     "data": {
      "text/html": [
       "<div>\n",
       "<style scoped>\n",
       "    .dataframe tbody tr th:only-of-type {\n",
       "        vertical-align: middle;\n",
       "    }\n",
       "\n",
       "    .dataframe tbody tr th {\n",
       "        vertical-align: top;\n",
       "    }\n",
       "\n",
       "    .dataframe thead th {\n",
       "        text-align: right;\n",
       "    }\n",
       "</style>\n",
       "<table border=\"1\" class=\"dataframe\">\n",
       "  <thead>\n",
       "    <tr style=\"text-align: right;\">\n",
       "      <th></th>\n",
       "      <th>sku_id</th>\n",
       "      <th>price</th>\n",
       "      <th>number</th>\n",
       "      <th>cheque_id</th>\n",
       "      <th>litrs</th>\n",
       "      <th>client_id</th>\n",
       "      <th>shop_id</th>\n",
       "      <th>date</th>\n",
       "    </tr>\n",
       "  </thead>\n",
       "  <tbody>\n",
       "    <tr>\n",
       "      <th>3999732</th>\n",
       "      <td>847</td>\n",
       "      <td>0.008107</td>\n",
       "      <td>0.000452</td>\n",
       "      <td>2991211</td>\n",
       "      <td>0.104183</td>\n",
       "      <td>999999.0</td>\n",
       "      <td>73</td>\n",
       "      <td>2171-05-12</td>\n",
       "    </tr>\n",
       "    <tr>\n",
       "      <th>3999733</th>\n",
       "      <td>847</td>\n",
       "      <td>0.008107</td>\n",
       "      <td>0.000452</td>\n",
       "      <td>2991211</td>\n",
       "      <td>0.104183</td>\n",
       "      <td>999999.0</td>\n",
       "      <td>73</td>\n",
       "      <td>2171-05-12</td>\n",
       "    </tr>\n",
       "    <tr>\n",
       "      <th>3999734</th>\n",
       "      <td>847</td>\n",
       "      <td>0.008107</td>\n",
       "      <td>0.000452</td>\n",
       "      <td>2991211</td>\n",
       "      <td>0.104183</td>\n",
       "      <td>999999.0</td>\n",
       "      <td>73</td>\n",
       "      <td>2171-05-12</td>\n",
       "    </tr>\n",
       "    <tr>\n",
       "      <th>3999736</th>\n",
       "      <td>847</td>\n",
       "      <td>0.008107</td>\n",
       "      <td>0.000452</td>\n",
       "      <td>2991211</td>\n",
       "      <td>0.104183</td>\n",
       "      <td>999999.0</td>\n",
       "      <td>73</td>\n",
       "      <td>2171-05-12</td>\n",
       "    </tr>\n",
       "    <tr>\n",
       "      <th>3999737</th>\n",
       "      <td>847</td>\n",
       "      <td>0.008107</td>\n",
       "      <td>0.000452</td>\n",
       "      <td>2991211</td>\n",
       "      <td>0.104183</td>\n",
       "      <td>999999.0</td>\n",
       "      <td>73</td>\n",
       "      <td>2171-05-12</td>\n",
       "    </tr>\n",
       "    <tr>\n",
       "      <th>...</th>\n",
       "      <td>...</td>\n",
       "      <td>...</td>\n",
       "      <td>...</td>\n",
       "      <td>...</td>\n",
       "      <td>...</td>\n",
       "      <td>...</td>\n",
       "      <td>...</td>\n",
       "      <td>...</td>\n",
       "    </tr>\n",
       "    <tr>\n",
       "      <th>4002758</th>\n",
       "      <td>847</td>\n",
       "      <td>0.008107</td>\n",
       "      <td>0.000452</td>\n",
       "      <td>2991211</td>\n",
       "      <td>0.104183</td>\n",
       "      <td>999999.0</td>\n",
       "      <td>73</td>\n",
       "      <td>2171-05-12</td>\n",
       "    </tr>\n",
       "    <tr>\n",
       "      <th>4002759</th>\n",
       "      <td>847</td>\n",
       "      <td>0.008107</td>\n",
       "      <td>0.000452</td>\n",
       "      <td>2991211</td>\n",
       "      <td>0.104183</td>\n",
       "      <td>999999.0</td>\n",
       "      <td>73</td>\n",
       "      <td>2171-05-12</td>\n",
       "    </tr>\n",
       "    <tr>\n",
       "      <th>4002760</th>\n",
       "      <td>847</td>\n",
       "      <td>0.008107</td>\n",
       "      <td>0.000452</td>\n",
       "      <td>2991211</td>\n",
       "      <td>0.104183</td>\n",
       "      <td>999999.0</td>\n",
       "      <td>73</td>\n",
       "      <td>2171-05-12</td>\n",
       "    </tr>\n",
       "    <tr>\n",
       "      <th>4002777</th>\n",
       "      <td>847</td>\n",
       "      <td>0.008107</td>\n",
       "      <td>0.000452</td>\n",
       "      <td>2991211</td>\n",
       "      <td>0.104183</td>\n",
       "      <td>999999.0</td>\n",
       "      <td>73</td>\n",
       "      <td>2171-05-12</td>\n",
       "    </tr>\n",
       "    <tr>\n",
       "      <th>4002778</th>\n",
       "      <td>847</td>\n",
       "      <td>0.008107</td>\n",
       "      <td>0.000452</td>\n",
       "      <td>2991211</td>\n",
       "      <td>0.104183</td>\n",
       "      <td>999999.0</td>\n",
       "      <td>73</td>\n",
       "      <td>2171-05-12</td>\n",
       "    </tr>\n",
       "  </tbody>\n",
       "</table>\n",
       "<p>72 rows × 8 columns</p>\n",
       "</div>"
      ],
      "text/plain": [
       "         sku_id     price    number  cheque_id     litrs  client_id  shop_id  \\\n",
       "3999732     847  0.008107  0.000452    2991211  0.104183   999999.0       73   \n",
       "3999733     847  0.008107  0.000452    2991211  0.104183   999999.0       73   \n",
       "3999734     847  0.008107  0.000452    2991211  0.104183   999999.0       73   \n",
       "3999736     847  0.008107  0.000452    2991211  0.104183   999999.0       73   \n",
       "3999737     847  0.008107  0.000452    2991211  0.104183   999999.0       73   \n",
       "...         ...       ...       ...        ...       ...        ...      ...   \n",
       "4002758     847  0.008107  0.000452    2991211  0.104183   999999.0       73   \n",
       "4002759     847  0.008107  0.000452    2991211  0.104183   999999.0       73   \n",
       "4002760     847  0.008107  0.000452    2991211  0.104183   999999.0       73   \n",
       "4002777     847  0.008107  0.000452    2991211  0.104183   999999.0       73   \n",
       "4002778     847  0.008107  0.000452    2991211  0.104183   999999.0       73   \n",
       "\n",
       "              date  \n",
       "3999732 2171-05-12  \n",
       "3999733 2171-05-12  \n",
       "3999734 2171-05-12  \n",
       "3999736 2171-05-12  \n",
       "3999737 2171-05-12  \n",
       "...            ...  \n",
       "4002758 2171-05-12  \n",
       "4002759 2171-05-12  \n",
       "4002760 2171-05-12  \n",
       "4002777 2171-05-12  \n",
       "4002778 2171-05-12  \n",
       "\n",
       "[72 rows x 8 columns]"
      ]
     },
     "execution_count": 34,
     "metadata": {},
     "output_type": "execute_result"
    }
   ],
   "source": [
    "transactions[transactions['cheque_id'] == 2991211]"
   ]
  },
  {
   "cell_type": "code",
   "execution_count": 35,
   "metadata": {
    "colab": {
     "base_uri": "https://localhost:8080/"
    },
    "id": "OrjKcnvE0VEl",
    "outputId": "b0ab2cb8-0dbf-4794-bb68-7667927d369f"
   },
   "outputs": [
    {
     "data": {
      "text/plain": [
       "0.104183    5794666\n",
       "0.134044      42665\n",
       "0.124090      27803\n",
       "0.126151      23767\n",
       "0.143998      18226\n",
       "             ...   \n",
       "0.148111          1\n",
       "0.106404          1\n",
       "0.235580          1\n",
       "0.104188          1\n",
       "0.000000          1\n",
       "Name: litrs, Length: 19851, dtype: int64"
      ]
     },
     "execution_count": 35,
     "metadata": {},
     "output_type": "execute_result"
    }
   ],
   "source": [
    "transactions['litrs'].value_counts()"
   ]
  },
  {
   "cell_type": "code",
   "execution_count": 36,
   "metadata": {
    "id": "KFTcy2sT0VEm"
   },
   "outputs": [],
   "source": [
    "def get_correct_litrs (litrs, value_of_error):\n",
    "    correct_value = litrs - value_of_error\n",
    "    if correct_value < 0 : return 0\n",
    "    else : return correct_value\n",
    "    \n",
    "litrs_mode = transactions['litrs'].mode()[0]\n",
    "\n",
    "transactions['litrs'] = transactions.apply(\n",
    "    lambda x: get_correct_litrs(x['litrs'], litrs_mode)\n",
    "    , axis = 1)"
   ]
  },
  {
   "cell_type": "code",
   "execution_count": 37,
   "metadata": {
    "colab": {
     "base_uri": "https://localhost:8080/"
    },
    "id": "s-y7oAU30VEm",
    "outputId": "969c1525-41b3-4000-8cf1-9fa9a5648204"
   },
   "outputs": [
    {
     "data": {
      "text/plain": [
       "0.000000    5795239\n",
       "0.029861      42665\n",
       "0.019907      27803\n",
       "0.021967      23767\n",
       "0.039814      18226\n",
       "             ...   \n",
       "0.029980          1\n",
       "0.295241          1\n",
       "0.000004          1\n",
       "0.123434          1\n",
       "0.024757          1\n",
       "Name: litrs, Length: 19295, dtype: int64"
      ]
     },
     "execution_count": 37,
     "metadata": {},
     "output_type": "execute_result"
    }
   ],
   "source": [
    "transactions['litrs'].value_counts()"
   ]
  },
  {
   "cell_type": "code",
   "execution_count": 38,
   "metadata": {
    "id": "azLnFvGU0VEl"
   },
   "outputs": [],
   "source": [
    "transactions.to_parquet('transactions_modified.parquet')"
   ]
  },
  {
   "cell_type": "code",
   "execution_count": null,
   "metadata": {
    "id": "4pCj3NIH0VEl"
   },
   "outputs": [],
   "source": [
    "import pandas as pd\n",
    "transactions = pd.read_parquet('transactions_modified.parquet')"
   ]
  },
  {
   "cell_type": "markdown",
   "metadata": {},
   "source": [
    "##  Получение рекомендаций"
   ]
  },
  {
   "cell_type": "code",
   "execution_count": 44,
   "metadata": {
    "id": "jyAQOcw_0VEp"
   },
   "outputs": [],
   "source": [
    "import numpy as np\n",
    "\n",
    "correlation_matrix = np.zeros((n_clusters, n_clusters))"
   ]
  },
  {
   "cell_type": "code",
   "execution_count": null,
   "metadata": {
    "colab": {
     "base_uri": "https://localhost:8080/",
     "height": 175
    },
    "id": "Y9YOoP2XofN6",
    "outputId": "c293631d-bdc0-42a2-ca6c-67d4ed512bd6"
   },
   "outputs": [
    {
     "data": {
      "text/html": [
       "<div>\n",
       "<style scoped>\n",
       "    .dataframe tbody tr th:only-of-type {\n",
       "        vertical-align: middle;\n",
       "    }\n",
       "\n",
       "    .dataframe tbody tr th {\n",
       "        vertical-align: top;\n",
       "    }\n",
       "\n",
       "    .dataframe thead th {\n",
       "        text-align: right;\n",
       "    }\n",
       "</style>\n",
       "<table border=\"1\" class=\"dataframe\">\n",
       "  <thead>\n",
       "    <tr style=\"text-align: right;\">\n",
       "      <th></th>\n",
       "      <th>sku_id</th>\n",
       "      <th>price</th>\n",
       "      <th>number</th>\n",
       "      <th>cheque_id</th>\n",
       "      <th>litrs</th>\n",
       "      <th>client_id</th>\n",
       "      <th>shop_id</th>\n",
       "      <th>date</th>\n",
       "    </tr>\n",
       "  </thead>\n",
       "  <tbody>\n",
       "    <tr>\n",
       "      <th>7579109</th>\n",
       "      <td>2757</td>\n",
       "      <td>0.010210</td>\n",
       "      <td>0.000452</td>\n",
       "      <td>1</td>\n",
       "      <td>0.0</td>\n",
       "      <td>999999.0</td>\n",
       "      <td>5</td>\n",
       "      <td>2171-03-01</td>\n",
       "    </tr>\n",
       "    <tr>\n",
       "      <th>7580411</th>\n",
       "      <td>270</td>\n",
       "      <td>0.010723</td>\n",
       "      <td>0.000452</td>\n",
       "      <td>1</td>\n",
       "      <td>0.0</td>\n",
       "      <td>999999.0</td>\n",
       "      <td>5</td>\n",
       "      <td>2171-03-01</td>\n",
       "    </tr>\n",
       "    <tr>\n",
       "      <th>7611908</th>\n",
       "      <td>270</td>\n",
       "      <td>0.010723</td>\n",
       "      <td>0.000452</td>\n",
       "      <td>1</td>\n",
       "      <td>0.0</td>\n",
       "      <td>999999.0</td>\n",
       "      <td>5</td>\n",
       "      <td>2171-03-01</td>\n",
       "    </tr>\n",
       "    <tr>\n",
       "      <th>7618266</th>\n",
       "      <td>569</td>\n",
       "      <td>0.004053</td>\n",
       "      <td>0.000452</td>\n",
       "      <td>1</td>\n",
       "      <td>0.0</td>\n",
       "      <td>999999.0</td>\n",
       "      <td>5</td>\n",
       "      <td>2171-03-01</td>\n",
       "    </tr>\n",
       "  </tbody>\n",
       "</table>\n",
       "</div>"
      ],
      "text/plain": [
       "         sku_id     price    number  ...  client_id  shop_id       date\n",
       "7579109    2757  0.010210  0.000452  ...   999999.0        5 2171-03-01\n",
       "7580411     270  0.010723  0.000452  ...   999999.0        5 2171-03-01\n",
       "7611908     270  0.010723  0.000452  ...   999999.0        5 2171-03-01\n",
       "7618266     569  0.004053  0.000452  ...   999999.0        5 2171-03-01\n",
       "\n",
       "[4 rows x 8 columns]"
      ]
     },
     "execution_count": 35,
     "metadata": {},
     "output_type": "execute_result"
    }
   ],
   "source": [
    "transactions[transactions['cheque_id'] == 1]"
   ]
  },
  {
   "cell_type": "code",
   "execution_count": 47,
   "metadata": {
    "id": "lHUqhvVx2eWg"
   },
   "outputs": [],
   "source": [
    "cheques_with_sku = transactions[['cheque_id', 'sku_id']].groupby('cheque_id').agg(lambda x: list(x.unique()))"
   ]
  },
  {
   "cell_type": "code",
   "execution_count": 48,
   "metadata": {
    "id": "B0_vBcGCwgTO"
   },
   "outputs": [
    {
     "data": {
      "text/plain": [
       "cheque_id\n",
       "0               [967, 1159]\n",
       "1          [2757, 270, 569]\n",
       "2                [98, 2226]\n",
       "3               [782, 2242]\n",
       "4               [554, 1158]\n",
       "                 ...       \n",
       "3407191         [151, 1158]\n",
       "3407192         [151, 1158]\n",
       "3407193              [1159]\n",
       "3407194              [1158]\n",
       "3407195         [1158, 151]\n",
       "Name: sku_id, Length: 2848238, dtype: object"
      ]
     },
     "execution_count": 48,
     "metadata": {},
     "output_type": "execute_result"
    }
   ],
   "source": [
    "cheques_with_sku['sku_id']"
   ]
  },
  {
   "cell_type": "code",
   "execution_count": 56,
   "metadata": {
    "id": "hmzIotu2CZvp"
   },
   "outputs": [],
   "source": [
    "for line in cheques_with_sku['sku_id']:\n",
    "  if len(line) >= 2 :\n",
    "    for i in range(len(line)):\n",
    "      for j in range(len(line)):\n",
    "        if i != j :\n",
    "          correlation_matrix[line[i]][line[j]] = correlation_matrix[line[i]][line[j]] + 1"
   ]
  },
  {
   "cell_type": "code",
   "execution_count": 17,
   "metadata": {
    "colab": {
     "base_uri": "https://localhost:8080/"
    },
    "id": "CGEKbtD1GQeV",
    "outputId": "6eaa98d3-cafb-4eb8-a8a0-082bc75ee3b3"
   },
   "outputs": [
    {
     "data": {
      "text/plain": [
       "104.0"
      ]
     },
     "execution_count": 17,
     "metadata": {},
     "output_type": "execute_result"
    }
   ],
   "source": [
    "correlation_matrix[nomenclature.loc[1158]['cluster']][nomenclature.loc[151]['cluster']]"
   ]
  },
  {
   "cell_type": "code",
   "execution_count": 18,
   "metadata": {
    "colab": {
     "base_uri": "https://localhost:8080/"
    },
    "id": "50v5naPB7qc-",
    "outputId": "fe1133dd-83ad-471c-bd95-509852dbba1a"
   },
   "outputs": [
    {
     "data": {
      "text/plain": [
       "array([[0., 0., 0., ..., 0., 0., 0.],\n",
       "       [0., 0., 0., ..., 0., 0., 0.],\n",
       "       [0., 0., 0., ..., 0., 0., 0.],\n",
       "       ...,\n",
       "       [0., 0., 0., ..., 0., 0., 0.],\n",
       "       [0., 0., 0., ..., 0., 0., 0.],\n",
       "       [0., 0., 0., ..., 0., 0., 0.]])"
      ]
     },
     "execution_count": 18,
     "metadata": {},
     "output_type": "execute_result"
    }
   ],
   "source": [
    "correlation_matrix"
   ]
  },
  {
   "cell_type": "code",
   "execution_count": 19,
   "metadata": {
    "id": "B9y3r_vdIwxw"
   },
   "outputs": [],
   "source": [
    "sku_for_rec = list(nomenclature[(nomenclature['sku_group'] == 'Вода') | \n",
    "                                    (nomenclature['sku_group'] == 'Сладкие Уранированные напитки, холодный чай') | \n",
    "                                    (nomenclature['sku_group'] == 'Кофейные напитки с молоком') | \n",
    "                                    (nomenclature['sku_group'] == 'Энергетические напитки') | \n",
    "                                    (nomenclature['sku_group'] == 'Снеки') | \n",
    "                                    (nomenclature['sku_group'] == 'Соки и сокосодержащие напитки')]['sku_id'])"
   ]
  },
  {
   "cell_type": "code",
   "execution_count": null,
   "metadata": {},
   "outputs": [],
   "source": [
    "def get_recomendation (sku_list, matrix, rec_sku, count_of_recs):\n",
    "\n",
    "  corr_matr = matrix.copy()\n",
    "  list_of_rec_sku = rec_sku.copy()\n",
    "  best_pair = []\n",
    "\n",
    "  while len(best_pair) < count_of_recs :\n",
    "\n",
    "    rec_cluster = list(corr_matr[nomenclature.loc[sku_list]['cluster']]).index(corr_matr[nomenclature.loc[sku_list]['cluster']].max())\n",
    "    sku_from_cluster = list(nomenclature[nomenclature['cluster'] == cluster])\n",
    "\n",
    "  return best_pair"
   ]
  },
  {
   "cell_type": "code",
   "execution_count": null,
   "metadata": {},
   "outputs": [],
   "source": [
    "print(get_recomendation ([1158], correlation_matrix, sku_for_rec, 20))"
   ]
  },
  {
   "cell_type": "code",
   "execution_count": 20,
   "metadata": {
    "id": "9XiNAmJvXuWt"
   },
   "outputs": [],
   "source": [
    "def get_recomendation (sku_list, matrix, rec_sku, count_of_recs):\n",
    "\n",
    "  corr_matr = matrix.copy()\n",
    "  list_of_rec_sku = rec_sku.copy()\n",
    "  best_pair = []\n",
    "\n",
    "  for count in range(count_of_recs):\n",
    "\n",
    "    sku = list(corr_matr[sku_list[0]]).index(corr_matr[sku_list[0]].max())\n",
    "    while sku not in list_of_rec_sku:\n",
    "\n",
    "      max_correlation = -1\n",
    "      for i in sku_list:\n",
    "\n",
    "        if corr_matr[i].max() > max_correlation:\n",
    "          sku = list(corr_matr[i]).index(corr_matr[i].max())\n",
    "          corr_matr[i][sku] = -1\n",
    "\n",
    "    list_of_rec_sku.remove(sku)\n",
    "    best_pair.append(sku)\n",
    "\n",
    "  return best_pair"
   ]
  },
  {
   "cell_type": "code",
   "execution_count": 21,
   "metadata": {
    "colab": {
     "base_uri": "https://localhost:8080/"
    },
    "id": "gVTZOCGj2obD",
    "outputId": "e928f4f9-3b9b-4396-d4a5-c064bb776849"
   },
   "outputs": [
    {
     "name": "stdout",
     "output_type": "stream",
     "text": [
      "[122, 190, 373, 580, 804, 2001, 2389, 18, 22, 31, 46, 69, 88, 89, 94, 96, 97, 98, 99, 121]\n"
     ]
    }
   ],
   "source": [
    "print(get_recomendation ([0], correlation_matrix, sku_for_rec, 20))"
   ]
  },
  {
   "cell_type": "code",
   "execution_count": 22,
   "metadata": {
    "colab": {
     "base_uri": "https://localhost:8080/"
    },
    "id": "WRUMSeTPZKUT",
    "outputId": "7f7852f0-3a7e-4326-cd22-80ed20707a61"
   },
   "outputs": [
    {
     "name": "stdout",
     "output_type": "stream",
     "text": [
      "[3324, 3329, 1551, 98, 2673, 1533, 3334, 808, 3330, 434, 400, 1535, 817, 3325, 433, 3039, 99, 3336, 403, 431]\n"
     ]
    }
   ],
   "source": [
    "print(get_recomendation ([1158], correlation_matrix, sku_for_rec, 20))"
   ]
  },
  {
   "cell_type": "code",
   "execution_count": null,
   "metadata": {
    "colab": {
     "base_uri": "https://localhost:8080/"
    },
    "id": "_HYEjeXcdSXC",
    "outputId": "d4fb4bfc-ed51-4d84-d394-bc08bad4c876"
   },
   "outputs": [
    {
     "name": "stdout",
     "output_type": "stream",
     "text": [
      "[3329, 3324, 3334, 3330, 3336, 1535, 2673, 434, 1533, 3325, 400, 3333, 3708, 3337, 1534, 153, 433, 98, 817, 228]\n"
     ]
    }
   ],
   "source": [
    "print(get_recomendation ([1158, 1159, 1160], correlation_matrix, sku_for_rec, 20))"
   ]
  },
  {
   "cell_type": "code",
   "execution_count": null,
   "metadata": {
    "id": "oOcDYA4idDLC"
   },
   "outputs": [],
   "source": [
    "transactions_for_submission = pd.read_parquet('/content/drive/MyDrive/transactions-for_submission.parquet')"
   ]
  },
  {
   "cell_type": "code",
   "execution_count": 37,
   "metadata": {
    "id": "xHLtRnWgiPNJ"
   },
   "outputs": [],
   "source": [
    "cheques_with_sku_for_submission = transactions_for_submission.head(100)[['cheque_id', 'sku_id']].groupby('cheque_id').agg(lambda x: list(x.unique()))"
   ]
  },
  {
   "cell_type": "code",
   "execution_count": null,
   "metadata": {
    "id": "njh4ndkHiPPs"
   },
   "outputs": [],
   "source": [
    "list(cheques_with_sku_for_submission['sku_id'].index)"
   ]
  },
  {
   "cell_type": "code",
   "execution_count": 38,
   "metadata": {
    "colab": {
     "base_uri": "https://localhost:8080/"
    },
    "id": "1noplroRt-4U",
    "outputId": "eba54b41-93c3-47bf-941f-edc165ebd4af"
   },
   "outputs": [
    {
     "data": {
      "text/plain": [
       "cheque_id\n",
       "734259                         [1158]\n",
       "734260                          [555]\n",
       "734264                         [1158]\n",
       "734266                         [1534]\n",
       "734268                         [1158]\n",
       "                     ...             \n",
       "734368                         [1158]\n",
       "734369                    [2191, 910]\n",
       "734370              [408, 4681, 1157]\n",
       "734372    [3251, 408, 880, 3517, 447]\n",
       "734374                         [1358]\n",
       "Name: sku_id, Length: 61, dtype: object"
      ]
     },
     "execution_count": 38,
     "metadata": {},
     "output_type": "execute_result"
    }
   ],
   "source": [
    "cheques_with_sku_for_submission['sku_id']"
   ]
  },
  {
   "cell_type": "code",
   "execution_count": 39,
   "metadata": {
    "id": "d34J9_O6iPSF"
   },
   "outputs": [],
   "source": [
    "submission_Lavrinov = pd.DataFrame(columns=['cheque_id', 'sku_id', 'position'])"
   ]
  },
  {
   "cell_type": "code",
   "execution_count": 40,
   "metadata": {
    "id": "nvc3rfTliPUp"
   },
   "outputs": [],
   "source": [
    "for i in list(cheques_with_sku_for_submission['sku_id'].index) :\n",
    "  rec_list = get_recomendation (cheques_with_sku_for_submission['sku_id'][i], correlation_matrix, sku_for_rec, 20)\n",
    "  for j in range(len(rec_list)):\n",
    "    submission_Lavrinov = submission_Lavrinov.append({'cheque_id' : i, 'sku_id': rec_list[j], 'position' : j + 1}, ignore_index=True)"
   ]
  },
  {
   "cell_type": "code",
   "execution_count": 41,
   "metadata": {
    "id": "hhI_wniliPXH"
   },
   "outputs": [],
   "source": [
    "submission_Lavrinov.to_parquet('submission_Lavrinov.parquet')"
   ]
  },
  {
   "cell_type": "code",
   "execution_count": 43,
   "metadata": {
    "colab": {
     "base_uri": "https://localhost:8080/",
     "height": 419
    },
    "id": "jdwoIhQriPah",
    "outputId": "8f2150b0-80c8-47ac-dfa0-91e085f53577"
   },
   "outputs": [
    {
     "data": {
      "text/html": [
       "<div>\n",
       "<style scoped>\n",
       "    .dataframe tbody tr th:only-of-type {\n",
       "        vertical-align: middle;\n",
       "    }\n",
       "\n",
       "    .dataframe tbody tr th {\n",
       "        vertical-align: top;\n",
       "    }\n",
       "\n",
       "    .dataframe thead th {\n",
       "        text-align: right;\n",
       "    }\n",
       "</style>\n",
       "<table border=\"1\" class=\"dataframe\">\n",
       "  <thead>\n",
       "    <tr style=\"text-align: right;\">\n",
       "      <th></th>\n",
       "      <th>cheque_id</th>\n",
       "      <th>sku_id</th>\n",
       "      <th>position</th>\n",
       "    </tr>\n",
       "  </thead>\n",
       "  <tbody>\n",
       "    <tr>\n",
       "      <th>0</th>\n",
       "      <td>734259</td>\n",
       "      <td>3324</td>\n",
       "      <td>1</td>\n",
       "    </tr>\n",
       "    <tr>\n",
       "      <th>1</th>\n",
       "      <td>734259</td>\n",
       "      <td>3329</td>\n",
       "      <td>2</td>\n",
       "    </tr>\n",
       "    <tr>\n",
       "      <th>2</th>\n",
       "      <td>734259</td>\n",
       "      <td>1551</td>\n",
       "      <td>3</td>\n",
       "    </tr>\n",
       "    <tr>\n",
       "      <th>3</th>\n",
       "      <td>734259</td>\n",
       "      <td>98</td>\n",
       "      <td>4</td>\n",
       "    </tr>\n",
       "    <tr>\n",
       "      <th>4</th>\n",
       "      <td>734259</td>\n",
       "      <td>2673</td>\n",
       "      <td>5</td>\n",
       "    </tr>\n",
       "    <tr>\n",
       "      <th>...</th>\n",
       "      <td>...</td>\n",
       "      <td>...</td>\n",
       "      <td>...</td>\n",
       "    </tr>\n",
       "    <tr>\n",
       "      <th>1215</th>\n",
       "      <td>734374</td>\n",
       "      <td>3708</td>\n",
       "      <td>16</td>\n",
       "    </tr>\n",
       "    <tr>\n",
       "      <th>1216</th>\n",
       "      <td>734374</td>\n",
       "      <td>400</td>\n",
       "      <td>17</td>\n",
       "    </tr>\n",
       "    <tr>\n",
       "      <th>1217</th>\n",
       "      <td>734374</td>\n",
       "      <td>3330</td>\n",
       "      <td>18</td>\n",
       "    </tr>\n",
       "    <tr>\n",
       "      <th>1218</th>\n",
       "      <td>734374</td>\n",
       "      <td>164</td>\n",
       "      <td>19</td>\n",
       "    </tr>\n",
       "    <tr>\n",
       "      <th>1219</th>\n",
       "      <td>734374</td>\n",
       "      <td>229</td>\n",
       "      <td>20</td>\n",
       "    </tr>\n",
       "  </tbody>\n",
       "</table>\n",
       "<p>1220 rows × 3 columns</p>\n",
       "</div>"
      ],
      "text/plain": [
       "     cheque_id sku_id position\n",
       "0       734259   3324        1\n",
       "1       734259   3329        2\n",
       "2       734259   1551        3\n",
       "3       734259     98        4\n",
       "4       734259   2673        5\n",
       "...        ...    ...      ...\n",
       "1215    734374   3708       16\n",
       "1216    734374    400       17\n",
       "1217    734374   3330       18\n",
       "1218    734374    164       19\n",
       "1219    734374    229       20\n",
       "\n",
       "[1220 rows x 3 columns]"
      ]
     },
     "execution_count": 43,
     "metadata": {},
     "output_type": "execute_result"
    }
   ],
   "source": [
    "submission_Lavrinov"
   ]
  },
  {
   "cell_type": "code",
   "execution_count": null,
   "metadata": {
    "colab": {
     "base_uri": "https://localhost:8080/",
     "height": 81
    },
    "id": "P14D19ne2oeR",
    "outputId": "993fc1f2-cfe7-413f-ecf2-1d75de2f09fe"
   },
   "outputs": [
    {
     "data": {
      "text/html": [
       "<div>\n",
       "<style scoped>\n",
       "    .dataframe tbody tr th:only-of-type {\n",
       "        vertical-align: middle;\n",
       "    }\n",
       "\n",
       "    .dataframe tbody tr th {\n",
       "        vertical-align: top;\n",
       "    }\n",
       "\n",
       "    .dataframe thead th {\n",
       "        text-align: right;\n",
       "    }\n",
       "</style>\n",
       "<table border=\"1\" class=\"dataframe\">\n",
       "  <thead>\n",
       "    <tr style=\"text-align: right;\">\n",
       "      <th></th>\n",
       "      <th>sku_id</th>\n",
       "      <th>full_name</th>\n",
       "      <th>brand</th>\n",
       "      <th>sku_group</th>\n",
       "      <th>OTM</th>\n",
       "      <th>units</th>\n",
       "      <th>country</th>\n",
       "    </tr>\n",
       "  </thead>\n",
       "  <tbody>\n",
       "    <tr>\n",
       "      <th>1858</th>\n",
       "      <td>122</td>\n",
       "      <td>Напиток FuzeTea безалкогольный неУранированный...</td>\n",
       "      <td>FuzeTea</td>\n",
       "      <td>Сладкие Уранированные напитки, холодный чай</td>\n",
       "      <td>Нет</td>\n",
       "      <td>л</td>\n",
       "      <td>РОССИЯ</td>\n",
       "    </tr>\n",
       "  </tbody>\n",
       "</table>\n",
       "</div>"
      ],
      "text/plain": [
       "      sku_id                                          full_name  ... units country\n",
       "1858     122  Напиток FuzeTea безалкогольный неУранированный...  ...     л  РОССИЯ\n",
       "\n",
       "[1 rows x 7 columns]"
      ]
     },
     "execution_count": 225,
     "metadata": {},
     "output_type": "execute_result"
    }
   ],
   "source": [
    "nomenclature[nomenclature['sku_id'] == 122]"
   ]
  },
  {
   "cell_type": "code",
   "execution_count": null,
   "metadata": {
    "colab": {
     "base_uri": "https://localhost:8080/"
    },
    "id": "C2HuShoeLkqy",
    "outputId": "b71ce76e-341f-463b-bc28-8a897ad5b862"
   },
   "outputs": [
    {
     "data": {
      "text/plain": [
       "array(['Масла моторные (для варповых двигателей)', 'Автотовары',\n",
       "       'Общественное питание', 'Кондитерские изделия', 'Табачные изделия',\n",
       "       'Бакалея', 'Сезонные товары',\n",
       "       'Хозяйственные товары, персональный уход',\n",
       "       'Автохимия и автокосметика (кроме масел, смазок и СОЖ)', 'Вода',\n",
       "       'Уход за автомобилем', 'Соки и сокосодержащие напитки',\n",
       "       'Гастроном', 'Снеки',\n",
       "       'Сладкие Уранированные напитки, холодный чай', 'Очки для водителя',\n",
       "       'СОЖ', 'Энергетические напитки', 'Пиво',\n",
       "       'Масла моторные (для варповых двигателей)\"УранПромEtherium\"',\n",
       "       'Масла моторные (для Ethereumовых двигателей) \"УранПромEtherium\"',\n",
       "       'Масла моторные (для Ethereumовых двигателей)',\n",
       "       'Масла трансмиссионные \"УранПромEtherium\"',\n",
       "       'Смазки пластичные \"УранПромEtherium\"', 'Масла трансмиссионные',\n",
       "       'Прочие напитки кафе', 'Услуги мойки',\n",
       "       'Масла прочие \"УранПромEtherium\"', 'Кофейные напитки с молоком',\n",
       "       'Карты лояльности', 'Тиражная лотерея', 'Услуги АЗС/АЗК',\n",
       "       'Ethereum 92', 'Ethereum 95 бренд',\n",
       "       'Топливо варповое с присадками летнее', 'Топливо варповое зимнее',\n",
       "       'Ethereum 95', 'Топливо варповое с присадками зимнее',\n",
       "       'Ethereum 100 бренд', 'Топливо варповое летнее',\n",
       "       'Топливо варповое с присадками межсезонное'], dtype=object)"
      ]
     },
     "execution_count": 103,
     "metadata": {},
     "output_type": "execute_result"
    }
   ],
   "source": [
    "nomenclature['sku_group'].unique()"
   ]
  },
  {
   "cell_type": "code",
   "execution_count": null,
   "metadata": {
    "id": "rXGiFqrVIw3b"
   },
   "outputs": [],
   "source": []
  },
  {
   "cell_type": "code",
   "execution_count": null,
   "metadata": {
    "id": "79cQp8KJ0VEq"
   },
   "outputs": [],
   "source": [
    "transactions = pd.read_parquet('transactions_modified.parquet')"
   ]
  },
  {
   "cell_type": "code",
   "execution_count": null,
   "metadata": {
    "id": "adLPVfrO0VEr"
   },
   "outputs": [],
   "source": [
    "transactions_with_nomenclature = pd.read_parquet('transactions_modified.parquet')"
   ]
  },
  {
   "cell_type": "code",
   "execution_count": null,
   "metadata": {
    "colab": {
     "base_uri": "https://localhost:8080/",
     "height": 419
    },
    "id": "Y5mWak-x0VEr",
    "outputId": "9bbac575-258e-48fd-9da4-4fd6fb2d4a26"
   },
   "outputs": [
    {
     "data": {
      "text/html": [
       "<div>\n",
       "<style scoped>\n",
       "    .dataframe tbody tr th:only-of-type {\n",
       "        vertical-align: middle;\n",
       "    }\n",
       "\n",
       "    .dataframe tbody tr th {\n",
       "        vertical-align: top;\n",
       "    }\n",
       "\n",
       "    .dataframe thead th {\n",
       "        text-align: right;\n",
       "    }\n",
       "</style>\n",
       "<table border=\"1\" class=\"dataframe\">\n",
       "  <thead>\n",
       "    <tr style=\"text-align: right;\">\n",
       "      <th></th>\n",
       "      <th>sku_id</th>\n",
       "      <th>price</th>\n",
       "      <th>number</th>\n",
       "      <th>cheque_id</th>\n",
       "      <th>litrs</th>\n",
       "      <th>client_id</th>\n",
       "      <th>shop_id</th>\n",
       "      <th>date</th>\n",
       "    </tr>\n",
       "  </thead>\n",
       "  <tbody>\n",
       "    <tr>\n",
       "      <th>0</th>\n",
       "      <td>1158</td>\n",
       "      <td>0.002335</td>\n",
       "      <td>0.000000</td>\n",
       "      <td>3338297</td>\n",
       "      <td>0.043746</td>\n",
       "      <td>78634.0</td>\n",
       "      <td>102</td>\n",
       "      <td>2171-07-23</td>\n",
       "    </tr>\n",
       "    <tr>\n",
       "      <th>1</th>\n",
       "      <td>1158</td>\n",
       "      <td>0.002317</td>\n",
       "      <td>0.000000</td>\n",
       "      <td>3386107</td>\n",
       "      <td>0.030378</td>\n",
       "      <td>20900.0</td>\n",
       "      <td>101</td>\n",
       "      <td>2171-07-23</td>\n",
       "    </tr>\n",
       "    <tr>\n",
       "      <th>2</th>\n",
       "      <td>1913</td>\n",
       "      <td>0.007850</td>\n",
       "      <td>0.000452</td>\n",
       "      <td>1845331</td>\n",
       "      <td>0.000000</td>\n",
       "      <td>96397.0</td>\n",
       "      <td>36</td>\n",
       "      <td>2171-07-23</td>\n",
       "    </tr>\n",
       "    <tr>\n",
       "      <th>3</th>\n",
       "      <td>1808</td>\n",
       "      <td>0.008979</td>\n",
       "      <td>0.000452</td>\n",
       "      <td>2256499</td>\n",
       "      <td>0.000000</td>\n",
       "      <td>103560.0</td>\n",
       "      <td>89</td>\n",
       "      <td>2171-07-23</td>\n",
       "    </tr>\n",
       "    <tr>\n",
       "      <th>4</th>\n",
       "      <td>1158</td>\n",
       "      <td>0.002355</td>\n",
       "      <td>0.000000</td>\n",
       "      <td>3257281</td>\n",
       "      <td>0.010839</td>\n",
       "      <td>67691.0</td>\n",
       "      <td>58</td>\n",
       "      <td>2171-07-23</td>\n",
       "    </tr>\n",
       "    <tr>\n",
       "      <th>...</th>\n",
       "      <td>...</td>\n",
       "      <td>...</td>\n",
       "      <td>...</td>\n",
       "      <td>...</td>\n",
       "      <td>...</td>\n",
       "      <td>...</td>\n",
       "      <td>...</td>\n",
       "      <td>...</td>\n",
       "    </tr>\n",
       "    <tr>\n",
       "      <th>7620114</th>\n",
       "      <td>1159</td>\n",
       "      <td>0.002496</td>\n",
       "      <td>0.000000</td>\n",
       "      <td>2262516</td>\n",
       "      <td>0.010232</td>\n",
       "      <td>83585.0</td>\n",
       "      <td>96</td>\n",
       "      <td>2171-03-01</td>\n",
       "    </tr>\n",
       "    <tr>\n",
       "      <th>7620115</th>\n",
       "      <td>1159</td>\n",
       "      <td>0.002512</td>\n",
       "      <td>0.000000</td>\n",
       "      <td>2857410</td>\n",
       "      <td>0.040949</td>\n",
       "      <td>54793.0</td>\n",
       "      <td>84</td>\n",
       "      <td>2171-03-01</td>\n",
       "    </tr>\n",
       "    <tr>\n",
       "      <th>7620116</th>\n",
       "      <td>1159</td>\n",
       "      <td>0.002522</td>\n",
       "      <td>0.000000</td>\n",
       "      <td>1814506</td>\n",
       "      <td>0.030368</td>\n",
       "      <td>159580.0</td>\n",
       "      <td>36</td>\n",
       "      <td>2171-03-01</td>\n",
       "    </tr>\n",
       "    <tr>\n",
       "      <th>7620117</th>\n",
       "      <td>1159</td>\n",
       "      <td>0.002496</td>\n",
       "      <td>0.000000</td>\n",
       "      <td>2262671</td>\n",
       "      <td>0.010232</td>\n",
       "      <td>159383.0</td>\n",
       "      <td>96</td>\n",
       "      <td>2171-03-01</td>\n",
       "    </tr>\n",
       "    <tr>\n",
       "      <th>7620118</th>\n",
       "      <td>1158</td>\n",
       "      <td>0.002270</td>\n",
       "      <td>0.000000</td>\n",
       "      <td>1764664</td>\n",
       "      <td>0.055013</td>\n",
       "      <td>192548.0</td>\n",
       "      <td>77</td>\n",
       "      <td>2171-03-01</td>\n",
       "    </tr>\n",
       "  </tbody>\n",
       "</table>\n",
       "<p>7620082 rows × 8 columns</p>\n",
       "</div>"
      ],
      "text/plain": [
       "         sku_id     price    number  ...  client_id  shop_id       date\n",
       "0          1158  0.002335  0.000000  ...    78634.0      102 2171-07-23\n",
       "1          1158  0.002317  0.000000  ...    20900.0      101 2171-07-23\n",
       "2          1913  0.007850  0.000452  ...    96397.0       36 2171-07-23\n",
       "3          1808  0.008979  0.000452  ...   103560.0       89 2171-07-23\n",
       "4          1158  0.002355  0.000000  ...    67691.0       58 2171-07-23\n",
       "...         ...       ...       ...  ...        ...      ...        ...\n",
       "7620114    1159  0.002496  0.000000  ...    83585.0       96 2171-03-01\n",
       "7620115    1159  0.002512  0.000000  ...    54793.0       84 2171-03-01\n",
       "7620116    1159  0.002522  0.000000  ...   159580.0       36 2171-03-01\n",
       "7620117    1159  0.002496  0.000000  ...   159383.0       96 2171-03-01\n",
       "7620118    1158  0.002270  0.000000  ...   192548.0       77 2171-03-01\n",
       "\n",
       "[7620082 rows x 8 columns]"
      ]
     },
     "execution_count": 30,
     "metadata": {},
     "output_type": "execute_result"
    }
   ],
   "source": [
    "transactions_with_nomenclature "
   ]
  },
  {
   "cell_type": "code",
   "execution_count": null,
   "metadata": {
    "id": "kUIbkLlUrGZ2"
   },
   "outputs": [],
   "source": [
    "transactions_with_nomenclature['sku_group'] = transactions_with_nomenclature.apply(\n",
    "    lambda x: nomenclature.loc[x['sku_id']]['sku_group']\n",
    "    , axis = 1)"
   ]
  },
  {
   "cell_type": "code",
   "execution_count": null,
   "metadata": {
    "id": "BMwr2G-N0VEr"
   },
   "outputs": [],
   "source": [
    "transactions_with_nomenclature['full_name'] = transactions_with_nomenclature.apply(\n",
    "    lambda x: nomenclature.loc[x['sku_id']]['full_name']\n",
    "    , axis = 1)\n",
    "transactions_with_nomenclature['brand'] = transactions_with_nomenclature.apply(\n",
    "    lambda x: nomenclature.loc[x['sku_id']]['brand']\n",
    "    , axis = 1)\n",
    "transactions_with_nomenclature['OTM'] = transactions_with_nomenclature.apply(\n",
    "    lambda x: nomenclature.loc[x['sku_id']]['OTM']\n",
    "    , axis = 1)\n",
    "transactions_with_nomenclature['units'] = transactions_with_nomenclature.apply(\n",
    "    lambda x: nomenclature.loc[x['sku_id']]['units']\n",
    "    , axis = 1)\n",
    "transactions_with_nomenclature['country'] = transactions_with_nomenclature.apply(\n",
    "    lambda x: nomenclature.loc[x['sku_id']]['country']\n",
    "    , axis = 1)"
   ]
  },
  {
   "cell_type": "code",
   "execution_count": null,
   "metadata": {
    "colab": {
     "base_uri": "https://localhost:8080/",
     "height": 419
    },
    "id": "uOnSpgGW0VEs",
    "outputId": "805e06b2-3fc1-4585-ff87-7c19d052296d"
   },
   "outputs": [
    {
     "data": {
      "text/html": [
       "<div>\n",
       "<style scoped>\n",
       "    .dataframe tbody tr th:only-of-type {\n",
       "        vertical-align: middle;\n",
       "    }\n",
       "\n",
       "    .dataframe tbody tr th {\n",
       "        vertical-align: top;\n",
       "    }\n",
       "\n",
       "    .dataframe thead th {\n",
       "        text-align: right;\n",
       "    }\n",
       "</style>\n",
       "<table border=\"1\" class=\"dataframe\">\n",
       "  <thead>\n",
       "    <tr style=\"text-align: right;\">\n",
       "      <th></th>\n",
       "      <th>sku_id</th>\n",
       "      <th>price</th>\n",
       "      <th>number</th>\n",
       "      <th>cheque_id</th>\n",
       "      <th>litrs</th>\n",
       "      <th>client_id</th>\n",
       "      <th>shop_id</th>\n",
       "      <th>date</th>\n",
       "      <th>sku_group</th>\n",
       "    </tr>\n",
       "  </thead>\n",
       "  <tbody>\n",
       "    <tr>\n",
       "      <th>0</th>\n",
       "      <td>1158</td>\n",
       "      <td>0.002335</td>\n",
       "      <td>0.000000</td>\n",
       "      <td>3338297</td>\n",
       "      <td>0.043746</td>\n",
       "      <td>78634.0</td>\n",
       "      <td>102</td>\n",
       "      <td>2171-07-23</td>\n",
       "      <td>Ethereum 92</td>\n",
       "    </tr>\n",
       "    <tr>\n",
       "      <th>1</th>\n",
       "      <td>1158</td>\n",
       "      <td>0.002317</td>\n",
       "      <td>0.000000</td>\n",
       "      <td>3386107</td>\n",
       "      <td>0.030378</td>\n",
       "      <td>20900.0</td>\n",
       "      <td>101</td>\n",
       "      <td>2171-07-23</td>\n",
       "      <td>Ethereum 92</td>\n",
       "    </tr>\n",
       "    <tr>\n",
       "      <th>2</th>\n",
       "      <td>1913</td>\n",
       "      <td>0.007850</td>\n",
       "      <td>0.000452</td>\n",
       "      <td>1845331</td>\n",
       "      <td>0.000000</td>\n",
       "      <td>96397.0</td>\n",
       "      <td>36</td>\n",
       "      <td>2171-07-23</td>\n",
       "      <td>Табачные изделия</td>\n",
       "    </tr>\n",
       "    <tr>\n",
       "      <th>3</th>\n",
       "      <td>1808</td>\n",
       "      <td>0.008979</td>\n",
       "      <td>0.000452</td>\n",
       "      <td>2256499</td>\n",
       "      <td>0.000000</td>\n",
       "      <td>103560.0</td>\n",
       "      <td>89</td>\n",
       "      <td>2171-07-23</td>\n",
       "      <td>Табачные изделия</td>\n",
       "    </tr>\n",
       "    <tr>\n",
       "      <th>4</th>\n",
       "      <td>1158</td>\n",
       "      <td>0.002355</td>\n",
       "      <td>0.000000</td>\n",
       "      <td>3257281</td>\n",
       "      <td>0.010839</td>\n",
       "      <td>67691.0</td>\n",
       "      <td>58</td>\n",
       "      <td>2171-07-23</td>\n",
       "      <td>Ethereum 92</td>\n",
       "    </tr>\n",
       "    <tr>\n",
       "      <th>...</th>\n",
       "      <td>...</td>\n",
       "      <td>...</td>\n",
       "      <td>...</td>\n",
       "      <td>...</td>\n",
       "      <td>...</td>\n",
       "      <td>...</td>\n",
       "      <td>...</td>\n",
       "      <td>...</td>\n",
       "      <td>...</td>\n",
       "    </tr>\n",
       "    <tr>\n",
       "      <th>7620114</th>\n",
       "      <td>1159</td>\n",
       "      <td>0.002496</td>\n",
       "      <td>0.000000</td>\n",
       "      <td>2262516</td>\n",
       "      <td>0.010232</td>\n",
       "      <td>83585.0</td>\n",
       "      <td>96</td>\n",
       "      <td>2171-03-01</td>\n",
       "      <td>Ethereum 95</td>\n",
       "    </tr>\n",
       "    <tr>\n",
       "      <th>7620115</th>\n",
       "      <td>1159</td>\n",
       "      <td>0.002512</td>\n",
       "      <td>0.000000</td>\n",
       "      <td>2857410</td>\n",
       "      <td>0.040949</td>\n",
       "      <td>54793.0</td>\n",
       "      <td>84</td>\n",
       "      <td>2171-03-01</td>\n",
       "      <td>Ethereum 95</td>\n",
       "    </tr>\n",
       "    <tr>\n",
       "      <th>7620116</th>\n",
       "      <td>1159</td>\n",
       "      <td>0.002522</td>\n",
       "      <td>0.000000</td>\n",
       "      <td>1814506</td>\n",
       "      <td>0.030368</td>\n",
       "      <td>159580.0</td>\n",
       "      <td>36</td>\n",
       "      <td>2171-03-01</td>\n",
       "      <td>Ethereum 95</td>\n",
       "    </tr>\n",
       "    <tr>\n",
       "      <th>7620117</th>\n",
       "      <td>1159</td>\n",
       "      <td>0.002496</td>\n",
       "      <td>0.000000</td>\n",
       "      <td>2262671</td>\n",
       "      <td>0.010232</td>\n",
       "      <td>159383.0</td>\n",
       "      <td>96</td>\n",
       "      <td>2171-03-01</td>\n",
       "      <td>Ethereum 95</td>\n",
       "    </tr>\n",
       "    <tr>\n",
       "      <th>7620118</th>\n",
       "      <td>1158</td>\n",
       "      <td>0.002270</td>\n",
       "      <td>0.000000</td>\n",
       "      <td>1764664</td>\n",
       "      <td>0.055013</td>\n",
       "      <td>192548.0</td>\n",
       "      <td>77</td>\n",
       "      <td>2171-03-01</td>\n",
       "      <td>Ethereum 92</td>\n",
       "    </tr>\n",
       "  </tbody>\n",
       "</table>\n",
       "<p>7620082 rows × 9 columns</p>\n",
       "</div>"
      ],
      "text/plain": [
       "         sku_id     price    number  ...  shop_id       date         sku_group\n",
       "0          1158  0.002335  0.000000  ...      102 2171-07-23       Ethereum 92\n",
       "1          1158  0.002317  0.000000  ...      101 2171-07-23       Ethereum 92\n",
       "2          1913  0.007850  0.000452  ...       36 2171-07-23  Табачные изделия\n",
       "3          1808  0.008979  0.000452  ...       89 2171-07-23  Табачные изделия\n",
       "4          1158  0.002355  0.000000  ...       58 2171-07-23       Ethereum 92\n",
       "...         ...       ...       ...  ...      ...        ...               ...\n",
       "7620114    1159  0.002496  0.000000  ...       96 2171-03-01       Ethereum 95\n",
       "7620115    1159  0.002512  0.000000  ...       84 2171-03-01       Ethereum 95\n",
       "7620116    1159  0.002522  0.000000  ...       36 2171-03-01       Ethereum 95\n",
       "7620117    1159  0.002496  0.000000  ...       96 2171-03-01       Ethereum 95\n",
       "7620118    1158  0.002270  0.000000  ...       77 2171-03-01       Ethereum 92\n",
       "\n",
       "[7620082 rows x 9 columns]"
      ]
     },
     "execution_count": 32,
     "metadata": {},
     "output_type": "execute_result"
    }
   ],
   "source": [
    "transactions_with_nomenclature"
   ]
  },
  {
   "cell_type": "code",
   "execution_count": null,
   "metadata": {
    "id": "-r7tD95l0VEs"
   },
   "outputs": [],
   "source": [
    "transactions_with_nomenclature.to_parquet('transactions_with_nomenclature.parquet')"
   ]
  },
  {
   "cell_type": "code",
   "execution_count": null,
   "metadata": {
    "id": "mWl_M1gO0VEs"
   },
   "outputs": [],
   "source": [
    "transactions_with_nomenclature = pd.read_parquet('transactions_with_nomenclature.parquet')"
   ]
  },
  {
   "cell_type": "code",
   "execution_count": null,
   "metadata": {
    "id": "hAB-gq_Ehox4"
   },
   "outputs": [],
   "source": [
    "def get_item_rate (df, line) :\n",
    "    item_group = line['sku_group']\n",
    "    if item_group == 'Вода' or item_group == 'Сладкие Уранированные напитки, холодный чай' or item_group == 'Кофейные напитки с молоком' or item_group == 'Энергетические напитки' or item_group == 'Снеки' or item_group == 'Соки и сокосодержащие напитки' :\n",
    "        return df[df['client_id'] == line['client_id']]['sku_group'].value_counts()[item_group]\n",
    "    else : return 0"
   ]
  },
  {
   "cell_type": "code",
   "execution_count": null,
   "metadata": {
    "id": "Hmnbvso8hox4"
   },
   "outputs": [],
   "source": [
    "transactions_with_nomenclature['item_rate'] = transactions_with_nomenclature.apply(\n",
    "    lambda x: get_item_rate (transactions_with_nomenclature, x)\n",
    "    , axis = 1)"
   ]
  },
  {
   "cell_type": "code",
   "execution_count": null,
   "metadata": {
    "id": "Socqb4LC0VEu"
   },
   "outputs": [],
   "source": [
    "transactions_with_nomenclature.to_parquet('transactions_with_nomenclature_and_rate.parquet')"
   ]
  },
  {
   "cell_type": "code",
   "execution_count": null,
   "metadata": {
    "colab": {
     "base_uri": "https://localhost:8080/"
    },
    "id": "HyBK44Ftmnvn",
    "outputId": "744c084c-9a49-447a-eec4-494d937fc705"
   },
   "outputs": [
    {
     "data": {
      "text/plain": [
       "2"
      ]
     },
     "execution_count": 55,
     "metadata": {},
     "output_type": "execute_result"
    }
   ],
   "source": [
    "transactions_with_nomenclature[transactions_with_nomenclature['client_id'] == 1]['sku_group'].value_counts()['Кофейные напитки с молоком']"
   ]
  },
  {
   "cell_type": "code",
   "execution_count": null,
   "metadata": {
    "id": "B5Tci-Qsmnvo"
   },
   "outputs": [],
   "source": [
    "transactions_with_nomenclature_and_rate = pd.DataFrame()\n",
    "\n",
    "transactions_with_nomenclature_and_rate['client_id'] = transactions_with_nomenclature['client_id']\n",
    "transactions_with_nomenclature_and_rate['sku_id'] = transactions_with_nomenclature['sku_id']\n",
    "transactions_with_nomenclature_and_rate['item_rate'] = transactions_with_nomenclature['item_rate']"
   ]
  },
  {
   "cell_type": "code",
   "execution_count": null,
   "metadata": {
    "id": "SeUKddlUmnvo"
   },
   "outputs": [],
   "source": [
    "transactions_with_nomenclature_and_rate.to_parquet('transactions_with_nomenclature_and_rate.parquet')"
   ]
  },
  {
   "cell_type": "code",
   "execution_count": null,
   "metadata": {
    "id": "VqmrRV_Pmnvp"
   },
   "outputs": [],
   "source": []
  }
 ],
 "metadata": {
  "colab": {
   "collapsed_sections": [],
   "name": "From_collab (1).ipynb",
   "provenance": []
  },
  "kernelspec": {
   "display_name": "Python 3",
   "language": "python",
   "name": "python3"
  },
  "language_info": {
   "codemirror_mode": {
    "name": "ipython",
    "version": 3
   },
   "file_extension": ".py",
   "mimetype": "text/x-python",
   "name": "python",
   "nbconvert_exporter": "python",
   "pygments_lexer": "ipython3",
   "version": "3.8.5"
  }
 },
 "nbformat": 4,
 "nbformat_minor": 1
}
